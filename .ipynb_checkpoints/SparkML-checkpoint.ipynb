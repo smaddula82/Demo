{
 "cells": [
  {
   "cell_type": "markdown",
   "metadata": {
    "id": "SxpuObXWJVIJ"
   },
   "source": [
    "## Install PySpark"
   ]
  },
  {
   "cell_type": "code",
   "execution_count": 1,
   "metadata": {
    "colab": {
     "base_uri": "https://localhost:8080/"
    },
    "executionInfo": {
     "elapsed": 7158,
     "status": "ok",
     "timestamp": 1673874042985,
     "user": {
      "displayName": "V. Arun Kumar",
      "userId": "02991517788843717529"
     },
     "user_tz": -330
    },
    "id": "1ewAheUmHIJx",
    "outputId": "fb0fba8c-3b99-4ec5-a2ee-78379fab1d08"
   },
   "outputs": [
    {
     "name": "stdout",
     "output_type": "stream",
     "text": [
      "\u001b[33m\r",
      "0% [Working]\u001b[0m\r",
      "            \r",
      "Hit:1 http://archive.ubuntu.com/ubuntu bionic InRelease\n",
      "\u001b[33m\r",
      "0% [Waiting for headers] [Waiting for headers] [Connected to cloud.r-project.or\u001b[0m\r",
      "                                                                               \r",
      "Get:2 http://archive.ubuntu.com/ubuntu bionic-updates InRelease [88.7 kB]\n",
      "\r",
      "                                                                               \r",
      "Get:3 http://security.ubuntu.com/ubuntu bionic-security InRelease [88.7 kB]\n",
      "\r",
      "                                                                               \r",
      "Hit:4 http://ppa.launchpad.net/c2d4u.team/c2d4u4.0+/ubuntu bionic InRelease\n",
      "\u001b[33m\r",
      "0% [2 InRelease 15.6 kB/88.7 kB 18%] [3 InRelease 40.2 kB/88.7 kB 45%] [Connect\u001b[0m\u001b[33m\r",
      "0% [1 InRelease gpgv 242 kB] [2 InRelease 15.6 kB/88.7 kB 18%] [3 InRelease 43.\u001b[0m\r",
      "                                                                               \r",
      "Hit:5 https://cloud.r-project.org/bin/linux/ubuntu bionic-cran40/ InRelease\n",
      "\u001b[33m\r",
      "0% [1 InRelease gpgv 242 kB] [2 InRelease 27.2 kB/88.7 kB 31%] [3 InRelease 53.\u001b[0m\r",
      "                                                                               \r",
      "Hit:6 http://ppa.launchpad.net/cran/libgit2/ubuntu bionic InRelease\n",
      "\u001b[33m\r",
      "0% [1 InRelease gpgv 242 kB] [2 InRelease 33.0 kB/88.7 kB 37%] [3 InRelease 62.\u001b[0m\u001b[33m\r",
      "0% [1 InRelease gpgv 242 kB] [2 InRelease 64.9 kB/88.7 kB 73%] [Waiting for hea\u001b[0m\u001b[33m\r",
      "0% [1 InRelease gpgv 242 kB] [Waiting for headers] [Waiting for headers] [Waiti\u001b[0m\r",
      "                                                                               \r",
      "Hit:7 http://ppa.launchpad.net/deadsnakes/ppa/ubuntu bionic InRelease\n",
      "\u001b[33m\r",
      "0% [1 InRelease gpgv 242 kB] [Waiting for headers] [Waiting for headers] [Conne\u001b[0m\r",
      "                                                                               \r",
      "Get:8 http://archive.ubuntu.com/ubuntu bionic-backports InRelease [83.3 kB]\n",
      "Hit:9 http://ppa.launchpad.net/graphics-drivers/ppa/ubuntu bionic InRelease\n",
      "Ign:10 https://developer.download.nvidia.com/compute/machine-learning/repos/ubuntu1804/x86_64  InRelease\n",
      "Hit:11 https://developer.download.nvidia.com/compute/cuda/repos/ubuntu1804/x86_64  InRelease\n",
      "Hit:12 https://developer.download.nvidia.com/compute/machine-learning/repos/ubuntu1804/x86_64  Release\n",
      "Fetched 261 kB in 1s (212 kB/s)\n",
      "Reading package lists... Done\n",
      "Building dependency tree       \n",
      "Reading state information... Done\n",
      "30 packages can be upgraded. Run 'apt list --upgradable' to see them.\n"
     ]
    }
   ],
   "source": [
    "!sudo apt update\n",
    "!apt-get install openjdk-8-jdk-headless -qq > /dev/null\n",
    "!wget -q https://dlcdn.apache.org/spark/spark-3.3.1/spark-3.3.1-bin-hadoop3.tgz"
   ]
  },
  {
   "cell_type": "code",
   "execution_count": 2,
   "metadata": {
    "colab": {
     "base_uri": "https://localhost:8080/"
    },
    "executionInfo": {
     "elapsed": 15611,
     "status": "ok",
     "timestamp": 1673874058592,
     "user": {
      "displayName": "V. Arun Kumar",
      "userId": "02991517788843717529"
     },
     "user_tz": -330
    },
    "id": "dxspo3pYHNk3",
    "outputId": "24866455-9bc5-4aa1-d9cb-ec963d4ecc49"
   },
   "outputs": [
    {
     "name": "stdout",
     "output_type": "stream",
     "text": [
      "Looking in indexes: https://pypi.org/simple, https://us-python.pkg.dev/colab-wheels/public/simple/\n",
      "Requirement already satisfied: pyspark in /usr/local/lib/python3.8/dist-packages (3.3.1)\n",
      "Requirement already satisfied: py4j==0.10.9.5 in /usr/local/lib/python3.8/dist-packages (from pyspark) (0.10.9.5)\n"
     ]
    }
   ],
   "source": [
    "!tar xf spark-3.3.1-bin-hadoop3.tgz\n",
    "!pip install -q findspark\n",
    "!pip install pyspark"
   ]
  },
  {
   "cell_type": "code",
   "execution_count": 3,
   "metadata": {
    "executionInfo": {
     "elapsed": 11,
     "status": "ok",
     "timestamp": 1673874058593,
     "user": {
      "displayName": "V. Arun Kumar",
      "userId": "02991517788843717529"
     },
     "user_tz": -330
    },
    "id": "GzQ4JG6iHLeb"
   },
   "outputs": [],
   "source": [
    "import os\n",
    "os.environ[\"JAVA_HOME\"] = \"/usr/lib/jvm/java-8-openjdk-amd64\"\n",
    "os.environ[\"SPARK_HOME\"] = \"/content/spark-3.3.1-bin-hadoop3\""
   ]
  },
  {
   "cell_type": "code",
   "execution_count": 1,
   "metadata": {
    "colab": {
     "base_uri": "https://localhost:8080/",
     "height": 36
    },
    "executionInfo": {
     "elapsed": 13,
     "status": "ok",
     "timestamp": 1673874058597,
     "user": {
      "displayName": "V. Arun Kumar",
      "userId": "02991517788843717529"
     },
     "user_tz": -330
    },
    "id": "I6epypOcHQHU",
    "outputId": "70974e03-a199-44b8-c416-72927d48ea5c"
   },
   "outputs": [
    {
     "data": {
      "text/plain": [
       "'/home/subbu/spark-3.3.1-bin-hadoop3'"
      ]
     },
     "execution_count": 1,
     "metadata": {},
     "output_type": "execute_result"
    }
   ],
   "source": [
    "import findspark\n",
    "findspark.init()\n",
    "findspark.find()"
   ]
  },
  {
   "cell_type": "code",
   "execution_count": 5,
   "metadata": {
    "colab": {
     "base_uri": "https://localhost:8080/",
     "height": 219
    },
    "executionInfo": {
     "elapsed": 9076,
     "status": "ok",
     "timestamp": 1673874067663,
     "user": {
      "displayName": "V. Arun Kumar",
      "userId": "02991517788843717529"
     },
     "user_tz": -330
    },
    "id": "mtVeA1a-HRb8",
    "outputId": "3d3b6049-a8c9-410b-d6c2-02d48340634d"
   },
   "outputs": [
    {
     "data": {
      "text/html": [
       "\n",
       "            <div>\n",
       "                <p><b>SparkSession - in-memory</b></p>\n",
       "                \n",
       "        <div>\n",
       "            <p><b>SparkContext</b></p>\n",
       "\n",
       "            <p><a href=\"http://f685734b50f5:4040\">Spark UI</a></p>\n",
       "\n",
       "            <dl>\n",
       "              <dt>Version</dt>\n",
       "                <dd><code>v3.3.1</code></dd>\n",
       "              <dt>Master</dt>\n",
       "                <dd><code>local[*]</code></dd>\n",
       "              <dt>AppName</dt>\n",
       "                <dd><code>Our First Spark example</code></dd>\n",
       "            </dl>\n",
       "        </div>\n",
       "        \n",
       "            </div>\n",
       "        "
      ],
      "text/plain": [
       "<pyspark.sql.session.SparkSession at 0x7f3d0af5ac10>"
      ]
     },
     "execution_count": 5,
     "metadata": {},
     "output_type": "execute_result"
    }
   ],
   "source": [
    "from pyspark.sql import DataFrame, SparkSession\n",
    "from typing import List\n",
    "import pyspark.sql.types as T\n",
    "import pyspark.sql.functions as F\n",
    "from pyspark import SparkFiles\n",
    "\n",
    "\n",
    "spark = SparkSession \\\n",
    "       .builder \\\n",
    "       .appName(\"Our First Spark example\") \\\n",
    "       .getOrCreate()\n",
    "\n",
    "spark"
   ]
  },
  {
   "cell_type": "markdown",
   "metadata": {
    "id": "kVqCnrPIJRPp"
   },
   "source": [
    "## Read Data"
   ]
  },
  {
   "cell_type": "code",
   "execution_count": 6,
   "metadata": {
    "executionInfo": {
     "elapsed": 6,
     "status": "ok",
     "timestamp": 1673874067664,
     "user": {
      "displayName": "V. Arun Kumar",
      "userId": "02991517788843717529"
     },
     "user_tz": -330
    },
    "id": "ipUgiwZvHnsH"
   },
   "outputs": [],
   "source": [
    "spark=SparkSession.builder.getOrCreate()\n",
    "## ensure to use the link of the raw file of the csv\n",
    "url = \"https://raw.githubusercontent.com/VAKGL/SparkML-and-SparkSQL/main/SparkML/HeartStroke.csv\" # Make sure the url is the raw version of the file on GitHub\n"
   ]
  },
  {
   "cell_type": "code",
   "execution_count": 7,
   "metadata": {
    "executionInfo": {
     "elapsed": 776,
     "status": "ok",
     "timestamp": 1673874068435,
     "user": {
      "displayName": "V. Arun Kumar",
      "userId": "02991517788843717529"
     },
     "user_tz": -330
    },
    "id": "RbtT_4LqjnNX"
   },
   "outputs": [],
   "source": [
    "spark.sparkContext.addFile(url)"
   ]
  },
  {
   "cell_type": "code",
   "execution_count": 8,
   "metadata": {
    "executionInfo": {
     "elapsed": 14889,
     "status": "ok",
     "timestamp": 1673874083323,
     "user": {
      "displayName": "V. Arun Kumar",
      "userId": "02991517788843717529"
     },
     "user_tz": -330
    },
    "id": "REKMS7CnkVMG"
   },
   "outputs": [],
   "source": [
    "# Reading the downloaded content and turning it into a pandas dataframe\n",
    "\n",
    "df = spark.read.csv(SparkFiles.get(\"HeartStroke.csv\"),inferSchema=True, header= True)"
   ]
  },
  {
   "cell_type": "code",
   "execution_count": 9,
   "metadata": {
    "colab": {
     "base_uri": "https://localhost:8080/"
    },
    "executionInfo": {
     "elapsed": 809,
     "status": "ok",
     "timestamp": 1673874084121,
     "user": {
      "displayName": "V. Arun Kumar",
      "userId": "02991517788843717529"
     },
     "user_tz": -330
    },
    "id": "0QtW69lJJvc_",
    "outputId": "182e40dc-e2a7-4fcc-ae35-b1ab0c1969c6"
   },
   "outputs": [
    {
     "name": "stdout",
     "output_type": "stream",
     "text": [
      "+------+----+--------+------------+------+-------------+---------------+-----+\n",
      "|gender| age|diabetes|hypertension|stroke|heart_disease|smoking_history|  BMI|\n",
      "+------+----+--------+------------+------+-------------+---------------+-----+\n",
      "|Female|80.0|       0|           0|    No|          Yes|          never|25.19|\n",
      "|Female|54.0|       0|           0|    No|           No|           null| null|\n",
      "|  Male|28.0|       0|           0|    No|           No|          never| null|\n",
      "|Female|36.0|       0|           0|    No|           No|        current|23.45|\n",
      "|  Male|76.0|       0|           1|    No|          Yes|        current|20.14|\n",
      "+------+----+--------+------------+------+-------------+---------------+-----+\n",
      "only showing top 5 rows\n",
      "\n"
     ]
    }
   ],
   "source": [
    "df.show(5)"
   ]
  },
  {
   "cell_type": "code",
   "execution_count": 10,
   "metadata": {
    "colab": {
     "base_uri": "https://localhost:8080/"
    },
    "executionInfo": {
     "elapsed": 5,
     "status": "ok",
     "timestamp": 1673874084121,
     "user": {
      "displayName": "V. Arun Kumar",
      "userId": "02991517788843717529"
     },
     "user_tz": -330
    },
    "id": "l4TRjRALLLWV",
    "outputId": "71ff5430-3801-4a1c-bbc0-1f1f505a6118"
   },
   "outputs": [
    {
     "data": {
      "text/plain": [
       "pyspark.sql.dataframe.DataFrame"
      ]
     },
     "execution_count": 10,
     "metadata": {},
     "output_type": "execute_result"
    }
   ],
   "source": [
    "type(df)"
   ]
  },
  {
   "cell_type": "code",
   "execution_count": 11,
   "metadata": {
    "colab": {
     "base_uri": "https://localhost:8080/"
    },
    "executionInfo": {
     "elapsed": 4,
     "status": "ok",
     "timestamp": 1673874084121,
     "user": {
      "displayName": "V. Arun Kumar",
      "userId": "02991517788843717529"
     },
     "user_tz": -330
    },
    "id": "gmzJgA4Sktm5",
    "outputId": "15c36cdd-06a1-4f93-8446-8d674a08af38"
   },
   "outputs": [
    {
     "name": "stdout",
     "output_type": "stream",
     "text": [
      "root\n",
      " |-- gender: string (nullable = true)\n",
      " |-- age: double (nullable = true)\n",
      " |-- diabetes: integer (nullable = true)\n",
      " |-- hypertension: integer (nullable = true)\n",
      " |-- stroke: string (nullable = true)\n",
      " |-- heart_disease: string (nullable = true)\n",
      " |-- smoking_history: string (nullable = true)\n",
      " |-- BMI: double (nullable = true)\n",
      "\n"
     ]
    }
   ],
   "source": [
    "df.printSchema()"
   ]
  },
  {
   "cell_type": "code",
   "execution_count": 12,
   "metadata": {
    "colab": {
     "base_uri": "https://localhost:8080/",
     "height": 206
    },
    "executionInfo": {
     "elapsed": 7153,
     "status": "ok",
     "timestamp": 1673874091272,
     "user": {
      "displayName": "V. Arun Kumar",
      "userId": "02991517788843717529"
     },
     "user_tz": -330
    },
    "id": "Db3rYEwDQukn",
    "outputId": "0ccffcc7-a5ad-40f9-a939-1a566c102977"
   },
   "outputs": [
    {
     "data": {
      "text/html": [
       "\n",
       "  <div id=\"df-aa7bb68d-e019-4913-bdcf-2e51f3459b53\">\n",
       "    <div class=\"colab-df-container\">\n",
       "      <div>\n",
       "<style scoped>\n",
       "    .dataframe tbody tr th:only-of-type {\n",
       "        vertical-align: middle;\n",
       "    }\n",
       "\n",
       "    .dataframe tbody tr th {\n",
       "        vertical-align: top;\n",
       "    }\n",
       "\n",
       "    .dataframe thead th {\n",
       "        text-align: right;\n",
       "    }\n",
       "</style>\n",
       "<table border=\"1\" class=\"dataframe\">\n",
       "  <thead>\n",
       "    <tr style=\"text-align: right;\">\n",
       "      <th></th>\n",
       "      <th>gender</th>\n",
       "      <th>age</th>\n",
       "      <th>diabetes</th>\n",
       "      <th>hypertension</th>\n",
       "      <th>stroke</th>\n",
       "      <th>heart_disease</th>\n",
       "      <th>smoking_history</th>\n",
       "      <th>BMI</th>\n",
       "    </tr>\n",
       "  </thead>\n",
       "  <tbody>\n",
       "    <tr>\n",
       "      <th>0</th>\n",
       "      <td>Female</td>\n",
       "      <td>80.0</td>\n",
       "      <td>0</td>\n",
       "      <td>0</td>\n",
       "      <td>No</td>\n",
       "      <td>Yes</td>\n",
       "      <td>never</td>\n",
       "      <td>25.19</td>\n",
       "    </tr>\n",
       "    <tr>\n",
       "      <th>1</th>\n",
       "      <td>Female</td>\n",
       "      <td>54.0</td>\n",
       "      <td>0</td>\n",
       "      <td>0</td>\n",
       "      <td>No</td>\n",
       "      <td>No</td>\n",
       "      <td>None</td>\n",
       "      <td>NaN</td>\n",
       "    </tr>\n",
       "    <tr>\n",
       "      <th>2</th>\n",
       "      <td>Male</td>\n",
       "      <td>28.0</td>\n",
       "      <td>0</td>\n",
       "      <td>0</td>\n",
       "      <td>No</td>\n",
       "      <td>No</td>\n",
       "      <td>never</td>\n",
       "      <td>NaN</td>\n",
       "    </tr>\n",
       "    <tr>\n",
       "      <th>3</th>\n",
       "      <td>Female</td>\n",
       "      <td>36.0</td>\n",
       "      <td>0</td>\n",
       "      <td>0</td>\n",
       "      <td>No</td>\n",
       "      <td>No</td>\n",
       "      <td>current</td>\n",
       "      <td>23.45</td>\n",
       "    </tr>\n",
       "    <tr>\n",
       "      <th>4</th>\n",
       "      <td>Male</td>\n",
       "      <td>76.0</td>\n",
       "      <td>0</td>\n",
       "      <td>1</td>\n",
       "      <td>No</td>\n",
       "      <td>Yes</td>\n",
       "      <td>current</td>\n",
       "      <td>20.14</td>\n",
       "    </tr>\n",
       "  </tbody>\n",
       "</table>\n",
       "</div>\n",
       "      <button class=\"colab-df-convert\" onclick=\"convertToInteractive('df-aa7bb68d-e019-4913-bdcf-2e51f3459b53')\"\n",
       "              title=\"Convert this dataframe to an interactive table.\"\n",
       "              style=\"display:none;\">\n",
       "        \n",
       "  <svg xmlns=\"http://www.w3.org/2000/svg\" height=\"24px\"viewBox=\"0 0 24 24\"\n",
       "       width=\"24px\">\n",
       "    <path d=\"M0 0h24v24H0V0z\" fill=\"none\"/>\n",
       "    <path d=\"M18.56 5.44l.94 2.06.94-2.06 2.06-.94-2.06-.94-.94-2.06-.94 2.06-2.06.94zm-11 1L8.5 8.5l.94-2.06 2.06-.94-2.06-.94L8.5 2.5l-.94 2.06-2.06.94zm10 10l.94 2.06.94-2.06 2.06-.94-2.06-.94-.94-2.06-.94 2.06-2.06.94z\"/><path d=\"M17.41 7.96l-1.37-1.37c-.4-.4-.92-.59-1.43-.59-.52 0-1.04.2-1.43.59L10.3 9.45l-7.72 7.72c-.78.78-.78 2.05 0 2.83L4 21.41c.39.39.9.59 1.41.59.51 0 1.02-.2 1.41-.59l7.78-7.78 2.81-2.81c.8-.78.8-2.07 0-2.86zM5.41 20L4 18.59l7.72-7.72 1.47 1.35L5.41 20z\"/>\n",
       "  </svg>\n",
       "      </button>\n",
       "      \n",
       "  <style>\n",
       "    .colab-df-container {\n",
       "      display:flex;\n",
       "      flex-wrap:wrap;\n",
       "      gap: 12px;\n",
       "    }\n",
       "\n",
       "    .colab-df-convert {\n",
       "      background-color: #E8F0FE;\n",
       "      border: none;\n",
       "      border-radius: 50%;\n",
       "      cursor: pointer;\n",
       "      display: none;\n",
       "      fill: #1967D2;\n",
       "      height: 32px;\n",
       "      padding: 0 0 0 0;\n",
       "      width: 32px;\n",
       "    }\n",
       "\n",
       "    .colab-df-convert:hover {\n",
       "      background-color: #E2EBFA;\n",
       "      box-shadow: 0px 1px 2px rgba(60, 64, 67, 0.3), 0px 1px 3px 1px rgba(60, 64, 67, 0.15);\n",
       "      fill: #174EA6;\n",
       "    }\n",
       "\n",
       "    [theme=dark] .colab-df-convert {\n",
       "      background-color: #3B4455;\n",
       "      fill: #D2E3FC;\n",
       "    }\n",
       "\n",
       "    [theme=dark] .colab-df-convert:hover {\n",
       "      background-color: #434B5C;\n",
       "      box-shadow: 0px 1px 3px 1px rgba(0, 0, 0, 0.15);\n",
       "      filter: drop-shadow(0px 1px 2px rgba(0, 0, 0, 0.3));\n",
       "      fill: #FFFFFF;\n",
       "    }\n",
       "  </style>\n",
       "\n",
       "      <script>\n",
       "        const buttonEl =\n",
       "          document.querySelector('#df-aa7bb68d-e019-4913-bdcf-2e51f3459b53 button.colab-df-convert');\n",
       "        buttonEl.style.display =\n",
       "          google.colab.kernel.accessAllowed ? 'block' : 'none';\n",
       "\n",
       "        async function convertToInteractive(key) {\n",
       "          const element = document.querySelector('#df-aa7bb68d-e019-4913-bdcf-2e51f3459b53');\n",
       "          const dataTable =\n",
       "            await google.colab.kernel.invokeFunction('convertToInteractive',\n",
       "                                                     [key], {});\n",
       "          if (!dataTable) return;\n",
       "\n",
       "          const docLinkHtml = 'Like what you see? Visit the ' +\n",
       "            '<a target=\"_blank\" href=https://colab.research.google.com/notebooks/data_table.ipynb>data table notebook</a>'\n",
       "            + ' to learn more about interactive tables.';\n",
       "          element.innerHTML = '';\n",
       "          dataTable['output_type'] = 'display_data';\n",
       "          await google.colab.output.renderOutput(dataTable, element);\n",
       "          const docLink = document.createElement('div');\n",
       "          docLink.innerHTML = docLinkHtml;\n",
       "          element.appendChild(docLink);\n",
       "        }\n",
       "      </script>\n",
       "    </div>\n",
       "  </div>\n",
       "  "
      ],
      "text/plain": [
       "   gender   age  diabetes  hypertension stroke heart_disease smoking_history  \\\n",
       "0  Female  80.0         0             0     No           Yes           never   \n",
       "1  Female  54.0         0             0     No            No            None   \n",
       "2    Male  28.0         0             0     No            No           never   \n",
       "3  Female  36.0         0             0     No            No         current   \n",
       "4    Male  76.0         0             1     No           Yes         current   \n",
       "\n",
       "     BMI  \n",
       "0  25.19  \n",
       "1    NaN  \n",
       "2    NaN  \n",
       "3  23.45  \n",
       "4  20.14  "
      ]
     },
     "execution_count": 12,
     "metadata": {},
     "output_type": "execute_result"
    }
   ],
   "source": [
    "stroke_df = df.toPandas()\n",
    "stroke_df.head()"
   ]
  },
  {
   "cell_type": "code",
   "execution_count": 13,
   "metadata": {
    "colab": {
     "base_uri": "https://localhost:8080/",
     "height": 206
    },
    "executionInfo": {
     "elapsed": 10777,
     "status": "ok",
     "timestamp": 1673874102046,
     "user": {
      "displayName": "V. Arun Kumar",
      "userId": "02991517788843717529"
     },
     "user_tz": -330
    },
    "id": "IGGPoJBkQqD7",
    "outputId": "c5026200-2fa8-4e6c-c0a7-89d0e3552275"
   },
   "outputs": [
    {
     "data": {
      "text/html": [
       "\n",
       "  <div id=\"df-d8b2bf90-227e-448c-9d75-9cff3b8bbee6\">\n",
       "    <div class=\"colab-df-container\">\n",
       "      <div>\n",
       "<style scoped>\n",
       "    .dataframe tbody tr th:only-of-type {\n",
       "        vertical-align: middle;\n",
       "    }\n",
       "\n",
       "    .dataframe tbody tr th {\n",
       "        vertical-align: top;\n",
       "    }\n",
       "\n",
       "    .dataframe thead th {\n",
       "        text-align: right;\n",
       "    }\n",
       "</style>\n",
       "<table border=\"1\" class=\"dataframe\">\n",
       "  <thead>\n",
       "    <tr style=\"text-align: right;\">\n",
       "      <th></th>\n",
       "      <th>summary</th>\n",
       "      <th>gender</th>\n",
       "      <th>age</th>\n",
       "      <th>diabetes</th>\n",
       "      <th>hypertension</th>\n",
       "      <th>stroke</th>\n",
       "      <th>heart_disease</th>\n",
       "      <th>smoking_history</th>\n",
       "      <th>BMI</th>\n",
       "    </tr>\n",
       "  </thead>\n",
       "  <tbody>\n",
       "    <tr>\n",
       "      <th>0</th>\n",
       "      <td>count</td>\n",
       "      <td>100000</td>\n",
       "      <td>100000</td>\n",
       "      <td>100000</td>\n",
       "      <td>100000</td>\n",
       "      <td>100000</td>\n",
       "      <td>100000</td>\n",
       "      <td>64184</td>\n",
       "      <td>74556</td>\n",
       "    </tr>\n",
       "    <tr>\n",
       "      <th>1</th>\n",
       "      <td>mean</td>\n",
       "      <td>None</td>\n",
       "      <td>41.88585600000013</td>\n",
       "      <td>0.085</td>\n",
       "      <td>0.07485</td>\n",
       "      <td>None</td>\n",
       "      <td>None</td>\n",
       "      <td>None</td>\n",
       "      <td>27.321028891034764</td>\n",
       "    </tr>\n",
       "    <tr>\n",
       "      <th>2</th>\n",
       "      <td>stddev</td>\n",
       "      <td>None</td>\n",
       "      <td>22.51683987161704</td>\n",
       "      <td>0.27888308976661896</td>\n",
       "      <td>0.2631504702289171</td>\n",
       "      <td>None</td>\n",
       "      <td>None</td>\n",
       "      <td>None</td>\n",
       "      <td>7.686295651045002</td>\n",
       "    </tr>\n",
       "    <tr>\n",
       "      <th>3</th>\n",
       "      <td>min</td>\n",
       "      <td>Female</td>\n",
       "      <td>0.08</td>\n",
       "      <td>0</td>\n",
       "      <td>0</td>\n",
       "      <td>No</td>\n",
       "      <td>No</td>\n",
       "      <td>current</td>\n",
       "      <td>10.01</td>\n",
       "    </tr>\n",
       "    <tr>\n",
       "      <th>4</th>\n",
       "      <td>max</td>\n",
       "      <td>Other</td>\n",
       "      <td>80.0</td>\n",
       "      <td>1</td>\n",
       "      <td>1</td>\n",
       "      <td>Yes</td>\n",
       "      <td>Yes</td>\n",
       "      <td>not current</td>\n",
       "      <td>95.69</td>\n",
       "    </tr>\n",
       "  </tbody>\n",
       "</table>\n",
       "</div>\n",
       "      <button class=\"colab-df-convert\" onclick=\"convertToInteractive('df-d8b2bf90-227e-448c-9d75-9cff3b8bbee6')\"\n",
       "              title=\"Convert this dataframe to an interactive table.\"\n",
       "              style=\"display:none;\">\n",
       "        \n",
       "  <svg xmlns=\"http://www.w3.org/2000/svg\" height=\"24px\"viewBox=\"0 0 24 24\"\n",
       "       width=\"24px\">\n",
       "    <path d=\"M0 0h24v24H0V0z\" fill=\"none\"/>\n",
       "    <path d=\"M18.56 5.44l.94 2.06.94-2.06 2.06-.94-2.06-.94-.94-2.06-.94 2.06-2.06.94zm-11 1L8.5 8.5l.94-2.06 2.06-.94-2.06-.94L8.5 2.5l-.94 2.06-2.06.94zm10 10l.94 2.06.94-2.06 2.06-.94-2.06-.94-.94-2.06-.94 2.06-2.06.94z\"/><path d=\"M17.41 7.96l-1.37-1.37c-.4-.4-.92-.59-1.43-.59-.52 0-1.04.2-1.43.59L10.3 9.45l-7.72 7.72c-.78.78-.78 2.05 0 2.83L4 21.41c.39.39.9.59 1.41.59.51 0 1.02-.2 1.41-.59l7.78-7.78 2.81-2.81c.8-.78.8-2.07 0-2.86zM5.41 20L4 18.59l7.72-7.72 1.47 1.35L5.41 20z\"/>\n",
       "  </svg>\n",
       "      </button>\n",
       "      \n",
       "  <style>\n",
       "    .colab-df-container {\n",
       "      display:flex;\n",
       "      flex-wrap:wrap;\n",
       "      gap: 12px;\n",
       "    }\n",
       "\n",
       "    .colab-df-convert {\n",
       "      background-color: #E8F0FE;\n",
       "      border: none;\n",
       "      border-radius: 50%;\n",
       "      cursor: pointer;\n",
       "      display: none;\n",
       "      fill: #1967D2;\n",
       "      height: 32px;\n",
       "      padding: 0 0 0 0;\n",
       "      width: 32px;\n",
       "    }\n",
       "\n",
       "    .colab-df-convert:hover {\n",
       "      background-color: #E2EBFA;\n",
       "      box-shadow: 0px 1px 2px rgba(60, 64, 67, 0.3), 0px 1px 3px 1px rgba(60, 64, 67, 0.15);\n",
       "      fill: #174EA6;\n",
       "    }\n",
       "\n",
       "    [theme=dark] .colab-df-convert {\n",
       "      background-color: #3B4455;\n",
       "      fill: #D2E3FC;\n",
       "    }\n",
       "\n",
       "    [theme=dark] .colab-df-convert:hover {\n",
       "      background-color: #434B5C;\n",
       "      box-shadow: 0px 1px 3px 1px rgba(0, 0, 0, 0.15);\n",
       "      filter: drop-shadow(0px 1px 2px rgba(0, 0, 0, 0.3));\n",
       "      fill: #FFFFFF;\n",
       "    }\n",
       "  </style>\n",
       "\n",
       "      <script>\n",
       "        const buttonEl =\n",
       "          document.querySelector('#df-d8b2bf90-227e-448c-9d75-9cff3b8bbee6 button.colab-df-convert');\n",
       "        buttonEl.style.display =\n",
       "          google.colab.kernel.accessAllowed ? 'block' : 'none';\n",
       "\n",
       "        async function convertToInteractive(key) {\n",
       "          const element = document.querySelector('#df-d8b2bf90-227e-448c-9d75-9cff3b8bbee6');\n",
       "          const dataTable =\n",
       "            await google.colab.kernel.invokeFunction('convertToInteractive',\n",
       "                                                     [key], {});\n",
       "          if (!dataTable) return;\n",
       "\n",
       "          const docLinkHtml = 'Like what you see? Visit the ' +\n",
       "            '<a target=\"_blank\" href=https://colab.research.google.com/notebooks/data_table.ipynb>data table notebook</a>'\n",
       "            + ' to learn more about interactive tables.';\n",
       "          element.innerHTML = '';\n",
       "          dataTable['output_type'] = 'display_data';\n",
       "          await google.colab.output.renderOutput(dataTable, element);\n",
       "          const docLink = document.createElement('div');\n",
       "          docLink.innerHTML = docLinkHtml;\n",
       "          element.appendChild(docLink);\n",
       "        }\n",
       "      </script>\n",
       "    </div>\n",
       "  </div>\n",
       "  "
      ],
      "text/plain": [
       "  summary  gender                age             diabetes        hypertension  \\\n",
       "0   count  100000             100000               100000              100000   \n",
       "1    mean    None  41.88585600000013                0.085             0.07485   \n",
       "2  stddev    None  22.51683987161704  0.27888308976661896  0.2631504702289171   \n",
       "3     min  Female               0.08                    0                   0   \n",
       "4     max   Other               80.0                    1                   1   \n",
       "\n",
       "   stroke heart_disease smoking_history                 BMI  \n",
       "0  100000        100000           64184               74556  \n",
       "1    None          None            None  27.321028891034764  \n",
       "2    None          None            None   7.686295651045002  \n",
       "3      No            No         current               10.01  \n",
       "4     Yes           Yes     not current               95.69  "
      ]
     },
     "execution_count": 13,
     "metadata": {},
     "output_type": "execute_result"
    }
   ],
   "source": [
    "df.describe().toPandas()"
   ]
  },
  {
   "cell_type": "markdown",
   "metadata": {
    "id": "l5vZY8TGJ_HE"
   },
   "source": [
    "## Check missing values\n",
    "(For this exercise we will drop all the na values)"
   ]
  },
  {
   "cell_type": "code",
   "execution_count": 14,
   "metadata": {
    "colab": {
     "base_uri": "https://localhost:8080/"
    },
    "executionInfo": {
     "elapsed": 779,
     "status": "ok",
     "timestamp": 1673874102822,
     "user": {
      "displayName": "V. Arun Kumar",
      "userId": "02991517788843717529"
     },
     "user_tz": -330
    },
    "id": "K9wd9tD4J8jX",
    "outputId": "e45d3276-fff2-4bda-f0a1-9bf37862b760"
   },
   "outputs": [
    {
     "name": "stdout",
     "output_type": "stream",
     "text": [
      "+------+---+--------+------------+------+-------------+---------------+-----+\n",
      "|gender|age|diabetes|hypertension|stroke|heart_disease|smoking_history|  BMI|\n",
      "+------+---+--------+------------+------+-------------+---------------+-----+\n",
      "|     0|  0|       0|           0|     0|            0|          35816|25444|\n",
      "+------+---+--------+------------+------+-------------+---------------+-----+\n",
      "\n"
     ]
    }
   ],
   "source": [
    "from pyspark.sql.functions import isnull, when, count, col\n",
    "df.select([count(when(isnull(c), c)).alias(c) for c in df.columns]).show()"
   ]
  },
  {
   "cell_type": "markdown",
   "metadata": {
    "id": "AauL6r4kKESk"
   },
   "source": [
    "The columns 'smoking history' and 'BMI' has missing values. Let's drop them"
   ]
  },
  {
   "cell_type": "code",
   "execution_count": 15,
   "metadata": {
    "executionInfo": {
     "elapsed": 3,
     "status": "ok",
     "timestamp": 1673874102823,
     "user": {
      "displayName": "V. Arun Kumar",
      "userId": "02991517788843717529"
     },
     "user_tz": -330
    },
    "id": "3dhd-f4pKBQH"
   },
   "outputs": [],
   "source": [
    "# Use df_name.na.drop() to drop all the null values from the dataframe\n",
    "df = df.na.drop()"
   ]
  },
  {
   "cell_type": "code",
   "execution_count": 16,
   "metadata": {
    "colab": {
     "base_uri": "https://localhost:8080/"
    },
    "executionInfo": {
     "elapsed": 1489,
     "status": "ok",
     "timestamp": 1673874104309,
     "user": {
      "displayName": "V. Arun Kumar",
      "userId": "02991517788843717529"
     },
     "user_tz": -330
    },
    "id": "w_uKPlbbKDv0",
    "outputId": "096554ef-cdb2-4662-d11f-9230cb7a0118"
   },
   "outputs": [
    {
     "name": "stdout",
     "output_type": "stream",
     "text": [
      "+------+---+--------+------------+------+-------------+---------------+---+\n",
      "|gender|age|diabetes|hypertension|stroke|heart_disease|smoking_history|BMI|\n",
      "+------+---+--------+------------+------+-------------+---------------+---+\n",
      "|     0|  0|       0|           0|     0|            0|              0|  0|\n",
      "+------+---+--------+------------+------+-------------+---------------+---+\n",
      "\n"
     ]
    }
   ],
   "source": [
    "# Check if the null value still exist\n",
    "from pyspark.sql.functions import isnull, when, count, col\n",
    "df.select([count(when(isnull(c), c)).alias(c) for c in df.columns]).show()"
   ]
  },
  {
   "cell_type": "code",
   "execution_count": 17,
   "metadata": {
    "colab": {
     "base_uri": "https://localhost:8080/"
    },
    "executionInfo": {
     "elapsed": 11,
     "status": "ok",
     "timestamp": 1673874104310,
     "user": {
      "displayName": "V. Arun Kumar",
      "userId": "02991517788843717529"
     },
     "user_tz": -330
    },
    "id": "APsDtCKkKIh_",
    "outputId": "7f76b74f-9e19-4985-f0c5-c6fd8470f241"
   },
   "outputs": [
    {
     "name": "stdout",
     "output_type": "stream",
     "text": [
      "+------+----+--------+------------+------+-------------+---------------+-----+\n",
      "|gender|age |diabetes|hypertension|stroke|heart_disease|smoking_history|BMI  |\n",
      "+------+----+--------+------------+------+-------------+---------------+-----+\n",
      "|Female|80.0|0       |0           |No    |Yes          |never          |25.19|\n",
      "|Female|36.0|0       |0           |No    |No           |current        |23.45|\n",
      "|Male  |76.0|0       |1           |No    |Yes          |current        |20.14|\n",
      "|Female|44.0|1       |0           |No    |No           |never          |19.31|\n",
      "|Male  |42.0|0       |0           |No    |No           |never          |33.64|\n",
      "+------+----+--------+------------+------+-------------+---------------+-----+\n",
      "only showing top 5 rows\n",
      "\n"
     ]
    }
   ],
   "source": [
    "df.show(5, False)"
   ]
  },
  {
   "cell_type": "markdown",
   "metadata": {
    "id": "eULEaqp7KMdI"
   },
   "source": [
    "## Check and confirm the data type of each column"
   ]
  },
  {
   "cell_type": "code",
   "execution_count": 18,
   "metadata": {
    "colab": {
     "base_uri": "https://localhost:8080/"
    },
    "executionInfo": {
     "elapsed": 8,
     "status": "ok",
     "timestamp": 1673874104311,
     "user": {
      "displayName": "V. Arun Kumar",
      "userId": "02991517788843717529"
     },
     "user_tz": -330
    },
    "id": "kzitU07QKKKR",
    "outputId": "ef9499ad-806e-4cd5-bae8-c8ac8a8e0419"
   },
   "outputs": [
    {
     "name": "stdout",
     "output_type": "stream",
     "text": [
      "root\n",
      " |-- gender: string (nullable = true)\n",
      " |-- age: double (nullable = true)\n",
      " |-- diabetes: integer (nullable = true)\n",
      " |-- hypertension: integer (nullable = true)\n",
      " |-- stroke: string (nullable = true)\n",
      " |-- heart_disease: string (nullable = true)\n",
      " |-- smoking_history: string (nullable = true)\n",
      " |-- BMI: double (nullable = true)\n",
      "\n"
     ]
    }
   ],
   "source": [
    "df.printSchema()"
   ]
  },
  {
   "cell_type": "markdown",
   "metadata": {
    "id": "Bs092mECKRJm"
   },
   "source": [
    "- Let us convert the columns \"diabetes\", \"hypertension\" data type into type double"
   ]
  },
  {
   "cell_type": "code",
   "execution_count": 19,
   "metadata": {
    "colab": {
     "base_uri": "https://localhost:8080/"
    },
    "executionInfo": {
     "elapsed": 6,
     "status": "ok",
     "timestamp": 1673874104311,
     "user": {
      "displayName": "V. Arun Kumar",
      "userId": "02991517788843717529"
     },
     "user_tz": -330
    },
    "id": "0z0MnqfcKOoL",
    "outputId": "36afdcf3-af9d-4a80-ba46-df43c9f85c0c"
   },
   "outputs": [
    {
     "name": "stdout",
     "output_type": "stream",
     "text": [
      "root\n",
      " |-- gender: string (nullable = true)\n",
      " |-- age: double (nullable = true)\n",
      " |-- diabetes: integer (nullable = true)\n",
      " |-- hypertension: double (nullable = true)\n",
      " |-- stroke: string (nullable = true)\n",
      " |-- heart_disease: string (nullable = true)\n",
      " |-- smoking_history: string (nullable = true)\n",
      " |-- BMI: double (nullable = true)\n",
      "\n"
     ]
    }
   ],
   "source": [
    "from pyspark.sql.types import DoubleType\n",
    "from pyspark.sql.functions import col\n",
    "intcols = [\"diabetes\", \"hypertension\"]\n",
    "\n",
    "for col_name in intcols:\n",
    "    strokeDF = df.withColumn(col_name, col(col_name).cast(DoubleType()))\n",
    "\n",
    "# We will also rename the column name 'stroke' as 'label' for \n",
    "\n",
    "strokeDF.printSchema()"
   ]
  },
  {
   "cell_type": "markdown",
   "metadata": {
    "id": "nXwn8eWqKX8Z"
   },
   "source": [
    "## Transformations"
   ]
  },
  {
   "cell_type": "markdown",
   "metadata": {
    "id": "HEQ5FOfpKbi3"
   },
   "source": [
    "### Binarizer"
   ]
  },
  {
   "cell_type": "markdown",
   "metadata": {
    "id": "rDDCeluIKbrA"
   },
   "source": [
    "- Let's use divide the BMi into two groups: Obese and healthy. \n",
    "\n",
    "- 1 represents 'obese' and 0 represents 'healthy' (If your BMI is 30.0 or higher, it falls within the obese range)\n",
    "\n",
    "- We will use the Binarizer transformer to create a new variable 'Body Type' (1- obese and 0- healthy) by binarizing the 'BMI' variable by setting the obesity threshold value 30.0. \n",
    "\n",
    "- Binarization is used for thresholding numerical feature to binary feature (0 or 1)"
   ]
  },
  {
   "cell_type": "code",
   "execution_count": 20,
   "metadata": {
    "colab": {
     "base_uri": "https://localhost:8080/"
    },
    "executionInfo": {
     "elapsed": 658,
     "status": "ok",
     "timestamp": 1673874104965,
     "user": {
      "displayName": "V. Arun Kumar",
      "userId": "02991517788843717529"
     },
     "user_tz": -330
    },
    "id": "pjKRyeyKKTtr",
    "outputId": "8641143a-741e-4533-e613-98f83f066b88"
   },
   "outputs": [
    {
     "name": "stdout",
     "output_type": "stream",
     "text": [
      "+-----+--------+\n",
      "|BMI  |BodyType|\n",
      "+-----+--------+\n",
      "|25.19|0.0     |\n",
      "|23.45|0.0     |\n",
      "|20.14|0.0     |\n",
      "|19.31|0.0     |\n",
      "|33.64|1.0     |\n",
      "+-----+--------+\n",
      "only showing top 5 rows\n",
      "\n"
     ]
    }
   ],
   "source": [
    "from pyspark.ml.feature import Binarizer\n",
    "binarizer = Binarizer(inputCol=\"BMI\", outputCol=\"BodyType\", threshold=30.0)\n",
    "binarizedDF = binarizer.transform(strokeDF)\n",
    "binarizedDF.select('BMI', 'BodyType').show(5,False)"
   ]
  },
  {
   "cell_type": "code",
   "execution_count": 21,
   "metadata": {
    "colab": {
     "base_uri": "https://localhost:8080/"
    },
    "executionInfo": {
     "elapsed": 780,
     "status": "ok",
     "timestamp": 1673874105742,
     "user": {
      "displayName": "V. Arun Kumar",
      "userId": "02991517788843717529"
     },
     "user_tz": -330
    },
    "id": "MZ0S0lPgKg3d",
    "outputId": "057b992c-2258-4afc-cf50-e935b9db1f6c"
   },
   "outputs": [
    {
     "name": "stdout",
     "output_type": "stream",
     "text": [
      "+------+----+--------+------------+------+-------------+---------------+-----+--------+\n",
      "|gender| age|diabetes|hypertension|stroke|heart_disease|smoking_history|  BMI|BodyType|\n",
      "+------+----+--------+------------+------+-------------+---------------+-----+--------+\n",
      "|Female|80.0|       0|         0.0|    No|          Yes|          never|25.19|     0.0|\n",
      "|Female|36.0|       0|         0.0|    No|           No|        current|23.45|     0.0|\n",
      "|  Male|76.0|       0|         1.0|    No|          Yes|        current|20.14|     0.0|\n",
      "|Female|44.0|       1|         0.0|    No|           No|          never|19.31|     0.0|\n",
      "|  Male|42.0|       0|         0.0|    No|           No|          never|33.64|     1.0|\n",
      "+------+----+--------+------------+------+-------------+---------------+-----+--------+\n",
      "only showing top 5 rows\n",
      "\n"
     ]
    }
   ],
   "source": [
    "binarizedDF.show(5)"
   ]
  },
  {
   "cell_type": "markdown",
   "metadata": {
    "id": "zW3NvUOzKk49"
   },
   "source": [
    "From the above result we can see that the value of the target feature label is now converted to binary values"
   ]
  },
  {
   "cell_type": "markdown",
   "metadata": {
    "id": "CSHloPOSKnp1"
   },
   "source": [
    "### Bucketizer"
   ]
  },
  {
   "cell_type": "markdown",
   "metadata": {
    "id": "dTYyJbhaKqWv"
   },
   "source": [
    "- We now group the patients based on their age group. \n",
    "\n",
    "- Here, we will use the Bucketizer transformer. \n",
    "\n",
    "- Bucketizer is used for creating group of values of a continuous feature"
   ]
  },
  {
   "cell_type": "code",
   "execution_count": 22,
   "metadata": {
    "colab": {
     "base_uri": "https://localhost:8080/"
    },
    "executionInfo": {
     "elapsed": 6,
     "status": "ok",
     "timestamp": 1673874105742,
     "user": {
      "displayName": "V. Arun Kumar",
      "userId": "02991517788843717529"
     },
     "user_tz": -330
    },
    "id": "wMqwloKYKiwU",
    "outputId": "a3803ba0-b537-4d29-9ad1-d772998cbe14"
   },
   "outputs": [
    {
     "name": "stdout",
     "output_type": "stream",
     "text": [
      "+----+--------+\n",
      "|age |ageGroup|\n",
      "+----+--------+\n",
      "|80.0|3.0     |\n",
      "|36.0|1.0     |\n",
      "|76.0|3.0     |\n",
      "|44.0|1.0     |\n",
      "|42.0|1.0     |\n",
      "|54.0|2.0     |\n",
      "|78.0|3.0     |\n",
      "|67.0|2.0     |\n",
      "|15.0|0.0     |\n",
      "|42.0|1.0     |\n",
      "+----+--------+\n",
      "only showing top 10 rows\n",
      "\n"
     ]
    }
   ],
   "source": [
    "from pyspark.ml.feature import Bucketizer\n",
    "# lets define the age age group splits\n",
    "splits = [0, 25.0, 50.0, 75.0, 100.0]\n",
    "bucketizer = Bucketizer(inputCol=\"age\", outputCol=\"ageGroup\", splits=splits)\n",
    "bucketizedDF = bucketizer.transform(binarizedDF)\n",
    "bucketizedDF.select('age', 'ageGroup').show(10,False)"
   ]
  },
  {
   "cell_type": "code",
   "execution_count": 23,
   "metadata": {
    "colab": {
     "base_uri": "https://localhost:8080/"
    },
    "executionInfo": {
     "elapsed": 5,
     "status": "ok",
     "timestamp": 1673874105743,
     "user": {
      "displayName": "V. Arun Kumar",
      "userId": "02991517788843717529"
     },
     "user_tz": -330
    },
    "id": "0leCyuzIKsnG",
    "outputId": "c860d95e-5118-437f-91d7-bd1d868eb509"
   },
   "outputs": [
    {
     "data": {
      "text/plain": [
       "['gender',\n",
       " 'age',\n",
       " 'diabetes',\n",
       " 'hypertension',\n",
       " 'stroke',\n",
       " 'heart_disease',\n",
       " 'smoking_history',\n",
       " 'BMI',\n",
       " 'BodyType',\n",
       " 'ageGroup']"
      ]
     },
     "execution_count": 23,
     "metadata": {},
     "output_type": "execute_result"
    }
   ],
   "source": [
    "bucketizedDF.columns"
   ]
  },
  {
   "cell_type": "code",
   "execution_count": 24,
   "metadata": {
    "colab": {
     "base_uri": "https://localhost:8080/"
    },
    "executionInfo": {
     "elapsed": 567,
     "status": "ok",
     "timestamp": 1673874106307,
     "user": {
      "displayName": "V. Arun Kumar",
      "userId": "02991517788843717529"
     },
     "user_tz": -330
    },
    "id": "HIZtC9Z6Kuqo",
    "outputId": "4dae244d-b341-4419-c81c-d818e8b56ccb"
   },
   "outputs": [
    {
     "name": "stdout",
     "output_type": "stream",
     "text": [
      "+----+--------+\n",
      "|age |ageGroup|\n",
      "+----+--------+\n",
      "|80.0|3.0     |\n",
      "|36.0|1.0     |\n",
      "|76.0|3.0     |\n",
      "|44.0|1.0     |\n",
      "|42.0|1.0     |\n",
      "|54.0|2.0     |\n",
      "|78.0|3.0     |\n",
      "|67.0|2.0     |\n",
      "|15.0|0.0     |\n",
      "|42.0|1.0     |\n",
      "+----+--------+\n",
      "only showing top 10 rows\n",
      "\n"
     ]
    }
   ],
   "source": [
    "bucketizedDF.select('age', 'ageGroup').show(10,False)"
   ]
  },
  {
   "cell_type": "markdown",
   "metadata": {
    "id": "NH0KSWsLKzyi"
   },
   "source": [
    "### StringIndexer"
   ]
  },
  {
   "cell_type": "markdown",
   "metadata": {
    "id": "44rAyaByK2py"
   },
   "source": [
    "- There are three categorical variables in our dataset viz., 'gender', 'heart disease' and 'smoking history'. \n",
    "\n",
    "- These variables cannot be directly passed to our ML algorithms. \n",
    "\n",
    "- We will converet them into indexes and to do that we will use StringIndexer transformer. \n",
    "\n",
    "- StringIndexer converts a string column to an index column. The most frequent label gets index 0"
   ]
  },
  {
   "cell_type": "code",
   "execution_count": 25,
   "metadata": {
    "colab": {
     "base_uri": "https://localhost:8080/"
    },
    "executionInfo": {
     "elapsed": 2402,
     "status": "ok",
     "timestamp": 1673874108708,
     "user": {
      "displayName": "V. Arun Kumar",
      "userId": "02991517788843717529"
     },
     "user_tz": -330
    },
    "id": "DR5LGEJ0Kwxb",
    "outputId": "16d6a2b9-b5fb-4e70-a6ab-5d0a2d0721c1"
   },
   "outputs": [
    {
     "name": "stdout",
     "output_type": "stream",
     "text": [
      "+------+-----+------+--------------+-------------+---------------------+---------------+-----------------------+\n",
      "|stroke|label|gender|gender_indexed|heart_disease|heart_disease_indexed|smoking_history|smoking_history_indexed|\n",
      "+------+-----+------+--------------+-------------+---------------------+---------------+-----------------------+\n",
      "|No    |0.0  |Female|0.0           |Yes          |1.0                  |never          |0.0                    |\n",
      "|No    |0.0  |Female|0.0           |No           |0.0                  |current        |2.0                    |\n",
      "|No    |0.0  |Male  |1.0           |Yes          |1.0                  |current        |2.0                    |\n",
      "|No    |0.0  |Female|0.0           |No           |0.0                  |never          |0.0                    |\n",
      "|No    |0.0  |Male  |1.0           |No           |0.0                  |never          |0.0                    |\n",
      "+------+-----+------+--------------+-------------+---------------------+---------------+-----------------------+\n",
      "only showing top 5 rows\n",
      "\n"
     ]
    }
   ],
   "source": [
    "from pyspark.ml.feature import StringIndexer\n",
    "indexers = StringIndexer(inputCols= ['stroke','gender', 'heart_disease', 'smoking_history'], \n",
    "                         outputCols=['label', 'gender_indexed', 'heart_disease_indexed', 'smoking_history_indexed'])\n",
    "strindexedDF = indexers.fit(bucketizedDF).transform(bucketizedDF)\n",
    "strindexedDF.select('stroke', 'label', 'gender', 'gender_indexed', 'heart_disease', 'heart_disease_indexed', \n",
    "                    'smoking_history', 'smoking_history_indexed').show(5, False)"
   ]
  },
  {
   "cell_type": "markdown",
   "metadata": {
    "id": "wQZA7DNHK7SE"
   },
   "source": [
    "- From the above output you can observe that the categorical columns has got converted to their respective indices columns. \n",
    "\n",
    "- The most frequent label gets index 0 and so on ordered by label frequencies"
   ]
  },
  {
   "cell_type": "markdown",
   "metadata": {
    "id": "oeIVEF_3Mpvp"
   },
   "source": [
    "### OneHotEncoderEstimator"
   ]
  },
  {
   "cell_type": "code",
   "execution_count": 26,
   "metadata": {
    "colab": {
     "base_uri": "https://localhost:8080/"
    },
    "executionInfo": {
     "elapsed": 663,
     "status": "ok",
     "timestamp": 1673874109369,
     "user": {
      "displayName": "V. Arun Kumar",
      "userId": "02991517788843717529"
     },
     "user_tz": -330
    },
    "id": "v74qTckXK4yd",
    "outputId": "fbb1f9ac-25c4-42a9-dff3-3c18d7c9c5b4"
   },
   "outputs": [
    {
     "name": "stdout",
     "output_type": "stream",
     "text": [
      "+--------------+-------------+---------------------+----------------+-----------------------+------------------+\n",
      "|gender_indexed|genderVec    |heart_disease_indexed|heart_diseaseVec|smoking_history_indexed|smoking_historyVec|\n",
      "+--------------+-------------+---------------------+----------------+-----------------------+------------------+\n",
      "|0.0           |(2,[0],[1.0])|1.0                  |(1,[],[])       |0.0                    |(4,[0],[1.0])     |\n",
      "|0.0           |(2,[0],[1.0])|0.0                  |(1,[0],[1.0])   |2.0                    |(4,[2],[1.0])     |\n",
      "|1.0           |(2,[1],[1.0])|1.0                  |(1,[],[])       |2.0                    |(4,[2],[1.0])     |\n",
      "|0.0           |(2,[0],[1.0])|0.0                  |(1,[0],[1.0])   |0.0                    |(4,[0],[1.0])     |\n",
      "|1.0           |(2,[1],[1.0])|0.0                  |(1,[0],[1.0])   |0.0                    |(4,[0],[1.0])     |\n",
      "+--------------+-------------+---------------------+----------------+-----------------------+------------------+\n",
      "only showing top 5 rows\n",
      "\n"
     ]
    }
   ],
   "source": [
    "from pyspark.ml.feature import OneHotEncoder\n",
    "encoder = OneHotEncoder(inputCols= [\"gender_indexed\", 'heart_disease_indexed', 'smoking_history_indexed'], \n",
    "                         outputCols=[\"genderVec\", 'heart_diseaseVec', 'smoking_historyVec'])\n",
    "encodedDF = encoder.fit(strindexedDF).transform(strindexedDF)\n",
    "encodedDF.select('gender_indexed', 'genderVec', 'heart_disease_indexed', 'heart_diseaseVec', \n",
    "                    'smoking_history_indexed', 'smoking_historyVec',).show(5, False)"
   ]
  },
  {
   "cell_type": "code",
   "execution_count": 27,
   "metadata": {
    "colab": {
     "base_uri": "https://localhost:8080/"
    },
    "executionInfo": {
     "elapsed": 731,
     "status": "ok",
     "timestamp": 1673874110099,
     "user": {
      "displayName": "V. Arun Kumar",
      "userId": "02991517788843717529"
     },
     "user_tz": -330
    },
    "id": "jUnu6FpTMsvH",
    "outputId": "70ff0ff5-579e-445a-c244-1ffa1c7d13f4"
   },
   "outputs": [
    {
     "name": "stdout",
     "output_type": "stream",
     "text": [
      "+------+----+--------+------------+------+-------------+---------------+-----+--------+--------+-----+--------------+---------------------+-----------------------+-------------+----------------+------------------+\n",
      "|gender| age|diabetes|hypertension|stroke|heart_disease|smoking_history|  BMI|BodyType|ageGroup|label|gender_indexed|heart_disease_indexed|smoking_history_indexed|    genderVec|heart_diseaseVec|smoking_historyVec|\n",
      "+------+----+--------+------------+------+-------------+---------------+-----+--------+--------+-----+--------------+---------------------+-----------------------+-------------+----------------+------------------+\n",
      "|Female|80.0|       0|         0.0|    No|          Yes|          never|25.19|     0.0|     3.0|  0.0|           0.0|                  1.0|                    0.0|(2,[0],[1.0])|       (1,[],[])|     (4,[0],[1.0])|\n",
      "|Female|36.0|       0|         0.0|    No|           No|        current|23.45|     0.0|     1.0|  0.0|           0.0|                  0.0|                    2.0|(2,[0],[1.0])|   (1,[0],[1.0])|     (4,[2],[1.0])|\n",
      "|  Male|76.0|       0|         1.0|    No|          Yes|        current|20.14|     0.0|     3.0|  0.0|           1.0|                  1.0|                    2.0|(2,[1],[1.0])|       (1,[],[])|     (4,[2],[1.0])|\n",
      "|Female|44.0|       1|         0.0|    No|           No|          never|19.31|     0.0|     1.0|  0.0|           0.0|                  0.0|                    0.0|(2,[0],[1.0])|   (1,[0],[1.0])|     (4,[0],[1.0])|\n",
      "|  Male|42.0|       0|         0.0|    No|           No|          never|33.64|     1.0|     1.0|  0.0|           1.0|                  0.0|                    0.0|(2,[1],[1.0])|   (1,[0],[1.0])|     (4,[0],[1.0])|\n",
      "+------+----+--------+------------+------+-------------+---------------+-----+--------+--------+-----+--------------+---------------------+-----------------------+-------------+----------------+------------------+\n",
      "only showing top 5 rows\n",
      "\n"
     ]
    }
   ],
   "source": [
    "encodedDF.show(5)"
   ]
  },
  {
   "cell_type": "markdown",
   "metadata": {
    "id": "9Y0ikufiMyMN"
   },
   "source": [
    "### VectorAssembler\n",
    "- MLlib expects all features to be contained within a single column. \n",
    "- VectorAssembler combines multiple columns and gives single column as output"
   ]
  },
  {
   "cell_type": "code",
   "execution_count": 28,
   "metadata": {
    "colab": {
     "base_uri": "https://localhost:8080/"
    },
    "executionInfo": {
     "elapsed": 13,
     "status": "ok",
     "timestamp": 1673874110100,
     "user": {
      "displayName": "V. Arun Kumar",
      "userId": "02991517788843717529"
     },
     "user_tz": -330
    },
    "id": "9fCui11qMund",
    "outputId": "cb279f6a-d0c3-467b-94ed-41b9254c0b9d"
   },
   "outputs": [
    {
     "name": "stdout",
     "output_type": "stream",
     "text": [
      "+-----------------------------------------------------+\n",
      "|features                                             |\n",
      "+-----------------------------------------------------+\n",
      "|(13,[0,3,5,6,9],[80.0,25.19,3.0,1.0,1.0])            |\n",
      "|(13,[0,3,5,6,8,11],[36.0,23.45,1.0,1.0,1.0,1.0])     |\n",
      "|(13,[0,2,3,5,7,11],[76.0,1.0,20.14,3.0,1.0,1.0])     |\n",
      "|(13,[0,1,3,5,6,8,9],[44.0,1.0,19.31,1.0,1.0,1.0,1.0])|\n",
      "|(13,[0,3,4,5,7,8,9],[42.0,33.64,1.0,1.0,1.0,1.0,1.0])|\n",
      "+-----------------------------------------------------+\n",
      "only showing top 5 rows\n",
      "\n"
     ]
    }
   ],
   "source": [
    "# Import VectorAssembler from pyspark.ml.feature package\n",
    "from pyspark.ml.feature import VectorAssembler\n",
    "# Create a list of all the variables that you want to create feature vectors\n",
    "# These features are then further used for training model\n",
    "features_col = [\"age\", \"diabetes\", \"hypertension\", \"BMI\", \"BodyType\", \"ageGroup\", \n",
    "                \"genderVec\",\"heart_diseaseVec\",\"smoking_historyVec\"]\n",
    "# Create the VectorAssembler object\n",
    "assembler = VectorAssembler(inputCols= features_col, outputCol= \"features\")\n",
    "assembledDF = assembler.transform(encodedDF)\n",
    "assembledDF.select(\"features\").show(5, False)"
   ]
  },
  {
   "cell_type": "markdown",
   "metadata": {
    "id": "rzKSgwV6M2VV"
   },
   "source": [
    "Now that all the features are vectorized. Let us convert the target variable 'stroke' (integer) in to a label column"
   ]
  },
  {
   "cell_type": "markdown",
   "metadata": {
    "id": "FgbVSBxrM6wC"
   },
   "source": [
    "All the features are now in one single feature vector. If you notice, the feature column contains sparse vector. In order to perform scaling on the data, we must convert the sparse vector to dense vector"
   ]
  },
  {
   "cell_type": "code",
   "execution_count": 29,
   "metadata": {
    "colab": {
     "base_uri": "https://localhost:8080/"
    },
    "executionInfo": {
     "elapsed": 8,
     "status": "ok",
     "timestamp": 1673874110100,
     "user": {
      "displayName": "V. Arun Kumar",
      "userId": "02991517788843717529"
     },
     "user_tz": -330
    },
    "id": "WY658VhLM0FS",
    "outputId": "84497c6e-421e-403c-ae53-871b7010c0f7"
   },
   "outputs": [
    {
     "data": {
      "text/plain": [
       "['gender',\n",
       " 'age',\n",
       " 'diabetes',\n",
       " 'hypertension',\n",
       " 'stroke',\n",
       " 'heart_disease',\n",
       " 'smoking_history',\n",
       " 'BMI',\n",
       " 'BodyType',\n",
       " 'ageGroup',\n",
       " 'label',\n",
       " 'gender_indexed',\n",
       " 'heart_disease_indexed',\n",
       " 'smoking_history_indexed',\n",
       " 'genderVec',\n",
       " 'heart_diseaseVec',\n",
       " 'smoking_historyVec',\n",
       " 'features']"
      ]
     },
     "execution_count": 29,
     "metadata": {},
     "output_type": "execute_result"
    }
   ],
   "source": [
    "assembledDF.columns"
   ]
  },
  {
   "cell_type": "markdown",
   "metadata": {
    "id": "fPdnHzrzNMCg"
   },
   "source": [
    "### VectorIndexer\n",
    "VectorIndexer automatically identifies the categorical features from the feature vector (output from VectorAssembler). It then indexes categorical features inside of a Vector\n",
    "It is the vectorized version of StringIndexer"
   ]
  },
  {
   "cell_type": "code",
   "execution_count": 30,
   "metadata": {
    "colab": {
     "base_uri": "https://localhost:8080/"
    },
    "executionInfo": {
     "elapsed": 3181,
     "status": "ok",
     "timestamp": 1673874113277,
     "user": {
      "displayName": "V. Arun Kumar",
      "userId": "02991517788843717529"
     },
     "user_tz": -330
    },
    "id": "5NTiGmdMM_DY",
    "outputId": "a65b0be7-2c75-4738-9624-da3879f0e29d"
   },
   "outputs": [
    {
     "name": "stdout",
     "output_type": "stream",
     "text": [
      "+----------------------------------------+----------------------------------------+\n",
      "|features                                |indexed_features                        |\n",
      "+----------------------------------------+----------------------------------------+\n",
      "|(9,[0,3,5,7],[80.0,25.19,3.0,1.0])      |(9,[0,3,5,7],[80.0,25.19,3.0,1.0])      |\n",
      "|(9,[0,3,5,8],[36.0,23.45,1.0,2.0])      |(9,[0,3,5,8],[36.0,23.45,1.0,2.0])      |\n",
      "|[76.0,0.0,1.0,20.14,0.0,3.0,1.0,1.0,2.0]|[76.0,0.0,1.0,20.14,0.0,3.0,1.0,1.0,2.0]|\n",
      "|(9,[0,1,3,5],[44.0,1.0,19.31,1.0])      |(9,[0,1,3,5],[44.0,1.0,19.31,1.0])      |\n",
      "|[42.0,0.0,0.0,33.64,1.0,1.0,1.0,0.0,0.0]|[42.0,0.0,0.0,33.64,1.0,1.0,1.0,0.0,0.0]|\n",
      "+----------------------------------------+----------------------------------------+\n",
      "only showing top 5 rows\n",
      "\n"
     ]
    }
   ],
   "source": [
    "# Import VectorIndexer from pyspark.ml.feature package\n",
    "from pyspark.ml.feature import VectorIndexer\n",
    "# Create a list of all the raw features\n",
    "# VectorIndexer will automatically identify the categorical columns and index them\n",
    "featurecol = ['age', 'diabetes','hypertension', 'BMI','BodyType','ageGroup', \n",
    "              \"gender_indexed\", 'heart_disease_indexed', 'smoking_history_indexed']\n",
    "\n",
    "# Create the VectorAssembler object\n",
    "assembler = VectorAssembler(inputCols= featurecol, outputCol= \"features\")\n",
    "assembledDF = assembler.transform(strindexedDF)\n",
    "\n",
    "# Create the VectorIndexer object. It only take feature column\n",
    "vecindexer = VectorIndexer(inputCol= \"features\", outputCol= \"indexed_features\")\n",
    "# Fit the vectorindexer object on the output of the vectorassembler data and transform\n",
    "vecindexedDF = vecindexer.fit(assembledDF).transform(assembledDF)\n",
    "vecindexedDF.select(\"features\", \"indexed_features\").show(5, False)"
   ]
  },
  {
   "cell_type": "markdown",
   "metadata": {
    "id": "SMnYvFhKNRgf"
   },
   "source": [
    "VectorIndexer let us skip the one hot encoding stage for encoding the categorical features. As discussed earlier, we should not use one hot encoding on categorical variables for algorithms like decision tree and tree ensembles. VectorIndexer are chosen over OneHotEncoderEstimator in such scenario which allows these algorithms to treat categorical features appropriately"
   ]
  },
  {
   "cell_type": "markdown",
   "metadata": {
    "id": "RRTcQTYQNWRy"
   },
   "source": [
    "### StandardScaler\n",
    "StandardScaler scales each value in the feature vector such that the mean is 0 and the standard deviation is 1\n",
    "<br>It takes parameters:\n",
    "<br>withStd: True by default. Scales the data to unit standard deviation\n",
    "<br>withMean: False by default. Centers the data with mean before scaling\n",
    "\n",
    "**If you notice the output of vectorassembler data is a sparse vector. This need to be converted into a dense vector befor applying scaling**"
   ]
  },
  {
   "cell_type": "code",
   "execution_count": 31,
   "metadata": {
    "colab": {
     "base_uri": "https://localhost:8080/"
    },
    "executionInfo": {
     "elapsed": 2270,
     "status": "ok",
     "timestamp": 1673874115532,
     "user": {
      "displayName": "V. Arun Kumar",
      "userId": "02991517788843717529"
     },
     "user_tz": -330
    },
    "id": "-VaHhMVANOGy",
    "outputId": "c596712f-5c0f-4ae3-9ff5-2470dacbaba3"
   },
   "outputs": [
    {
     "name": "stdout",
     "output_type": "stream",
     "text": [
      "+----------------------------------------+----------------------------------------+\n",
      "|features                                |features_array                          |\n",
      "+----------------------------------------+----------------------------------------+\n",
      "|(9,[0,3,5,7],[80.0,25.19,3.0,1.0])      |[80.0,0.0,0.0,25.19,0.0,3.0,0.0,1.0,0.0]|\n",
      "|(9,[0,3,5,8],[36.0,23.45,1.0,2.0])      |[36.0,0.0,0.0,23.45,0.0,1.0,0.0,0.0,2.0]|\n",
      "|[76.0,0.0,1.0,20.14,0.0,3.0,1.0,1.0,2.0]|[76.0,0.0,1.0,20.14,0.0,3.0,1.0,1.0,2.0]|\n",
      "|(9,[0,1,3,5],[44.0,1.0,19.31,1.0])      |[44.0,1.0,0.0,19.31,0.0,1.0,0.0,0.0,0.0]|\n",
      "|[42.0,0.0,0.0,33.64,1.0,1.0,1.0,0.0,0.0]|[42.0,0.0,0.0,33.64,1.0,1.0,1.0,0.0,0.0]|\n",
      "+----------------------------------------+----------------------------------------+\n",
      "only showing top 5 rows\n",
      "\n"
     ]
    }
   ],
   "source": [
    "from pyspark.sql import functions as F\n",
    "from pyspark.ml.linalg import Vectors, VectorUDT\n",
    "\n",
    "# Define a udf that converts sparse vector into dense vector\n",
    "# You cannot create your own custom function and run that against the data directly. \n",
    "# In Spark, You have to register the function first using udf function\n",
    "sparseToDense = F.udf(lambda v : Vectors.dense(v), VectorUDT())\n",
    "\n",
    "# We then call the function here passing the column name on which the function has to be applied\n",
    "densefeatureDF = assembledDF.withColumn('features_array', sparseToDense('features'))\n",
    "\n",
    "densefeatureDF.select(\"features\", \"features_array\").show(5, False)"
   ]
  },
  {
   "cell_type": "code",
   "execution_count": 32,
   "metadata": {
    "colab": {
     "base_uri": "https://localhost:8080/"
    },
    "executionInfo": {
     "elapsed": 8,
     "status": "ok",
     "timestamp": 1673874115532,
     "user": {
      "displayName": "V. Arun Kumar",
      "userId": "02991517788843717529"
     },
     "user_tz": -330
    },
    "id": "EfoyOEW9NYjl",
    "outputId": "8daf00ec-9ff5-44c1-82f6-40403c911854"
   },
   "outputs": [
    {
     "name": "stdout",
     "output_type": "stream",
     "text": [
      "root\n",
      " |-- gender: string (nullable = true)\n",
      " |-- age: double (nullable = true)\n",
      " |-- diabetes: integer (nullable = true)\n",
      " |-- hypertension: double (nullable = true)\n",
      " |-- stroke: string (nullable = true)\n",
      " |-- heart_disease: string (nullable = true)\n",
      " |-- smoking_history: string (nullable = true)\n",
      " |-- BMI: double (nullable = true)\n",
      " |-- BodyType: double (nullable = true)\n",
      " |-- ageGroup: double (nullable = true)\n",
      " |-- label: double (nullable = false)\n",
      " |-- gender_indexed: double (nullable = false)\n",
      " |-- heart_disease_indexed: double (nullable = false)\n",
      " |-- smoking_history_indexed: double (nullable = false)\n",
      " |-- features: vector (nullable = true)\n",
      " |-- features_array: vector (nullable = true)\n",
      "\n"
     ]
    }
   ],
   "source": [
    "densefeatureDF.printSchema()"
   ]
  },
  {
   "cell_type": "code",
   "execution_count": 33,
   "metadata": {
    "colab": {
     "base_uri": "https://localhost:8080/"
    },
    "executionInfo": {
     "elapsed": 7014,
     "status": "ok",
     "timestamp": 1673874122543,
     "user": {
      "displayName": "V. Arun Kumar",
      "userId": "02991517788843717529"
     },
     "user_tz": -330
    },
    "id": "i9NR4--UNaZF",
    "outputId": "6832f6a8-4b24-44e9-ac43-3f55a419a8f9"
   },
   "outputs": [
    {
     "name": "stdout",
     "output_type": "stream",
     "text": [
      "+-----------------------------------------------------------------------------------------------------------------------------------------+\n",
      "|scaledfeatures                                                                                                                           |\n",
      "+-----------------------------------------------------------------------------------------------------------------------------------------+\n",
      "|[4.087032486459775,0.0,0.0,3.4969597048301693,0.0,3.465141331509375,0.0,4.588062443054963,0.0]                                           |\n",
      "|[1.839164618906899,0.0,0.0,3.255407109101527,0.0,1.155047110503125,0.0,0.0,1.5657422910924597]                                           |\n",
      "|[3.882680862136787,0.0,3.266884631584384,2.795901883893593,0.0,3.465141331509375,2.0514943144150433,4.588062443054963,1.5657422910924597]|\n",
      "|[2.2478678675528765,3.122394188242338,0.0,2.680678519264413,0.0,1.155047110503125,0.0,0.0,0.0]                                           |\n",
      "|[2.145692055391382,0.0,0.0,4.670016850753747,2.080052044325287,1.155047110503125,2.0514943144150433,0.0,0.0]                             |\n",
      "+-----------------------------------------------------------------------------------------------------------------------------------------+\n",
      "only showing top 5 rows\n",
      "\n"
     ]
    }
   ],
   "source": [
    "# Import StandardScaler from pyspark.ml.feature package\n",
    "from pyspark.ml.feature import StandardScaler\n",
    "\n",
    "# Create the StandardScaler object. It only take feature column (dense vector)\n",
    "stdscaler = StandardScaler(inputCol= \"features_array\", outputCol= \"scaledfeatures\")\n",
    "\n",
    "# Fit the StandardScaler object on the output of the dense vector data and transform\n",
    "stdscaledDF = stdscaler.fit(densefeatureDF).transform(densefeatureDF)\n",
    "stdscaledDF.select(\"scaledfeatures\" ).show(5, False)"
   ]
  },
  {
   "cell_type": "markdown",
   "metadata": {
    "id": "N8QoIO7lN2sQ"
   },
   "source": [
    "## Spark ML Algorithms\n",
    "We will now train the ML models with the data that we have worked upon so far. We will build classification model since, given the data, we need to determine if a person will get a stroke or not"
   ]
  },
  {
   "cell_type": "markdown",
   "metadata": {
    "id": "kioZ-cq2N5LS"
   },
   "source": [
    "### Train-Test Split\n",
    "We split the output of  data into training and test sets (30% held out for testing)\n",
    "Note: This train-test split of for logistic regression"
   ]
  },
  {
   "cell_type": "code",
   "execution_count": 34,
   "metadata": {
    "colab": {
     "base_uri": "https://localhost:8080/"
    },
    "executionInfo": {
     "elapsed": 3066,
     "status": "ok",
     "timestamp": 1673874125606,
     "user": {
      "displayName": "V. Arun Kumar",
      "userId": "02991517788843717529"
     },
     "user_tz": -330
    },
    "id": "_9HUu_5cNc1R",
    "outputId": "5509c071-5f33-4b7e-f0cf-3673d3879000"
   },
   "outputs": [
    {
     "name": "stdout",
     "output_type": "stream",
     "text": [
      "Observations in training set =  36680\n",
      "Observations in testing set =  15495\n"
     ]
    }
   ],
   "source": [
    "# We spilt the data into 70-30 set\n",
    "# Training Set - 70% obesevations\n",
    "# Testing Set - 30% observations\n",
    "trainDF, testDF =  assembledDF.randomSplit([0.7,0.3], seed = 2020)\n",
    "\n",
    "# print the count of observations in each set\n",
    "print(\"Observations in training set = \", trainDF.count())\n",
    "print(\"Observations in testing set = \", testDF.count())"
   ]
  },
  {
   "cell_type": "markdown",
   "metadata": {
    "id": "-0Wws0RvN729"
   },
   "source": [
    "### Supervised Learning - Classification \n",
    "#### Logistic Regression"
   ]
  },
  {
   "cell_type": "code",
   "execution_count": 35,
   "metadata": {
    "colab": {
     "base_uri": "https://localhost:8080/"
    },
    "executionInfo": {
     "elapsed": 5557,
     "status": "ok",
     "timestamp": 1673874131159,
     "user": {
      "displayName": "V. Arun Kumar",
      "userId": "02991517788843717529"
     },
     "user_tz": -330
    },
    "id": "VdF_RzkAN7Xq",
    "outputId": "91c61973-93ae-415a-de36-3cf0c7f01578"
   },
   "outputs": [
    {
     "name": "stdout",
     "output_type": "stream",
     "text": [
      "+-----+--------------------------------------+-----------------------------------------+----------+\n",
      "|label|rawPrediction                         |probability                              |prediction|\n",
      "+-----+--------------------------------------+-----------------------------------------+----------+\n",
      "|0.0  |[4.026156743176436,-4.026156743176436]|[0.9824700109051254,0.017529989094874576]|0.0       |\n",
      "|0.0  |[4.026156743176436,-4.026156743176436]|[0.9824700109051254,0.017529989094874576]|0.0       |\n",
      "|0.0  |[4.026156743176436,-4.026156743176436]|[0.9824700109051254,0.017529989094874576]|0.0       |\n",
      "|0.0  |[4.026156743176436,-4.026156743176436]|[0.9824700109051254,0.017529989094874576]|0.0       |\n",
      "|0.0  |[4.026156743176436,-4.026156743176436]|[0.9824700109051254,0.017529989094874576]|0.0       |\n",
      "|0.0  |[4.026156743176436,-4.026156743176436]|[0.9824700109051254,0.017529989094874576]|0.0       |\n",
      "|0.0  |[4.026156743176436,-4.026156743176436]|[0.9824700109051254,0.017529989094874576]|0.0       |\n",
      "|0.0  |[4.026156743176436,-4.026156743176436]|[0.9824700109051254,0.017529989094874576]|0.0       |\n",
      "|0.0  |[4.026156743176436,-4.026156743176436]|[0.9824700109051254,0.017529989094874576]|0.0       |\n",
      "|0.0  |[4.026156743176436,-4.026156743176436]|[0.9824700109051254,0.017529989094874576]|0.0       |\n",
      "+-----+--------------------------------------+-----------------------------------------+----------+\n",
      "only showing top 10 rows\n",
      "\n"
     ]
    }
   ],
   "source": [
    "# import the LogisticRegression function from the pyspark.ml.classification package\n",
    "from pyspark.ml.classification import LogisticRegression\n",
    "\n",
    "# Build the LogisticRegression object 'lr' by setting the required parameters\n",
    "lr = LogisticRegression(featuresCol=\"features\", labelCol=\"label\",maxIter= 10,regParam=0.3, elasticNetParam=0.8)\n",
    "\n",
    "# fit the LogisticRegression object on the training data\n",
    "lrmodel = lr.fit(trainDF)\n",
    "\n",
    "#This LogisticRegressionModel can be used as a transformer to perform prediction on the testing data\n",
    "predictonDF = lrmodel.transform(testDF)\n",
    "\n",
    "predictonDF.select(\"label\",\"rawPrediction\", \"probability\", \"prediction\").show(10,False)"
   ]
  },
  {
   "cell_type": "code",
   "execution_count": 36,
   "metadata": {
    "colab": {
     "base_uri": "https://localhost:8080/"
    },
    "executionInfo": {
     "elapsed": 776,
     "status": "ok",
     "timestamp": 1673874131929,
     "user": {
      "displayName": "V. Arun Kumar",
      "userId": "02991517788843717529"
     },
     "user_tz": -330
    },
    "id": "iagWA03xN-lY",
    "outputId": "e1977969-0da9-4385-9e0b-7d259ec20808"
   },
   "outputs": [
    {
     "name": "stdout",
     "output_type": "stream",
     "text": [
      "+-----+--------------------------------------+-----------------------------------------+----------+\n",
      "|label|rawPrediction                         |probability                              |prediction|\n",
      "+-----+--------------------------------------+-----------------------------------------+----------+\n",
      "|0.0  |[4.026156743176436,-4.026156743176436]|[0.9824700109051254,0.017529989094874576]|0.0       |\n",
      "|0.0  |[4.026156743176436,-4.026156743176436]|[0.9824700109051254,0.017529989094874576]|0.0       |\n",
      "|0.0  |[4.026156743176436,-4.026156743176436]|[0.9824700109051254,0.017529989094874576]|0.0       |\n",
      "|0.0  |[4.026156743176436,-4.026156743176436]|[0.9824700109051254,0.017529989094874576]|0.0       |\n",
      "|0.0  |[4.026156743176436,-4.026156743176436]|[0.9824700109051254,0.017529989094874576]|0.0       |\n",
      "|0.0  |[4.026156743176436,-4.026156743176436]|[0.9824700109051254,0.017529989094874576]|0.0       |\n",
      "|0.0  |[4.026156743176436,-4.026156743176436]|[0.9824700109051254,0.017529989094874576]|0.0       |\n",
      "|0.0  |[4.026156743176436,-4.026156743176436]|[0.9824700109051254,0.017529989094874576]|0.0       |\n",
      "|0.0  |[4.026156743176436,-4.026156743176436]|[0.9824700109051254,0.017529989094874576]|0.0       |\n",
      "|0.0  |[4.026156743176436,-4.026156743176436]|[0.9824700109051254,0.017529989094874576]|0.0       |\n",
      "|0.0  |[4.026156743176436,-4.026156743176436]|[0.9824700109051254,0.017529989094874576]|0.0       |\n",
      "|0.0  |[4.026156743176436,-4.026156743176436]|[0.9824700109051254,0.017529989094874576]|0.0       |\n",
      "|0.0  |[4.026156743176436,-4.026156743176436]|[0.9824700109051254,0.017529989094874576]|0.0       |\n",
      "|0.0  |[4.026156743176436,-4.026156743176436]|[0.9824700109051254,0.017529989094874576]|0.0       |\n",
      "|0.0  |[4.026156743176436,-4.026156743176436]|[0.9824700109051254,0.017529989094874576]|0.0       |\n",
      "|0.0  |[4.026156743176436,-4.026156743176436]|[0.9824700109051254,0.017529989094874576]|0.0       |\n",
      "|0.0  |[4.026156743176436,-4.026156743176436]|[0.9824700109051254,0.017529989094874576]|0.0       |\n",
      "|0.0  |[4.026156743176436,-4.026156743176436]|[0.9824700109051254,0.017529989094874576]|0.0       |\n",
      "|0.0  |[4.026156743176436,-4.026156743176436]|[0.9824700109051254,0.017529989094874576]|0.0       |\n",
      "|0.0  |[4.026156743176436,-4.026156743176436]|[0.9824700109051254,0.017529989094874576]|0.0       |\n",
      "|0.0  |[4.026156743176436,-4.026156743176436]|[0.9824700109051254,0.017529989094874576]|0.0       |\n",
      "|0.0  |[4.026156743176436,-4.026156743176436]|[0.9824700109051254,0.017529989094874576]|0.0       |\n",
      "|0.0  |[4.026156743176436,-4.026156743176436]|[0.9824700109051254,0.017529989094874576]|0.0       |\n",
      "|0.0  |[4.026156743176436,-4.026156743176436]|[0.9824700109051254,0.017529989094874576]|0.0       |\n",
      "|0.0  |[4.026156743176436,-4.026156743176436]|[0.9824700109051254,0.017529989094874576]|0.0       |\n",
      "|0.0  |[4.026156743176436,-4.026156743176436]|[0.9824700109051254,0.017529989094874576]|0.0       |\n",
      "|0.0  |[4.026156743176436,-4.026156743176436]|[0.9824700109051254,0.017529989094874576]|0.0       |\n",
      "|0.0  |[4.026156743176436,-4.026156743176436]|[0.9824700109051254,0.017529989094874576]|0.0       |\n",
      "|0.0  |[4.026156743176436,-4.026156743176436]|[0.9824700109051254,0.017529989094874576]|0.0       |\n",
      "|0.0  |[4.026156743176436,-4.026156743176436]|[0.9824700109051254,0.017529989094874576]|0.0       |\n",
      "|0.0  |[4.026156743176436,-4.026156743176436]|[0.9824700109051254,0.017529989094874576]|0.0       |\n",
      "|0.0  |[4.026156743176436,-4.026156743176436]|[0.9824700109051254,0.017529989094874576]|0.0       |\n",
      "|0.0  |[4.026156743176436,-4.026156743176436]|[0.9824700109051254,0.017529989094874576]|0.0       |\n",
      "|0.0  |[4.026156743176436,-4.026156743176436]|[0.9824700109051254,0.017529989094874576]|0.0       |\n",
      "|0.0  |[4.026156743176436,-4.026156743176436]|[0.9824700109051254,0.017529989094874576]|0.0       |\n",
      "|0.0  |[4.026156743176436,-4.026156743176436]|[0.9824700109051254,0.017529989094874576]|0.0       |\n",
      "|0.0  |[4.026156743176436,-4.026156743176436]|[0.9824700109051254,0.017529989094874576]|0.0       |\n",
      "|0.0  |[4.026156743176436,-4.026156743176436]|[0.9824700109051254,0.017529989094874576]|0.0       |\n",
      "|0.0  |[4.026156743176436,-4.026156743176436]|[0.9824700109051254,0.017529989094874576]|0.0       |\n",
      "|0.0  |[4.026156743176436,-4.026156743176436]|[0.9824700109051254,0.017529989094874576]|0.0       |\n",
      "|0.0  |[4.026156743176436,-4.026156743176436]|[0.9824700109051254,0.017529989094874576]|0.0       |\n",
      "|0.0  |[4.026156743176436,-4.026156743176436]|[0.9824700109051254,0.017529989094874576]|0.0       |\n",
      "|0.0  |[4.026156743176436,-4.026156743176436]|[0.9824700109051254,0.017529989094874576]|0.0       |\n",
      "|0.0  |[4.026156743176436,-4.026156743176436]|[0.9824700109051254,0.017529989094874576]|0.0       |\n",
      "|0.0  |[4.026156743176436,-4.026156743176436]|[0.9824700109051254,0.017529989094874576]|0.0       |\n",
      "|0.0  |[4.026156743176436,-4.026156743176436]|[0.9824700109051254,0.017529989094874576]|0.0       |\n",
      "|0.0  |[4.026156743176436,-4.026156743176436]|[0.9824700109051254,0.017529989094874576]|0.0       |\n",
      "|0.0  |[4.026156743176436,-4.026156743176436]|[0.9824700109051254,0.017529989094874576]|0.0       |\n",
      "|0.0  |[4.026156743176436,-4.026156743176436]|[0.9824700109051254,0.017529989094874576]|0.0       |\n",
      "|0.0  |[4.026156743176436,-4.026156743176436]|[0.9824700109051254,0.017529989094874576]|0.0       |\n",
      "+-----+--------------------------------------+-----------------------------------------+----------+\n",
      "only showing top 50 rows\n",
      "\n"
     ]
    }
   ],
   "source": [
    "predictonDF.select(\"label\",\"rawPrediction\", \"probability\", \"prediction\").show(50,False)"
   ]
  },
  {
   "cell_type": "markdown",
   "metadata": {
    "id": "6JBg24C8OHkr"
   },
   "source": [
    "### Model Evaluation"
   ]
  },
  {
   "cell_type": "code",
   "execution_count": 37,
   "metadata": {
    "colab": {
     "base_uri": "https://localhost:8080/"
    },
    "executionInfo": {
     "elapsed": 5001,
     "status": "ok",
     "timestamp": 1673874136929,
     "user": {
      "displayName": "V. Arun Kumar",
      "userId": "02991517788843717529"
     },
     "user_tz": -330
    },
    "id": "rrMCnO-XODsU",
    "outputId": "ad93b941-0626-44fb-9270-301940f4cc36"
   },
   "outputs": [
    {
     "name": "stdout",
     "output_type": "stream",
     "text": [
      "Accuracy =  0.98134882220071\n",
      "Area under the ROC curve =  0.5\n"
     ]
    }
   ],
   "source": [
    "# import BinaryClassificationEvaluator from the pyspark.ml.evaluation package\n",
    "from pyspark.ml.evaluation import BinaryClassificationEvaluator\n",
    "\n",
    "# Build the BinaryClassificationEvaluator object 'evaluator'\n",
    "evaluator = BinaryClassificationEvaluator()\n",
    "\n",
    "# Calculate the accracy and print its value\n",
    "accuracy = predictonDF.filter(predictonDF.label == predictonDF.prediction).count()/float(predictonDF.count())\n",
    "print(\"Accuracy = \", accuracy)\n",
    "\n",
    "# evaluate(predictiondataframe) gets area under the ROC curve\n",
    "print('Area under the ROC curve = ', evaluator.evaluate(predictonDF))"
   ]
  },
  {
   "cell_type": "code",
   "execution_count": 38,
   "metadata": {
    "colab": {
     "base_uri": "https://localhost:8080/"
    },
    "executionInfo": {
     "elapsed": 2435,
     "status": "ok",
     "timestamp": 1673874139360,
     "user": {
      "displayName": "V. Arun Kumar",
      "userId": "02991517788843717529"
     },
     "user_tz": -330
    },
    "id": "8u-DZrkBOKAy",
    "outputId": "16d1a3c0-504b-4d55-c630-592485c5edea"
   },
   "outputs": [
    {
     "name": "stdout",
     "output_type": "stream",
     "text": [
      "Accuracy =  0.9824700109051254\n",
      "Area under the ROC curve =  0.5\n",
      "Precision =  0.9652473223279173\n",
      "Recall =  0.9824700109051254\n",
      "F1 Score =  0.973782520813235\n"
     ]
    }
   ],
   "source": [
    "# Create model summary object\n",
    "lrmodelSummary = lrmodel.summary\n",
    "\n",
    "# Print the following metrics one by one: \n",
    "# 1. Accuracy\n",
    "# Accuracy is a model summary parameter\n",
    "print(\"Accuracy = \", lrmodelSummary.accuracy)\n",
    "# 2. Area under the ROC curve\n",
    "# Area under the ROC curve is a model summary parameter\n",
    "print(\"Area under the ROC curve = \", lrmodelSummary.areaUnderROC)\n",
    "# 3. Precision (Positive Predictive Value)\n",
    "# Precision is a model summary parameter\n",
    "print(\"Precision = \", lrmodelSummary.weightedPrecision)\n",
    "# 4. Recall (True Positive Rate)\n",
    "# Recall is a model summary parameter\n",
    "print(\"Recall = \", lrmodelSummary.weightedRecall)\n",
    "# 5. F1 Score (F-measure)\n",
    "# F1 Score is a model summary method\n",
    "print(\"F1 Score = \", lrmodelSummary.weightedFMeasure())"
   ]
  }
 ],
 "metadata": {
  "colab": {
   "provenance": []
  },
  "kernelspec": {
   "display_name": "Python 3 (ipykernel)",
   "language": "python",
   "name": "python3"
  },
  "language_info": {
   "codemirror_mode": {
    "name": "ipython",
    "version": 3
   },
   "file_extension": ".py",
   "mimetype": "text/x-python",
   "name": "python",
   "nbconvert_exporter": "python",
   "pygments_lexer": "ipython3",
   "version": "3.10.6"
  }
 },
 "nbformat": 4,
 "nbformat_minor": 1
}
