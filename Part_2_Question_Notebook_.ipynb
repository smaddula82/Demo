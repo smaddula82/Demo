{
  "cells": [
    {
      "cell_type": "markdown",
      "source": [
        "### Setup the Spark VM and complete the below assignment\n",
        "\n",
        "Objective:- Build a ML model to predict the employee compensation.\n",
        "The application should be modelled using Spark.\n",
        "\n",
        "You can refer to the below links for spark commands:- \n",
        "- https://spark.apache.org/docs/latest/ml-pipeline.html\n",
        "\n",
        "- https://github.com/spark-in-action/first-edition\n",
        "\n",
        "- https://github.com/FavioVazquez/first_spark_model"
      ],
      "metadata": {
        "id": "dOMqSrk_Q-xH"
      }
    },
    {
      "cell_type": "markdown",
      "metadata": {
        "application/vnd.databricks.v1+cell": {
          "inputWidgets": {},
          "nuid": "2f9c04dd-cf52-4c53-aecd-bfe96f9529af",
          "showTitle": false,
          "title": ""
        },
        "id": "lAEn9f14QP0a"
      },
      "source": [
        "# Predicting Employee Compensation"
      ]
    },
    {
      "cell_type": "markdown",
      "metadata": {
        "application/vnd.databricks.v1+cell": {
          "inputWidgets": {},
          "nuid": "0ad7374a-5b59-4f1d-9a73-ecdf72f93ffd",
          "showTitle": false,
          "title": ""
        },
        "id": "SsDAS5vxQP0c"
      },
      "source": [
        "## Data Dictionary\n",
        "<br>**Year Type** - Fiscal (July through June) or Calendar (January through December)\n",
        "<br>**Year** - An accounting period of 12 months. The City and County of San Francisco operates on a fiscal year that begins on July 1 and ends on June 30 the following year. The Fiscal Year ending June 30, 2012 is represented as FY2011-2012.\n",
        "<br>**Organization Group Code** - Org Group is a group of Departments. For example, the Public Protection Org Group includes departments such as the Police,Fire, Adult Probation, District Attorney, and Sheriff.\n",
        "<br> **Organization Group** - Org Group is a group of Departments. For example, the Public Protection Org Group includes departments such as the Police,\n",
        "Fire, Adult Probation, District Attorney, and Sheriff.\n",
        "<br>**Department Code** - Departments are the primary organizational unit used by the Cityand County of San Francisco. Examples include Recreation and\n",
        "Parks, Public Works, and the Police Department.\n",
        "<br>**Department Code** - Departments are the primary organizational unit used by the City and County of San Francisco. Examples include Recreation and Parks, Public Works, and the Police Department.\n",
        "<br>**Union Code** - Unions represent employees in collective bargaining agreements. A job belongs to one union, although some jobs are unrepresented (usually temporarily).\n",
        "<br>**Union** - Unions represent employees in collective bargaining agreements. A job belongs to one union, although some jobs are unrepresented (usually temporarily).\n",
        "<br>**Job Family Code** Job Family combines similar Jobs into meaningful groups.\n",
        "<br>**Job Family** Job Family combines similar Jobs into meaningful groups.\n",
        "<br>**Employee Identifier** Each distinct number in the “Employee Identifier” column represents one employee. These identifying numbers are not meaningful but rather are randomly assigned for the purpose of building this dataset. The column does not appear on the\n",
        "Employee Compensation report hosted on openbook.sfgov.org,\n",
        "but that report does show one row for each employee. Employee\n",
        "ID has been included here to allow users to reconstruct the\n",
        "original report. Note that each employee’s identifier will change\n",
        "each time this dataset is updated, so comparisons by employee\n",
        "across multiple versions of the dataset are not possible.\n",
        "<br>**Salaries** - Normal salaries paid to permanent or temporary City employees.\n",
        "<br>**Overtime** - Amounts paid to City employees working in excess of 40 hours\n",
        "per week.\n",
        "<br>**Other Salaries** - Various irregular payments made to City employees including premium pay, incentive pay, or other one-time payments. Total Salary Number The sum of all salaries paid to City employees.\n",
        "<br>**Retirement** City contributions to employee retirement plans.\n",
        "<br>**Health/Dental** City-paid premiums to health and dental insurance plans covering City employees. To protect confidentiality as legally required, pro-rated citywide averages are presented in lieu of employee-specific health and dental benefits.\n",
        "<br>**Other Benefits** Mandatory benefits paid on behalf of employees, such as Social Security (FICA and Medicare) contributions, unemployment\n",
        "insurance premiums, and minor discretionary benefits not included in the above categories.\n",
        "<br>**Total Benefits** The sum of all benefits paid to City employees.\n",
        "<br>**Total Compensation** The sum of all salaries and benefits paid to City employees."
      ]
    },
    {
      "cell_type": "markdown",
      "metadata": {
        "id": "v_3QapC-QP0d"
      },
      "source": [
        "Read the data and answer the following questions to predict employee compensation"
      ]
    },
    {
      "cell_type": "markdown",
      "metadata": {
        "application/vnd.databricks.v1+cell": {
          "inputWidgets": {},
          "nuid": "ffb92bbb-6e3b-46ec-885e-bb4471538c0c",
          "showTitle": false,
          "title": ""
        },
        "id": "_nMVTM8BQP0d"
      },
      "source": [
        "## 1. Read the Data"
      ]
    },
    {
      "cell_type": "code",
      "source": [
        "pip install pyspark"
      ],
      "metadata": {
        "id": "oKyTtwSqRY7b",
        "colab": {
          "base_uri": "https://localhost:8080/"
        },
        "outputId": "686ff96c-b281-43b9-ebab-0b02ad0c6296"
      },
      "execution_count": 1,
      "outputs": [
        {
          "output_type": "stream",
          "name": "stdout",
          "text": [
            "Looking in indexes: https://pypi.org/simple, https://us-python.pkg.dev/colab-wheels/public/simple/\n",
            "Collecting pyspark\n",
            "  Downloading pyspark-3.3.1.tar.gz (281.4 MB)\n",
            "\u001b[2K     \u001b[90m━━━━━━━━━━━━━━━━━━━━━━━━━━━━━━━━━━━━━━━\u001b[0m \u001b[32m281.4/281.4 MB\u001b[0m \u001b[31m4.2 MB/s\u001b[0m eta \u001b[36m0:00:00\u001b[0m\n",
            "\u001b[?25h  Preparing metadata (setup.py) ... \u001b[?25l\u001b[?25hdone\n",
            "Collecting py4j==0.10.9.5\n",
            "  Downloading py4j-0.10.9.5-py2.py3-none-any.whl (199 kB)\n",
            "\u001b[2K     \u001b[90m━━━━━━━━━━━━━━━━━━━━━━━━━━━━━━━━━━━━━━━\u001b[0m \u001b[32m199.7/199.7 KB\u001b[0m \u001b[31m6.7 MB/s\u001b[0m eta \u001b[36m0:00:00\u001b[0m\n",
            "\u001b[?25hBuilding wheels for collected packages: pyspark\n",
            "  Building wheel for pyspark (setup.py) ... \u001b[?25l\u001b[?25hdone\n",
            "  Created wheel for pyspark: filename=pyspark-3.3.1-py2.py3-none-any.whl size=281845512 sha256=e31e1a5af8a204432a9742a0cbacd42486a65a8088821752708ffd1d719ce03b\n",
            "  Stored in directory: /root/.cache/pip/wheels/43/dc/11/ec201cd671da62fa9c5cc77078235e40722170ceba231d7598\n",
            "Successfully built pyspark\n",
            "Installing collected packages: py4j, pyspark\n",
            "Successfully installed py4j-0.10.9.5 pyspark-3.3.1\n"
          ]
        }
      ]
    },
    {
      "cell_type": "code",
      "source": [
        "pip install findspark"
      ],
      "metadata": {
        "colab": {
          "base_uri": "https://localhost:8080/"
        },
        "id": "87cl9Abn88pe",
        "outputId": "4f7af0a9-d274-4402-8805-53d9bbb012a2"
      },
      "execution_count": 2,
      "outputs": [
        {
          "output_type": "stream",
          "name": "stdout",
          "text": [
            "Looking in indexes: https://pypi.org/simple, https://us-python.pkg.dev/colab-wheels/public/simple/\n",
            "Collecting findspark\n",
            "  Downloading findspark-2.0.1-py2.py3-none-any.whl (4.4 kB)\n",
            "Installing collected packages: findspark\n",
            "Successfully installed findspark-2.0.1\n"
          ]
        }
      ]
    },
    {
      "cell_type": "code",
      "source": [
        "#importing the libraries and creating the spark session\n",
        "import findspark\n",
        "findspark.init()\n",
        "findspark.find()"
      ],
      "metadata": {
        "colab": {
          "base_uri": "https://localhost:8080/",
          "height": 35
        },
        "id": "a2knB0KK98bh",
        "outputId": "230768cf-0b10-416f-c663-38ebf760dbf9"
      },
      "execution_count": 3,
      "outputs": [
        {
          "output_type": "execute_result",
          "data": {
            "text/plain": [
              "'/usr/local/lib/python3.8/dist-packages/pyspark'"
            ],
            "application/vnd.google.colaboratory.intrinsic+json": {
              "type": "string"
            }
          },
          "metadata": {},
          "execution_count": 3
        }
      ]
    },
    {
      "cell_type": "code",
      "source": [
        "from pyspark.sql import DataFrame, SparkSession\n",
        "from typing import List\n",
        "import pyspark.sql.types as T\n",
        "import pyspark.sql.functions as F\n",
        "from pyspark import SparkFiles\n",
        "\n",
        "\n",
        "spark = SparkSession \\\n",
        "       .builder \\\n",
        "       .appName(\"Employee Compensation\") \\\n",
        "       .getOrCreate()\n",
        "\n",
        "spark"
      ],
      "metadata": {
        "colab": {
          "base_uri": "https://localhost:8080/",
          "height": 219
        },
        "id": "ATupW4Cl-E_b",
        "outputId": "5dd6a94f-8b49-4c29-886a-cfdb79c4df9c"
      },
      "execution_count": 4,
      "outputs": [
        {
          "output_type": "execute_result",
          "data": {
            "text/plain": [
              "<pyspark.sql.session.SparkSession at 0x7fe53e294730>"
            ],
            "text/html": [
              "\n",
              "            <div>\n",
              "                <p><b>SparkSession - in-memory</b></p>\n",
              "                \n",
              "        <div>\n",
              "            <p><b>SparkContext</b></p>\n",
              "\n",
              "            <p><a href=\"http://6699d81c0d76:4040\">Spark UI</a></p>\n",
              "\n",
              "            <dl>\n",
              "              <dt>Version</dt>\n",
              "                <dd><code>v3.3.1</code></dd>\n",
              "              <dt>Master</dt>\n",
              "                <dd><code>local[*]</code></dd>\n",
              "              <dt>AppName</dt>\n",
              "                <dd><code>Employee Compensation</code></dd>\n",
              "            </dl>\n",
              "        </div>\n",
              "        \n",
              "            </div>\n",
              "        "
            ]
          },
          "metadata": {},
          "execution_count": 4
        }
      ]
    },
    {
      "cell_type": "code",
      "source": [
        "#Reading the data\n",
        "url='https://raw.githubusercontent.com/smaddula82/Demo/master/Employee_Compensation.csv'\n",
        "spark.sparkContext.addFile(url)\n",
        "df = spark.read.csv(SparkFiles.get(\"Employee_Compensation.csv\"),inferSchema=True, header= True)"
      ],
      "metadata": {
        "id": "I_RMU4nK-hZp"
      },
      "execution_count": 5,
      "outputs": []
    },
    {
      "cell_type": "markdown",
      "source": [
        "### 1.1 Display the number of rows and columns in the dataset"
      ],
      "metadata": {
        "id": "aWQ3YZi0RdP_"
      }
    },
    {
      "cell_type": "code",
      "source": [
        "#Number of rows\n",
        "df.count()"
      ],
      "metadata": {
        "id": "hdbFw58TRjQd",
        "colab": {
          "base_uri": "https://localhost:8080/"
        },
        "outputId": "1e35dc52-61c0-47e4-ad47-f946c5805205"
      },
      "execution_count": 6,
      "outputs": [
        {
          "output_type": "execute_result",
          "data": {
            "text/plain": [
              "291825"
            ]
          },
          "metadata": {},
          "execution_count": 6
        }
      ]
    },
    {
      "cell_type": "code",
      "source": [
        "#Number of columns\n",
        "len(df.columns)"
      ],
      "metadata": {
        "colab": {
          "base_uri": "https://localhost:8080/"
        },
        "id": "tYc6FW6j_KNh",
        "outputId": "70b903ca-7bc7-4e42-86b3-d0c627fe92df"
      },
      "execution_count": 7,
      "outputs": [
        {
          "output_type": "execute_result",
          "data": {
            "text/plain": [
              "22"
            ]
          },
          "metadata": {},
          "execution_count": 7
        }
      ]
    },
    {
      "cell_type": "markdown",
      "source": [
        "### 1.2 Check the datatype of the variables"
      ],
      "metadata": {
        "id": "cZYaCB4cRjjg"
      }
    },
    {
      "cell_type": "code",
      "source": [
        "#Checkin the schema\n",
        "df.printSchema()"
      ],
      "metadata": {
        "id": "jdPpc_mgRpva",
        "colab": {
          "base_uri": "https://localhost:8080/"
        },
        "outputId": "8fe8112a-986f-4634-e4a6-13f5a208564b"
      },
      "execution_count": 8,
      "outputs": [
        {
          "output_type": "stream",
          "name": "stdout",
          "text": [
            "root\n",
            " |-- Year Type: string (nullable = true)\n",
            " |-- Year: integer (nullable = true)\n",
            " |-- Organization Group Code: integer (nullable = true)\n",
            " |-- Organization Group: string (nullable = true)\n",
            " |-- Department Code: string (nullable = true)\n",
            " |-- Department: string (nullable = true)\n",
            " |-- Union Code: integer (nullable = true)\n",
            " |-- Union: string (nullable = true)\n",
            " |-- Job Family Code: string (nullable = true)\n",
            " |-- Job Family: string (nullable = true)\n",
            " |-- Job Code: string (nullable = true)\n",
            " |-- Job: string (nullable = true)\n",
            " |-- Employee Identifier: integer (nullable = true)\n",
            " |-- Salaries: double (nullable = true)\n",
            " |-- Overtime: double (nullable = true)\n",
            " |-- Other Salaries: double (nullable = true)\n",
            " |-- Total Salary: double (nullable = true)\n",
            " |-- Retirement: double (nullable = true)\n",
            " |-- Health/Dental: double (nullable = true)\n",
            " |-- Other Benefits: double (nullable = true)\n",
            " |-- Total Benefits: double (nullable = true)\n",
            " |-- Total Compensation: double (nullable = true)\n",
            "\n"
          ]
        }
      ]
    },
    {
      "cell_type": "code",
      "source": [
        "#Checking the data\n",
        "df.show(5,False)"
      ],
      "metadata": {
        "colab": {
          "base_uri": "https://localhost:8080/"
        },
        "id": "l21edFhyADbn",
        "outputId": "009df1f6-691e-48de-dbea-4c104a660da9"
      },
      "execution_count": 9,
      "outputs": [
        {
          "output_type": "stream",
          "name": "stdout",
          "text": [
            "+---------+----+-----------------------+--------------------+---------------+------------------------------+----------+---------------------------------+---------------+-----------------------------+--------+---------------------------+-------------------+---------+--------+--------------+------------+----------+-------------+--------------+--------------+------------------+\n",
            "|Year Type|Year|Organization Group Code|Organization Group  |Department Code|Department                    |Union Code|Union                            |Job Family Code|Job Family                   |Job Code|Job                        |Employee Identifier|Salaries |Overtime|Other Salaries|Total Salary|Retirement|Health/Dental|Other Benefits|Total Benefits|Total Compensation|\n",
            "+---------+----+-----------------------+--------------------+---------------+------------------------------+----------+---------------------------------+---------------+-----------------------------+--------+---------------------------+-------------------+---------+--------+--------------+------------+----------+-------------+--------------+--------------+------------------+\n",
            "|Fiscal   |2016|1                      |Public Protection   |DAT            |District Attorney             |311       |Municipal Attorneys' Association |8100           |Legal & Court                |8177    |Attorney (Civil/Criminal)  |49919              |114473.16|0.0     |1500.0        |115973.16   |21025.98  |13068.8      |9368.71       |43463.49      |159436.65         |\n",
            "|Calendar |2013|5                      |Culture & Recreation|ART            |Arts Commission               |790       |SEIU - Miscellaneous, Local 1021 |1800           |Budget, Admn & Stats Analysis|1844    |Senior Management Assistant|1225               |84077.11 |0.0     |0.0           |84077.11    |16587.3   |12457.73     |6931.91       |35976.94      |120054.05         |\n",
            "|Calendar |2015|4                      |Community Health    |DPH            |Public Health                 |535       |SEIU - Human Services, Local 1021|2900           |Human Services               |2903    |Eligibility Worker         |34873              |9980.17  |0.0     |798.43        |10778.6     |0.0       |2254.93      |835.11        |3090.04       |13868.64          |\n",
            "|Fiscal   |2015|4                      |Community Health    |DPH            |Public Health                 |250       |SEIU - Health Workers, Local 1021|2200           |Medical & Dental             |2202    |Dental Aide                |51145              |2873.41  |0.0     |0.0           |2873.41     |0.0       |622.63       |222.46        |845.09        |3718.5            |\n",
            "|Fiscal   |2014|5                      |Culture & Recreation|REC            |Recreation and Park Commission|790       |SEIU - Miscellaneous, Local 1021 |3200           |Recreation                   |3279    |Recreation Leader          |48705              |6701.85  |0.0     |176.7         |6878.55     |0.0       |2711.66      |538.43        |3250.09       |10128.64          |\n",
            "+---------+----+-----------------------+--------------------+---------------+------------------------------+----------+---------------------------------+---------------+-----------------------------+--------+---------------------------+-------------------+---------+--------+--------------+------------+----------+-------------+--------------+--------------+------------------+\n",
            "only showing top 5 rows\n",
            "\n"
          ]
        }
      ]
    },
    {
      "cell_type": "markdown",
      "metadata": {
        "id": "re0TB8PAQP0f"
      },
      "source": [
        "### 2. Convert the incorrect column type into its suitable column type. And drop the redundant features"
      ]
    },
    {
      "cell_type": "code",
      "execution_count": 10,
      "metadata": {
        "collapsed": true,
        "id": "173LNkp7QP0f"
      },
      "outputs": [],
      "source": [
        "#Renaming the columns\n",
        "df1=df.withColumnRenamed(\"Year Type\",\"Year_Type\").withColumnRenamed(\"Organization Group Code\",\"Organization_Group_Code\").\\\n",
        "withColumnRenamed(\"Organization Group\",\"Organization_Group\").withColumnRenamed(\"Department Code\",\"Department_Code\").\\\n",
        "withColumnRenamed(\"Union Code\",\"Union_Code\").withColumnRenamed(\"Job Family Code\",\"Job_Family_Code\").\\\n",
        "withColumnRenamed(\"Job Family\",\"Job_Family\").withColumnRenamed(\"Job Code\",\"Job_Code\").withColumnRenamed(\"Employee Identifier\",\"Employee_Identifier\").\\\n",
        "withColumnRenamed(\"Other Salaries\",\"Other_Salaries\").withColumnRenamed(\"Total Salary\",\"Total_Salary\").withColumnRenamed(\"Health/Dental\",\"Health_Dental\").\\\n",
        "withColumnRenamed(\"Other Benefits\",\"Other_Benefits\").withColumnRenamed(\"Total Benefits\",\"Total_Benefits\").withColumnRenamed(\"Total Compensation\",\"Total_Compensation\")\n"
      ]
    },
    {
      "cell_type": "code",
      "source": [
        "#checking the data after renaming\n",
        "df1.show(5,False)"
      ],
      "metadata": {
        "colab": {
          "base_uri": "https://localhost:8080/"
        },
        "id": "CQZVfZcTfHiP",
        "outputId": "9444cc39-0626-4158-dea8-8124bbe3e57f"
      },
      "execution_count": 11,
      "outputs": [
        {
          "output_type": "stream",
          "name": "stdout",
          "text": [
            "+---------+----+-----------------------+--------------------+---------------+------------------------------+----------+---------------------------------+---------------+-----------------------------+--------+---------------------------+-------------------+---------+--------+--------------+------------+----------+-------------+--------------+--------------+------------------+\n",
            "|Year_Type|Year|Organization_Group_Code|Organization_Group  |Department_Code|Department                    |Union_Code|Union                            |Job_Family_Code|Job_Family                   |Job_Code|Job                        |Employee_Identifier|Salaries |Overtime|Other_Salaries|Total_Salary|Retirement|Health_Dental|Other_Benefits|Total_Benefits|Total_Compensation|\n",
            "+---------+----+-----------------------+--------------------+---------------+------------------------------+----------+---------------------------------+---------------+-----------------------------+--------+---------------------------+-------------------+---------+--------+--------------+------------+----------+-------------+--------------+--------------+------------------+\n",
            "|Fiscal   |2016|1                      |Public Protection   |DAT            |District Attorney             |311       |Municipal Attorneys' Association |8100           |Legal & Court                |8177    |Attorney (Civil/Criminal)  |49919              |114473.16|0.0     |1500.0        |115973.16   |21025.98  |13068.8      |9368.71       |43463.49      |159436.65         |\n",
            "|Calendar |2013|5                      |Culture & Recreation|ART            |Arts Commission               |790       |SEIU - Miscellaneous, Local 1021 |1800           |Budget, Admn & Stats Analysis|1844    |Senior Management Assistant|1225               |84077.11 |0.0     |0.0           |84077.11    |16587.3   |12457.73     |6931.91       |35976.94      |120054.05         |\n",
            "|Calendar |2015|4                      |Community Health    |DPH            |Public Health                 |535       |SEIU - Human Services, Local 1021|2900           |Human Services               |2903    |Eligibility Worker         |34873              |9980.17  |0.0     |798.43        |10778.6     |0.0       |2254.93      |835.11        |3090.04       |13868.64          |\n",
            "|Fiscal   |2015|4                      |Community Health    |DPH            |Public Health                 |250       |SEIU - Health Workers, Local 1021|2200           |Medical & Dental             |2202    |Dental Aide                |51145              |2873.41  |0.0     |0.0           |2873.41     |0.0       |622.63       |222.46        |845.09        |3718.5            |\n",
            "|Fiscal   |2014|5                      |Culture & Recreation|REC            |Recreation and Park Commission|790       |SEIU - Miscellaneous, Local 1021 |3200           |Recreation                   |3279    |Recreation Leader          |48705              |6701.85  |0.0     |176.7         |6878.55     |0.0       |2711.66      |538.43        |3250.09       |10128.64          |\n",
            "+---------+----+-----------------------+--------------------+---------------+------------------------------+----------+---------------------------------+---------------+-----------------------------+--------+---------------------------+-------------------+---------+--------+--------------+------------+----------+-------------+--------------+--------------+------------------+\n",
            "only showing top 5 rows\n",
            "\n"
          ]
        }
      ]
    },
    {
      "cell_type": "code",
      "source": [
        "#checking the schema\n",
        "df1.printSchema()"
      ],
      "metadata": {
        "colab": {
          "base_uri": "https://localhost:8080/"
        },
        "id": "hABMztR8hUCF",
        "outputId": "d4545d5a-fec5-4309-c054-8baf25573e79"
      },
      "execution_count": 12,
      "outputs": [
        {
          "output_type": "stream",
          "name": "stdout",
          "text": [
            "root\n",
            " |-- Year_Type: string (nullable = true)\n",
            " |-- Year: integer (nullable = true)\n",
            " |-- Organization_Group_Code: integer (nullable = true)\n",
            " |-- Organization_Group: string (nullable = true)\n",
            " |-- Department_Code: string (nullable = true)\n",
            " |-- Department: string (nullable = true)\n",
            " |-- Union_Code: integer (nullable = true)\n",
            " |-- Union: string (nullable = true)\n",
            " |-- Job_Family_Code: string (nullable = true)\n",
            " |-- Job_Family: string (nullable = true)\n",
            " |-- Job_Code: string (nullable = true)\n",
            " |-- Job: string (nullable = true)\n",
            " |-- Employee_Identifier: integer (nullable = true)\n",
            " |-- Salaries: double (nullable = true)\n",
            " |-- Overtime: double (nullable = true)\n",
            " |-- Other_Salaries: double (nullable = true)\n",
            " |-- Total_Salary: double (nullable = true)\n",
            " |-- Retirement: double (nullable = true)\n",
            " |-- Health_Dental: double (nullable = true)\n",
            " |-- Other_Benefits: double (nullable = true)\n",
            " |-- Total_Benefits: double (nullable = true)\n",
            " |-- Total_Compensation: double (nullable = true)\n",
            "\n"
          ]
        }
      ]
    },
    {
      "cell_type": "code",
      "source": [
        "#Dropping Year,Organistaion Group Code,Department Code,Union Code,Job Family Code,Job Code,which are redundant, Employee Identifier which is unique number\n",
        "#Also Total Salary and Total Benefits are just summation components\n",
        "df2=df1.drop(\"Year\",\"Organization_Group_Code\",\"Department_Code\",\"Union_Code\",\"Job_Family_Code\",\"Job_Code\",\"Employee_Identifier\",\"Total_Salary\",\"Total_Benefits\")"
      ],
      "metadata": {
        "id": "lPSZ-4gGhvfd"
      },
      "execution_count": 13,
      "outputs": []
    },
    {
      "cell_type": "code",
      "source": [
        "#checking the schema\n",
        "df2.printSchema()"
      ],
      "metadata": {
        "colab": {
          "base_uri": "https://localhost:8080/"
        },
        "id": "trBgo_c665tz",
        "outputId": "63d32841-1fdb-4094-f345-ef5c9fbac460"
      },
      "execution_count": 14,
      "outputs": [
        {
          "output_type": "stream",
          "name": "stdout",
          "text": [
            "root\n",
            " |-- Year_Type: string (nullable = true)\n",
            " |-- Organization_Group: string (nullable = true)\n",
            " |-- Department: string (nullable = true)\n",
            " |-- Union: string (nullable = true)\n",
            " |-- Job_Family: string (nullable = true)\n",
            " |-- Job: string (nullable = true)\n",
            " |-- Salaries: double (nullable = true)\n",
            " |-- Overtime: double (nullable = true)\n",
            " |-- Other_Salaries: double (nullable = true)\n",
            " |-- Retirement: double (nullable = true)\n",
            " |-- Health_Dental: double (nullable = true)\n",
            " |-- Other_Benefits: double (nullable = true)\n",
            " |-- Total_Compensation: double (nullable = true)\n",
            "\n"
          ]
        }
      ]
    },
    {
      "cell_type": "code",
      "source": [
        "#checking the data\n",
        "df2.show(5,False)"
      ],
      "metadata": {
        "colab": {
          "base_uri": "https://localhost:8080/"
        },
        "id": "sbHPd_z3-bkP",
        "outputId": "22d31577-e9a9-4f9b-b4fb-b262b0c4036d"
      },
      "execution_count": 15,
      "outputs": [
        {
          "output_type": "stream",
          "name": "stdout",
          "text": [
            "+---------+--------------------+------------------------------+---------------------------------+-----------------------------+---------------------------+---------+--------+--------------+----------+-------------+--------------+------------------+\n",
            "|Year_Type|Organization_Group  |Department                    |Union                            |Job_Family                   |Job                        |Salaries |Overtime|Other_Salaries|Retirement|Health_Dental|Other_Benefits|Total_Compensation|\n",
            "+---------+--------------------+------------------------------+---------------------------------+-----------------------------+---------------------------+---------+--------+--------------+----------+-------------+--------------+------------------+\n",
            "|Fiscal   |Public Protection   |District Attorney             |Municipal Attorneys' Association |Legal & Court                |Attorney (Civil/Criminal)  |114473.16|0.0     |1500.0        |21025.98  |13068.8      |9368.71       |159436.65         |\n",
            "|Calendar |Culture & Recreation|Arts Commission               |SEIU - Miscellaneous, Local 1021 |Budget, Admn & Stats Analysis|Senior Management Assistant|84077.11 |0.0     |0.0           |16587.3   |12457.73     |6931.91       |120054.05         |\n",
            "|Calendar |Community Health    |Public Health                 |SEIU - Human Services, Local 1021|Human Services               |Eligibility Worker         |9980.17  |0.0     |798.43        |0.0       |2254.93      |835.11        |13868.64          |\n",
            "|Fiscal   |Community Health    |Public Health                 |SEIU - Health Workers, Local 1021|Medical & Dental             |Dental Aide                |2873.41  |0.0     |0.0           |0.0       |622.63       |222.46        |3718.5            |\n",
            "|Fiscal   |Culture & Recreation|Recreation and Park Commission|SEIU - Miscellaneous, Local 1021 |Recreation                   |Recreation Leader          |6701.85  |0.0     |176.7         |0.0       |2711.66      |538.43        |10128.64          |\n",
            "+---------+--------------------+------------------------------+---------------------------------+-----------------------------+---------------------------+---------+--------+--------------+----------+-------------+--------------+------------------+\n",
            "only showing top 5 rows\n",
            "\n"
          ]
        }
      ]
    },
    {
      "cell_type": "markdown",
      "metadata": {
        "application/vnd.databricks.v1+cell": {
          "inputWidgets": {},
          "nuid": "28154731-5e40-46a7-b9b3-9444c20c97e8",
          "showTitle": false,
          "title": ""
        },
        "id": "LYYQFu0dQP0g"
      },
      "source": [
        "### 3. Check basic statistics and perform necessary data preprocessing (Like removing negative amount)"
      ]
    },
    {
      "cell_type": "code",
      "source": [
        "#taking the amount variables into a list\n",
        "doublecols=[]\n",
        "for col_name in df2.dtypes:\n",
        "  # print(col_name)\n",
        "  if col_name[1] == 'double':\n",
        "    doublecols.append(col_name[0])\n",
        "\n",
        "print(doublecols)"
      ],
      "metadata": {
        "colab": {
          "base_uri": "https://localhost:8080/"
        },
        "id": "FW9-wgvTKiI5",
        "outputId": "9cfd9bca-eb11-480f-95cf-2f9bcd5d0707"
      },
      "execution_count": 16,
      "outputs": [
        {
          "output_type": "stream",
          "name": "stdout",
          "text": [
            "['Salaries', 'Overtime', 'Other_Salaries', 'Retirement', 'Health_Dental', 'Other_Benefits', 'Total_Compensation']\n"
          ]
        }
      ]
    },
    {
      "cell_type": "code",
      "source": [
        "#checking if amount is negative in any column\n",
        "for col_name in doublecols:\n",
        "  print(col_name)\n",
        "  print(df2.filter(F.col(col_name) < 0).count())"
      ],
      "metadata": {
        "colab": {
          "base_uri": "https://localhost:8080/"
        },
        "id": "k3IiaM0VMZV7",
        "outputId": "0151d721-2700-4063-ea57-e49cc821b0ad"
      },
      "execution_count": 17,
      "outputs": [
        {
          "output_type": "stream",
          "name": "stdout",
          "text": [
            "Salaries\n",
            "79\n",
            "Overtime\n",
            "30\n",
            "Other_Salaries\n",
            "62\n",
            "Retirement\n",
            "422\n",
            "Health_Dental\n",
            "344\n",
            "Other_Benefits\n",
            "679\n",
            "Total_Compensation\n",
            "246\n"
          ]
        }
      ]
    },
    {
      "cell_type": "code",
      "source": [
        "#Removing the rows having Salaries negative amount\n",
        "df2 = df2.withColumn('flag', F.when(df2[\"Salaries\"] < 0, 0).otherwise(1)).\\\n",
        "        filter('flag == \"1\"').\\\n",
        "        drop(\"flag\")"
      ],
      "metadata": {
        "id": "c4gdvU9LVrSc"
      },
      "execution_count": 18,
      "outputs": []
    },
    {
      "cell_type": "code",
      "source": [
        "#Removing the rows having Overtime negative amount\n",
        "df2 = df2.withColumn('flag', F.when(df2[\"Overtime\"] < 0, 0).otherwise(1)).\\\n",
        "        filter('flag == \"1\"').\\\n",
        "        drop(\"flag\")"
      ],
      "metadata": {
        "id": "twWXoc39YI9X"
      },
      "execution_count": 19,
      "outputs": []
    },
    {
      "cell_type": "code",
      "source": [
        "#Removing the rows having Other_Salaries negative amount\n",
        "df2 = df2.withColumn('flag', F.when(df2[\"Other_Salaries\"] < 0, 0).otherwise(1)).\\\n",
        "        filter('flag == \"1\"').\\\n",
        "        drop(\"flag\")"
      ],
      "metadata": {
        "id": "3iJGrxDnYv2T"
      },
      "execution_count": 20,
      "outputs": []
    },
    {
      "cell_type": "code",
      "source": [
        "#Removing the rows having Health_Dental negative amount\n",
        "df2 = df2.withColumn('flag', F.when(df2[\"Health_Dental\"] < 0, 0).otherwise(1)).\\\n",
        "        filter('flag == \"1\"').\\\n",
        "        drop(\"flag\")"
      ],
      "metadata": {
        "id": "WWFPupRCY9sN"
      },
      "execution_count": 21,
      "outputs": []
    },
    {
      "cell_type": "code",
      "source": [
        "#Removing the rows having Other_Benefits negative amount\n",
        "df2 = df2.withColumn('flag', F.when(df2[\"Other_Benefits\"] < 0, 0).otherwise(1)).\\\n",
        "        filter('flag == \"1\"').\\\n",
        "        drop(\"flag\")"
      ],
      "metadata": {
        "id": "H67CsdH1bn_i"
      },
      "execution_count": 22,
      "outputs": []
    },
    {
      "cell_type": "code",
      "source": [
        "#Removing the rows having Retirement negative amount\n",
        "df2 = df2.withColumn('flag', F.when(df2[\"Retirement\"] < 0, 0).otherwise(1)).\\\n",
        "        filter('flag == \"1\"').\\\n",
        "        drop(\"flag\")"
      ],
      "metadata": {
        "id": "fQb9YryjPX1n"
      },
      "execution_count": 23,
      "outputs": []
    },
    {
      "cell_type": "code",
      "source": [
        "#checking if amount is negative in any column again\n",
        "for col_name in doublecols:\n",
        "  print(col_name)\n",
        "  print(df2.filter(F.col(col_name) < 0).count())"
      ],
      "metadata": {
        "colab": {
          "base_uri": "https://localhost:8080/"
        },
        "id": "CdRPhyLIV3D_",
        "outputId": "ed4976f4-0f59-44e2-9a56-5d8fd4af454e"
      },
      "execution_count": 24,
      "outputs": [
        {
          "output_type": "stream",
          "name": "stdout",
          "text": [
            "Salaries\n",
            "0\n",
            "Overtime\n",
            "0\n",
            "Other_Salaries\n",
            "0\n",
            "Retirement\n",
            "0\n",
            "Health_Dental\n",
            "0\n",
            "Other_Benefits\n",
            "0\n",
            "Total_Compensation\n",
            "0\n"
          ]
        }
      ]
    },
    {
      "cell_type": "markdown",
      "metadata": {
        "application/vnd.databricks.v1+cell": {
          "inputWidgets": {},
          "nuid": "5b4a36b1-7f14-4a99-851e-492fd8ebb193",
          "showTitle": false,
          "title": ""
        },
        "id": "woI-NVRxQP0g"
      },
      "source": [
        "### 4. Perform Missing Value Analysis"
      ]
    },
    {
      "cell_type": "code",
      "source": [
        "#checking for null values\n",
        "from pyspark.sql.functions import isnull, when, count, col\n",
        "df2.select([count(when(isnull(c), c)).alias(c) for c in df2.columns]).show()"
      ],
      "metadata": {
        "colab": {
          "base_uri": "https://localhost:8080/"
        },
        "id": "-AEdbEgPcGEG",
        "outputId": "ae5897ca-df90-4880-eb6d-684d57c10237"
      },
      "execution_count": 25,
      "outputs": [
        {
          "output_type": "stream",
          "name": "stdout",
          "text": [
            "+---------+------------------+----------+-----+----------+---+--------+--------+--------------+----------+-------------+--------------+------------------+\n",
            "|Year_Type|Organization_Group|Department|Union|Job_Family|Job|Salaries|Overtime|Other_Salaries|Retirement|Health_Dental|Other_Benefits|Total_Compensation|\n",
            "+---------+------------------+----------+-----+----------+---+--------+--------+--------------+----------+-------------+--------------+------------------+\n",
            "|        0|                 0|         0|   43|        45|  0|       0|       0|             0|         0|            0|             0|                 0|\n",
            "+---------+------------------+----------+-----+----------+---+--------+--------+--------------+----------+-------------+--------------+------------------+\n",
            "\n"
          ]
        }
      ]
    },
    {
      "cell_type": "code",
      "source": [
        "#dropping the null values\n",
        "df2 = df2.na.drop()"
      ],
      "metadata": {
        "id": "_RIyF3ZhcLdt"
      },
      "execution_count": 26,
      "outputs": []
    },
    {
      "cell_type": "code",
      "source": [
        "#checking for null values\n",
        "df2.select([count(when(isnull(c), c)).alias(c) for c in df2.columns]).show()"
      ],
      "metadata": {
        "colab": {
          "base_uri": "https://localhost:8080/"
        },
        "id": "TNL2nFwDcS5L",
        "outputId": "3bcf7e4d-3269-46af-f2b7-8842bed50e95"
      },
      "execution_count": 27,
      "outputs": [
        {
          "output_type": "stream",
          "name": "stdout",
          "text": [
            "+---------+------------------+----------+-----+----------+---+--------+--------+--------------+----------+-------------+--------------+------------------+\n",
            "|Year_Type|Organization_Group|Department|Union|Job_Family|Job|Salaries|Overtime|Other_Salaries|Retirement|Health_Dental|Other_Benefits|Total_Compensation|\n",
            "+---------+------------------+----------+-----+----------+---+--------+--------+--------------+----------+-------------+--------------+------------------+\n",
            "|        0|                 0|         0|    0|         0|  0|       0|       0|             0|         0|            0|             0|                 0|\n",
            "+---------+------------------+----------+-----+----------+---+--------+--------+--------------+----------+-------------+--------------+------------------+\n",
            "\n"
          ]
        }
      ]
    },
    {
      "cell_type": "code",
      "source": [
        "#checking number of rows\n",
        "df2.count()"
      ],
      "metadata": {
        "colab": {
          "base_uri": "https://localhost:8080/"
        },
        "id": "QAZ1HBHgco9Q",
        "outputId": "332ea2a8-71c3-43f0-a0c3-5002dd4b13dd"
      },
      "execution_count": 28,
      "outputs": [
        {
          "output_type": "execute_result",
          "data": {
            "text/plain": [
              "290346"
            ]
          },
          "metadata": {},
          "execution_count": 28
        }
      ]
    },
    {
      "cell_type": "code",
      "source": [
        "df2.dtypes"
      ],
      "metadata": {
        "colab": {
          "base_uri": "https://localhost:8080/"
        },
        "id": "tRbzTBOXc4Vb",
        "outputId": "9d2f781c-d253-4cf9-eb5a-e7336ac92d35"
      },
      "execution_count": 29,
      "outputs": [
        {
          "output_type": "execute_result",
          "data": {
            "text/plain": [
              "[('Year_Type', 'string'),\n",
              " ('Organization_Group', 'string'),\n",
              " ('Department', 'string'),\n",
              " ('Union', 'string'),\n",
              " ('Job_Family', 'string'),\n",
              " ('Job', 'string'),\n",
              " ('Salaries', 'double'),\n",
              " ('Overtime', 'double'),\n",
              " ('Other_Salaries', 'double'),\n",
              " ('Retirement', 'double'),\n",
              " ('Health_Dental', 'double'),\n",
              " ('Other_Benefits', 'double'),\n",
              " ('Total_Compensation', 'double')]"
            ]
          },
          "metadata": {},
          "execution_count": 29
        }
      ]
    },
    {
      "cell_type": "markdown",
      "metadata": {
        "application/vnd.databricks.v1+cell": {
          "inputWidgets": {},
          "nuid": "9cd43cd2-ed88-4edf-ba6f-7e7e6f2f65d1",
          "showTitle": false,
          "title": ""
        },
        "id": "K_KbHnjZQP0g"
      },
      "source": [
        "### 5. Exploratory Data Analysis"
      ]
    },
    {
      "cell_type": "markdown",
      "metadata": {
        "application/vnd.databricks.v1+cell": {
          "inputWidgets": {},
          "nuid": "44aa560c-5c6a-4188-a740-5e49cd147b26",
          "showTitle": false,
          "title": ""
        },
        "id": "5hea56hUQP0h"
      },
      "source": [
        "#### 5.1. Find top compensating organizations. Display using bar plot"
      ]
    },
    {
      "cell_type": "code",
      "execution_count": 30,
      "metadata": {
        "collapsed": true,
        "id": "kpaIAoMQQP0h",
        "colab": {
          "base_uri": "https://localhost:8080/"
        },
        "outputId": "5243b415-64e5-40c9-856a-25c80d825241"
      },
      "outputs": [
        {
          "output_type": "stream",
          "name": "stdout",
          "text": [
            "+--------------------+--------------------+\n",
            "|  Organization_Group|Average Compensation|\n",
            "+--------------------+--------------------+\n",
            "|   Public Protection|  142451.78013578497|\n",
            "|Public Works, Tra...|   98894.68105790547|\n",
            "|    Community Health|   95983.98174281622|\n",
            "|General Administr...|   91228.83890799127|\n",
            "|Human Welfare & N...|   66688.48304309053|\n",
            "|Culture & Recreation|   49340.02902766771|\n",
            "|General City Resp...|  17008.011317567572|\n",
            "+--------------------+--------------------+\n",
            "\n"
          ]
        }
      ],
      "source": [
        "from pyspark.sql.functions import avg,desc\n",
        "df2.groupBy(\"Organization_Group\").agg(avg(\"Total_Compensation\").alias(\"Average Compensation\")).sort(desc(\"Average Compensation\")).show()\n"
      ]
    },
    {
      "cell_type": "code",
      "source": [
        "import numpy as np # linear algebra\n",
        "import matplotlib.pyplot as plt \n",
        "import seaborn as sns\n",
        "import pandas as pd\n",
        "fig = plt.figure(figsize =(25, 10))\n",
        "\n",
        "orgDF = df2[['Organization_Group','Total_Compensation']].groupby('Organization_Group').agg(avg('Total_Compensation').alias(\"Average Compensation\")).sort(desc(\"Average Compensation\")).toPandas().head(10)\n",
        "# display the top 10 organisation group \n",
        "plt.bar(orgDF[\"Organization_Group\"], orgDF[\"Average Compensation\"])"
      ],
      "metadata": {
        "colab": {
          "base_uri": "https://localhost:8080/",
          "height": 526
        },
        "id": "2NuWrz2oalOh",
        "outputId": "2a77e663-dff9-432e-85fd-6c0131608ab2"
      },
      "execution_count": 31,
      "outputs": [
        {
          "output_type": "execute_result",
          "data": {
            "text/plain": [
              "<BarContainer object of 7 artists>"
            ]
          },
          "metadata": {},
          "execution_count": 31
        },
        {
          "output_type": "display_data",
          "data": {
            "text/plain": [
              "<Figure size 1800x720 with 1 Axes>"
            ],
            "image/png": "[encoded data removed]"
          },
          "metadata": {
            "needs_background": "light"
          }
        }
      ]
    },
    {
      "cell_type": "code",
      "source": [
        "#public Protection organization is the top compensating organization from above."
      ],
      "metadata": {
        "id": "5irtRsteQNVF"
      },
      "execution_count": 32,
      "outputs": []
    },
    {
      "cell_type": "markdown",
      "metadata": {
        "application/vnd.databricks.v1+cell": {
          "inputWidgets": {},
          "nuid": "c991e941-045b-4556-ba17-f9c5454fdf06",
          "showTitle": false,
          "title": ""
        },
        "id": "hijeAEfXQP0h"
      },
      "source": [
        "#### 5.2. Find top Compensating Jobs. Display using bar plot"
      ]
    },
    {
      "cell_type": "code",
      "execution_count": 33,
      "metadata": {
        "collapsed": true,
        "id": "AmdpJh5vQP0h",
        "colab": {
          "base_uri": "https://localhost:8080/"
        },
        "outputId": "4950363b-740b-4e90-8519-e3af604339ac"
      },
      "outputs": [
        {
          "output_type": "stream",
          "name": "stdout",
          "text": [
            "+--------------------+--------------------+\n",
            "|                 Job|Average Compensation|\n",
            "+--------------------+--------------------+\n",
            "|     Chief Of Police|   421244.0228571429|\n",
            "|Chief, Fire Depar...|   417736.6542857143|\n",
            "|Gen Mgr, Public T...|   393196.4685714286|\n",
            "|Chief Investment ...|   376094.1242857143|\n",
            "|               Mayor|  371392.54571428575|\n",
            "|         Dept Head V|   358547.0466666666|\n",
            "|          Controller|  358525.73285714287|\n",
            "|Adm, SFGH Medical...|   349378.3085714286|\n",
            "|Dep Chf Of Dept (...|          343062.124|\n",
            "|Asst Chf Of Dept ...|   342554.1519047619|\n",
            "|   District Attorney|  332883.26714285713|\n",
            "|       Port Director|  329839.98000000004|\n",
            "|       City Attorney|   313132.2557142857|\n",
            "|Executive Contrac...|  311706.67055555555|\n",
            "|Emergency Medical...|  308902.96714285715|\n",
            "|     Public Defender|  301998.38714285713|\n",
            "|Court Executive O...|   299572.4985714285|\n",
            "|Human Resources D...|           295481.29|\n",
            "|Battlion Chief, F...|  293472.31103448273|\n",
            "|Forensic Toxicolo...|           293040.69|\n",
            "+--------------------+--------------------+\n",
            "only showing top 20 rows\n",
            "\n"
          ]
        }
      ],
      "source": [
        "df2.groupBy(\"Job\").agg(avg(\"Total_Compensation\").alias(\"Average Compensation\")).sort(desc(\"Average Compensation\")).show()"
      ]
    },
    {
      "cell_type": "code",
      "source": [
        "fig = plt.figure(figsize =(60, 20))\n",
        "\n",
        "jobDF = df2[['Job','Total_Compensation']].groupby('Job').agg(avg('Total_Compensation').alias(\"Average Compensation\")).sort(desc(\"Average Compensation\")).toPandas().head(20)\n",
        "# display the top 10 organisation group \n",
        "plt.bar(jobDF[\"Job\"], jobDF[\"Average Compensation\"])"
      ],
      "metadata": {
        "colab": {
          "base_uri": "https://localhost:8080/",
          "height": 443
        },
        "id": "iX6dpWo7b4b8",
        "outputId": "372b3903-7f47-45a9-fd4e-99d987ebadca"
      },
      "execution_count": 34,
      "outputs": [
        {
          "output_type": "execute_result",
          "data": {
            "text/plain": [
              "<BarContainer object of 20 artists>"
            ]
          },
          "metadata": {},
          "execution_count": 34
        },
        {
          "output_type": "display_data",
          "data": {
            "text/plain": [
              "<Figure size 4320x1440 with 1 Axes>"
            ],
            "image/png": "[encoded data removed]"
          },
          "metadata": {
            "needs_background": "light"
          }
        }
      ]
    },
    {
      "cell_type": "code",
      "source": [
        "#Chief of police is the top compensating Job from above."
      ],
      "metadata": {
        "id": "zC6ZKFbZVXjA"
      },
      "execution_count": 35,
      "outputs": []
    },
    {
      "cell_type": "markdown",
      "metadata": {
        "application/vnd.databricks.v1+cell": {
          "inputWidgets": {},
          "nuid": "1ffac626-b0f9-45f4-b780-c1c06edf6dd1",
          "showTitle": false,
          "title": ""
        },
        "id": "txsSQSvNQP0h"
      },
      "source": [
        "#### 5.3. Check Correlation of Target Variable with Other Independent Variables. Plot Heatmap"
      ]
    },
    {
      "cell_type": "code",
      "execution_count": 36,
      "metadata": {
        "collapsed": true,
        "id": "NFo9Q21lQP0h"
      },
      "outputs": [],
      "source": [
        "#converting the dataframe to pandas dataframe\n",
        "df3=df2.toPandas()"
      ]
    },
    {
      "cell_type": "code",
      "source": [
        "#checking the data\n",
        "df3.head()"
      ],
      "metadata": {
        "colab": {
          "base_uri": "https://localhost:8080/",
          "height": 461
        },
        "id": "VnOj9C21tJ2Z",
        "outputId": "354289d1-c8d9-4683-851f-7f664de6590b"
      },
      "execution_count": 37,
      "outputs": [
        {
          "output_type": "execute_result",
          "data": {
            "text/plain": [
              "  Year_Type    Organization_Group                      Department  \\\n",
              "0    Fiscal     Public Protection               District Attorney   \n",
              "1  Calendar  Culture & Recreation                 Arts Commission   \n",
              "2  Calendar      Community Health                   Public Health   \n",
              "3    Fiscal      Community Health                   Public Health   \n",
              "4    Fiscal  Culture & Recreation  Recreation and Park Commission   \n",
              "\n",
              "                               Union                     Job_Family  \\\n",
              "0   Municipal Attorneys' Association                  Legal & Court   \n",
              "1   SEIU - Miscellaneous, Local 1021  Budget, Admn & Stats Analysis   \n",
              "2  SEIU - Human Services, Local 1021                 Human Services   \n",
              "3  SEIU - Health Workers, Local 1021               Medical & Dental   \n",
              "4   SEIU - Miscellaneous, Local 1021                     Recreation   \n",
              "\n",
              "                           Job   Salaries  Overtime  Other_Salaries  \\\n",
              "0    Attorney (Civil/Criminal)  114473.16       0.0         1500.00   \n",
              "1  Senior Management Assistant   84077.11       0.0            0.00   \n",
              "2           Eligibility Worker    9980.17       0.0          798.43   \n",
              "3                  Dental Aide    2873.41       0.0            0.00   \n",
              "4            Recreation Leader    6701.85       0.0          176.70   \n",
              "\n",
              "   Retirement  Health_Dental  Other_Benefits  Total_Compensation  \n",
              "0    21025.98       13068.80         9368.71           159436.65  \n",
              "1    16587.30       12457.73         6931.91           120054.05  \n",
              "2        0.00        2254.93          835.11            13868.64  \n",
              "3        0.00         622.63          222.46             3718.50  \n",
              "4        0.00        2711.66          538.43            10128.64  "
            ],
            "text/html": [
              "\n",
              "  <div id=\"df-f94ddc4f-90af-4cae-ba59-5ce3eaa42ef6\">\n",
              "    <div class=\"colab-df-container\">\n",
              "      <div>\n",
              "<style scoped>\n",
              "    .dataframe tbody tr th:only-of-type {\n",
              "        vertical-align: middle;\n",
              "    }\n",
              "\n",
              "    .dataframe tbody tr th {\n",
              "        vertical-align: top;\n",
              "    }\n",
              "\n",
              "    .dataframe thead th {\n",
              "        text-align: right;\n",
              "    }\n",
              "</style>\n",
              "<table border=\"1\" class=\"dataframe\">\n",
              "  <thead>\n",
              "    <tr style=\"text-align: right;\">\n",
              "      <th></th>\n",
              "      <th>Year_Type</th>\n",
              "      <th>Organization_Group</th>\n",
              "      <th>Department</th>\n",
              "      <th>Union</th>\n",
              "      <th>Job_Family</th>\n",
              "      <th>Job</th>\n",
              "      <th>Salaries</th>\n",
              "      <th>Overtime</th>\n",
              "      <th>Other_Salaries</th>\n",
              "      <th>Retirement</th>\n",
              "      <th>Health_Dental</th>\n",
              "      <th>Other_Benefits</th>\n",
              "      <th>Total_Compensation</th>\n",
              "    </tr>\n",
              "  </thead>\n",
              "  <tbody>\n",
              "    <tr>\n",
              "      <th>0</th>\n",
              "      <td>Fiscal</td>\n",
              "      <td>Public Protection</td>\n",
              "      <td>District Attorney</td>\n",
              "      <td>Municipal Attorneys' Association</td>\n",
              "      <td>Legal &amp; Court</td>\n",
              "      <td>Attorney (Civil/Criminal)</td>\n",
              "      <td>114473.16</td>\n",
              "      <td>0.0</td>\n",
              "      <td>1500.00</td>\n",
              "      <td>21025.98</td>\n",
              "      <td>13068.80</td>\n",
              "      <td>9368.71</td>\n",
              "      <td>159436.65</td>\n",
              "    </tr>\n",
              "    <tr>\n",
              "      <th>1</th>\n",
              "      <td>Calendar</td>\n",
              "      <td>Culture &amp; Recreation</td>\n",
              "      <td>Arts Commission</td>\n",
              "      <td>SEIU - Miscellaneous, Local 1021</td>\n",
              "      <td>Budget, Admn &amp; Stats Analysis</td>\n",
              "      <td>Senior Management Assistant</td>\n",
              "      <td>84077.11</td>\n",
              "      <td>0.0</td>\n",
              "      <td>0.00</td>\n",
              "      <td>16587.30</td>\n",
              "      <td>12457.73</td>\n",
              "      <td>6931.91</td>\n",
              "      <td>120054.05</td>\n",
              "    </tr>\n",
              "    <tr>\n",
              "      <th>2</th>\n",
              "      <td>Calendar</td>\n",
              "      <td>Community Health</td>\n",
              "      <td>Public Health</td>\n",
              "      <td>SEIU - Human Services, Local 1021</td>\n",
              "      <td>Human Services</td>\n",
              "      <td>Eligibility Worker</td>\n",
              "      <td>9980.17</td>\n",
              "      <td>0.0</td>\n",
              "      <td>798.43</td>\n",
              "      <td>0.00</td>\n",
              "      <td>2254.93</td>\n",
              "      <td>835.11</td>\n",
              "      <td>13868.64</td>\n",
              "    </tr>\n",
              "    <tr>\n",
              "      <th>3</th>\n",
              "      <td>Fiscal</td>\n",
              "      <td>Community Health</td>\n",
              "      <td>Public Health</td>\n",
              "      <td>SEIU - Health Workers, Local 1021</td>\n",
              "      <td>Medical &amp; Dental</td>\n",
              "      <td>Dental Aide</td>\n",
              "      <td>2873.41</td>\n",
              "      <td>0.0</td>\n",
              "      <td>0.00</td>\n",
              "      <td>0.00</td>\n",
              "      <td>622.63</td>\n",
              "      <td>222.46</td>\n",
              "      <td>3718.50</td>\n",
              "    </tr>\n",
              "    <tr>\n",
              "      <th>4</th>\n",
              "      <td>Fiscal</td>\n",
              "      <td>Culture &amp; Recreation</td>\n",
              "      <td>Recreation and Park Commission</td>\n",
              "      <td>SEIU - Miscellaneous, Local 1021</td>\n",
              "      <td>Recreation</td>\n",
              "      <td>Recreation Leader</td>\n",
              "      <td>6701.85</td>\n",
              "      <td>0.0</td>\n",
              "      <td>176.70</td>\n",
              "      <td>0.00</td>\n",
              "      <td>2711.66</td>\n",
              "      <td>538.43</td>\n",
              "      <td>10128.64</td>\n",
              "    </tr>\n",
              "  </tbody>\n",
              "</table>\n",
              "</div>\n",
              "      <button class=\"colab-df-convert\" onclick=\"convertToInteractive('df-f94ddc4f-90af-4cae-ba59-5ce3eaa42ef6')\"\n",
              "              title=\"Convert this dataframe to an interactive table.\"\n",
              "              style=\"display:none;\">\n",
              "        \n",
              "  <svg xmlns=\"http://www.w3.org/2000/svg\" height=\"24px\"viewBox=\"0 0 24 24\"\n",
              "       width=\"24px\">\n",
              "    <path d=\"M0 0h24v24H0V0z\" fill=\"none\"/>\n",
              "    <path d=\"M18.56 5.44l.94 2.06.94-2.06 2.06-.94-2.06-.94-.94-2.06-.94 2.06-2.06.94zm-11 1L8.5 8.5l.94-2.06 2.06-.94-2.06-.94L8.5 2.5l-.94 2.06-2.06.94zm10 10l.94 2.06.94-2.06 2.06-.94-2.06-.94-.94-2.06-.94 2.06-2.06.94z\"/><path d=\"M17.41 7.96l-1.37-1.37c-.4-.4-.92-.59-1.43-.59-.52 0-1.04.2-1.43.59L10.3 9.45l-7.72 7.72c-.78.78-.78 2.05 0 2.83L4 21.41c.39.39.9.59 1.41.59.51 0 1.02-.2 1.41-.59l7.78-7.78 2.81-2.81c.8-.78.8-2.07 0-2.86zM5.41 20L4 18.59l7.72-7.72 1.47 1.35L5.41 20z\"/>\n",
              "  </svg>\n",
              "      </button>\n",
              "      \n",
              "  <style>\n",
              "    .colab-df-container {\n",
              "      display:flex;\n",
              "      flex-wrap:wrap;\n",
              "      gap: 12px;\n",
              "    }\n",
              "\n",
              "    .colab-df-convert {\n",
              "      background-color: #E8F0FE;\n",
              "      border: none;\n",
              "      border-radius: 50%;\n",
              "      cursor: pointer;\n",
              "      display: none;\n",
              "      fill: #1967D2;\n",
              "      height: 32px;\n",
              "      padding: 0 0 0 0;\n",
              "      width: 32px;\n",
              "    }\n",
              "\n",
              "    .colab-df-convert:hover {\n",
              "      background-color: #E2EBFA;\n",
              "      box-shadow: 0px 1px 2px rgba(60, 64, 67, 0.3), 0px 1px 3px 1px rgba(60, 64, 67, 0.15);\n",
              "      fill: #174EA6;\n",
              "    }\n",
              "\n",
              "    [theme=dark] .colab-df-convert {\n",
              "      background-color: #3B4455;\n",
              "      fill: #D2E3FC;\n",
              "    }\n",
              "\n",
              "    [theme=dark] .colab-df-convert:hover {\n",
              "      background-color: #434B5C;\n",
              "      box-shadow: 0px 1px 3px 1px rgba(0, 0, 0, 0.15);\n",
              "      filter: drop-shadow(0px 1px 2px rgba(0, 0, 0, 0.3));\n",
              "      fill: #FFFFFF;\n",
              "    }\n",
              "  </style>\n",
              "\n",
              "      <script>\n",
              "        const buttonEl =\n",
              "          document.querySelector('#df-f94ddc4f-90af-4cae-ba59-5ce3eaa42ef6 button.colab-df-convert');\n",
              "        buttonEl.style.display =\n",
              "          google.colab.kernel.accessAllowed ? 'block' : 'none';\n",
              "\n",
              "        async function convertToInteractive(key) {\n",
              "          const element = document.querySelector('#df-f94ddc4f-90af-4cae-ba59-5ce3eaa42ef6');\n",
              "          const dataTable =\n",
              "            await google.colab.kernel.invokeFunction('convertToInteractive',\n",
              "                                                     [key], {});\n",
              "          if (!dataTable) return;\n",
              "\n",
              "          const docLinkHtml = 'Like what you see? Visit the ' +\n",
              "            '<a target=\"_blank\" href=https://colab.research.google.com/notebooks/data_table.ipynb>data table notebook</a>'\n",
              "            + ' to learn more about interactive tables.';\n",
              "          element.innerHTML = '';\n",
              "          dataTable['output_type'] = 'display_data';\n",
              "          await google.colab.output.renderOutput(dataTable, element);\n",
              "          const docLink = document.createElement('div');\n",
              "          docLink.innerHTML = docLinkHtml;\n",
              "          element.appendChild(docLink);\n",
              "        }\n",
              "      </script>\n",
              "    </div>\n",
              "  </div>\n",
              "  "
            ]
          },
          "metadata": {},
          "execution_count": 37
        }
      ]
    },
    {
      "cell_type": "code",
      "source": [
        "df3.info()"
      ],
      "metadata": {
        "colab": {
          "base_uri": "https://localhost:8080/"
        },
        "id": "ZriHRvKGyk9P",
        "outputId": "ad0701f3-3b60-446b-aadb-60827e35dade"
      },
      "execution_count": 38,
      "outputs": [
        {
          "output_type": "stream",
          "name": "stdout",
          "text": [
            "<class 'pandas.core.frame.DataFrame'>\n",
            "RangeIndex: 290346 entries, 0 to 290345\n",
            "Data columns (total 13 columns):\n",
            " #   Column              Non-Null Count   Dtype  \n",
            "---  ------              --------------   -----  \n",
            " 0   Year_Type           290346 non-null  object \n",
            " 1   Organization_Group  290346 non-null  object \n",
            " 2   Department          290346 non-null  object \n",
            " 3   Union               290346 non-null  object \n",
            " 4   Job_Family          290346 non-null  object \n",
            " 5   Job                 290346 non-null  object \n",
            " 6   Salaries            290346 non-null  float64\n",
            " 7   Overtime            290346 non-null  float64\n",
            " 8   Other_Salaries      290346 non-null  float64\n",
            " 9   Retirement          290346 non-null  float64\n",
            " 10  Health_Dental       290346 non-null  float64\n",
            " 11  Other_Benefits      290346 non-null  float64\n",
            " 12  Total_Compensation  290346 non-null  float64\n",
            "dtypes: float64(7), object(6)\n",
            "memory usage: 28.8+ MB\n"
          ]
        }
      ]
    },
    {
      "cell_type": "code",
      "source": [
        "from sklearn.preprocessing import LabelEncoder\n",
        "objcols=['Year_Type','Organization_Group','Department','Union','Job_Family','Job']\n",
        "le = LabelEncoder()\n",
        "df3[objcols] = df3[objcols].apply(LabelEncoder().fit_transform)\n"
      ],
      "metadata": {
        "id": "GBYSZtzL6o1I"
      },
      "execution_count": 39,
      "outputs": []
    },
    {
      "cell_type": "code",
      "source": [
        "df3.head()"
      ],
      "metadata": {
        "colab": {
          "base_uri": "https://localhost:8080/",
          "height": 270
        },
        "id": "Fb6EqQHB7O1O",
        "outputId": "0996683e-5c02-4a23-e79d-9b75e50a29cc"
      },
      "execution_count": 40,
      "outputs": [
        {
          "output_type": "execute_result",
          "data": {
            "text/plain": [
              "   Year_Type  Organization_Group  Department  Union  Job_Family  Job  \\\n",
              "0          1                   5          19     33          25  116   \n",
              "1          0                   1           3     58           7  889   \n",
              "2          0                   0          45     57          21  381   \n",
              "3          1                   0          45     56          29  306   \n",
              "4          1                   1          47     58          46  831   \n",
              "\n",
              "    Salaries  Overtime  Other_Salaries  Retirement  Health_Dental  \\\n",
              "0  114473.16       0.0         1500.00    21025.98       13068.80   \n",
              "1   84077.11       0.0            0.00    16587.30       12457.73   \n",
              "2    9980.17       0.0          798.43        0.00        2254.93   \n",
              "3    2873.41       0.0            0.00        0.00         622.63   \n",
              "4    6701.85       0.0          176.70        0.00        2711.66   \n",
              "\n",
              "   Other_Benefits  Total_Compensation  \n",
              "0         9368.71           159436.65  \n",
              "1         6931.91           120054.05  \n",
              "2          835.11            13868.64  \n",
              "3          222.46             3718.50  \n",
              "4          538.43            10128.64  "
            ],
            "text/html": [
              "\n",
              "  <div id=\"df-74a84402-62bf-4267-8b80-faf4b7fa15b8\">\n",
              "    <div class=\"colab-df-container\">\n",
              "      <div>\n",
              "<style scoped>\n",
              "    .dataframe tbody tr th:only-of-type {\n",
              "        vertical-align: middle;\n",
              "    }\n",
              "\n",
              "    .dataframe tbody tr th {\n",
              "        vertical-align: top;\n",
              "    }\n",
              "\n",
              "    .dataframe thead th {\n",
              "        text-align: right;\n",
              "    }\n",
              "</style>\n",
              "<table border=\"1\" class=\"dataframe\">\n",
              "  <thead>\n",
              "    <tr style=\"text-align: right;\">\n",
              "      <th></th>\n",
              "      <th>Year_Type</th>\n",
              "      <th>Organization_Group</th>\n",
              "      <th>Department</th>\n",
              "      <th>Union</th>\n",
              "      <th>Job_Family</th>\n",
              "      <th>Job</th>\n",
              "      <th>Salaries</th>\n",
              "      <th>Overtime</th>\n",
              "      <th>Other_Salaries</th>\n",
              "      <th>Retirement</th>\n",
              "      <th>Health_Dental</th>\n",
              "      <th>Other_Benefits</th>\n",
              "      <th>Total_Compensation</th>\n",
              "    </tr>\n",
              "  </thead>\n",
              "  <tbody>\n",
              "    <tr>\n",
              "      <th>0</th>\n",
              "      <td>1</td>\n",
              "      <td>5</td>\n",
              "      <td>19</td>\n",
              "      <td>33</td>\n",
              "      <td>25</td>\n",
              "      <td>116</td>\n",
              "      <td>114473.16</td>\n",
              "      <td>0.0</td>\n",
              "      <td>1500.00</td>\n",
              "      <td>21025.98</td>\n",
              "      <td>13068.80</td>\n",
              "      <td>9368.71</td>\n",
              "      <td>159436.65</td>\n",
              "    </tr>\n",
              "    <tr>\n",
              "      <th>1</th>\n",
              "      <td>0</td>\n",
              "      <td>1</td>\n",
              "      <td>3</td>\n",
              "      <td>58</td>\n",
              "      <td>7</td>\n",
              "      <td>889</td>\n",
              "      <td>84077.11</td>\n",
              "      <td>0.0</td>\n",
              "      <td>0.00</td>\n",
              "      <td>16587.30</td>\n",
              "      <td>12457.73</td>\n",
              "      <td>6931.91</td>\n",
              "      <td>120054.05</td>\n",
              "    </tr>\n",
              "    <tr>\n",
              "      <th>2</th>\n",
              "      <td>0</td>\n",
              "      <td>0</td>\n",
              "      <td>45</td>\n",
              "      <td>57</td>\n",
              "      <td>21</td>\n",
              "      <td>381</td>\n",
              "      <td>9980.17</td>\n",
              "      <td>0.0</td>\n",
              "      <td>798.43</td>\n",
              "      <td>0.00</td>\n",
              "      <td>2254.93</td>\n",
              "      <td>835.11</td>\n",
              "      <td>13868.64</td>\n",
              "    </tr>\n",
              "    <tr>\n",
              "      <th>3</th>\n",
              "      <td>1</td>\n",
              "      <td>0</td>\n",
              "      <td>45</td>\n",
              "      <td>56</td>\n",
              "      <td>29</td>\n",
              "      <td>306</td>\n",
              "      <td>2873.41</td>\n",
              "      <td>0.0</td>\n",
              "      <td>0.00</td>\n",
              "      <td>0.00</td>\n",
              "      <td>622.63</td>\n",
              "      <td>222.46</td>\n",
              "      <td>3718.50</td>\n",
              "    </tr>\n",
              "    <tr>\n",
              "      <th>4</th>\n",
              "      <td>1</td>\n",
              "      <td>1</td>\n",
              "      <td>47</td>\n",
              "      <td>58</td>\n",
              "      <td>46</td>\n",
              "      <td>831</td>\n",
              "      <td>6701.85</td>\n",
              "      <td>0.0</td>\n",
              "      <td>176.70</td>\n",
              "      <td>0.00</td>\n",
              "      <td>2711.66</td>\n",
              "      <td>538.43</td>\n",
              "      <td>10128.64</td>\n",
              "    </tr>\n",
              "  </tbody>\n",
              "</table>\n",
              "</div>\n",
              "      <button class=\"colab-df-convert\" onclick=\"convertToInteractive('df-74a84402-62bf-4267-8b80-faf4b7fa15b8')\"\n",
              "              title=\"Convert this dataframe to an interactive table.\"\n",
              "              style=\"display:none;\">\n",
              "        \n",
              "  <svg xmlns=\"http://www.w3.org/2000/svg\" height=\"24px\"viewBox=\"0 0 24 24\"\n",
              "       width=\"24px\">\n",
              "    <path d=\"M0 0h24v24H0V0z\" fill=\"none\"/>\n",
              "    <path d=\"M18.56 5.44l.94 2.06.94-2.06 2.06-.94-2.06-.94-.94-2.06-.94 2.06-2.06.94zm-11 1L8.5 8.5l.94-2.06 2.06-.94-2.06-.94L8.5 2.5l-.94 2.06-2.06.94zm10 10l.94 2.06.94-2.06 2.06-.94-2.06-.94-.94-2.06-.94 2.06-2.06.94z\"/><path d=\"M17.41 7.96l-1.37-1.37c-.4-.4-.92-.59-1.43-.59-.52 0-1.04.2-1.43.59L10.3 9.45l-7.72 7.72c-.78.78-.78 2.05 0 2.83L4 21.41c.39.39.9.59 1.41.59.51 0 1.02-.2 1.41-.59l7.78-7.78 2.81-2.81c.8-.78.8-2.07 0-2.86zM5.41 20L4 18.59l7.72-7.72 1.47 1.35L5.41 20z\"/>\n",
              "  </svg>\n",
              "      </button>\n",
              "      \n",
              "  <style>\n",
              "    .colab-df-container {\n",
              "      display:flex;\n",
              "      flex-wrap:wrap;\n",
              "      gap: 12px;\n",
              "    }\n",
              "\n",
              "    .colab-df-convert {\n",
              "      background-color: #E8F0FE;\n",
              "      border: none;\n",
              "      border-radius: 50%;\n",
              "      cursor: pointer;\n",
              "      display: none;\n",
              "      fill: #1967D2;\n",
              "      height: 32px;\n",
              "      padding: 0 0 0 0;\n",
              "      width: 32px;\n",
              "    }\n",
              "\n",
              "    .colab-df-convert:hover {\n",
              "      background-color: #E2EBFA;\n",
              "      box-shadow: 0px 1px 2px rgba(60, 64, 67, 0.3), 0px 1px 3px 1px rgba(60, 64, 67, 0.15);\n",
              "      fill: #174EA6;\n",
              "    }\n",
              "\n",
              "    [theme=dark] .colab-df-convert {\n",
              "      background-color: #3B4455;\n",
              "      fill: #D2E3FC;\n",
              "    }\n",
              "\n",
              "    [theme=dark] .colab-df-convert:hover {\n",
              "      background-color: #434B5C;\n",
              "      box-shadow: 0px 1px 3px 1px rgba(0, 0, 0, 0.15);\n",
              "      filter: drop-shadow(0px 1px 2px rgba(0, 0, 0, 0.3));\n",
              "      fill: #FFFFFF;\n",
              "    }\n",
              "  </style>\n",
              "\n",
              "      <script>\n",
              "        const buttonEl =\n",
              "          document.querySelector('#df-74a84402-62bf-4267-8b80-faf4b7fa15b8 button.colab-df-convert');\n",
              "        buttonEl.style.display =\n",
              "          google.colab.kernel.accessAllowed ? 'block' : 'none';\n",
              "\n",
              "        async function convertToInteractive(key) {\n",
              "          const element = document.querySelector('#df-74a84402-62bf-4267-8b80-faf4b7fa15b8');\n",
              "          const dataTable =\n",
              "            await google.colab.kernel.invokeFunction('convertToInteractive',\n",
              "                                                     [key], {});\n",
              "          if (!dataTable) return;\n",
              "\n",
              "          const docLinkHtml = 'Like what you see? Visit the ' +\n",
              "            '<a target=\"_blank\" href=https://colab.research.google.com/notebooks/data_table.ipynb>data table notebook</a>'\n",
              "            + ' to learn more about interactive tables.';\n",
              "          element.innerHTML = '';\n",
              "          dataTable['output_type'] = 'display_data';\n",
              "          await google.colab.output.renderOutput(dataTable, element);\n",
              "          const docLink = document.createElement('div');\n",
              "          docLink.innerHTML = docLinkHtml;\n",
              "          element.appendChild(docLink);\n",
              "        }\n",
              "      </script>\n",
              "    </div>\n",
              "  </div>\n",
              "  "
            ]
          },
          "metadata": {},
          "execution_count": 40
        }
      ]
    },
    {
      "cell_type": "code",
      "source": [
        "#plotting heat map from seaborn using pandas dataframe\n",
        "import seaborn as sns\n",
        "import matplotlib.pyplot as plt\n",
        "\n",
        "plt.figure(figsize=(16,5))\n",
        "corr = df3.corr()\n",
        "sns.heatmap(corr, cmap=\"Blues\", annot=True)"
      ],
      "metadata": {
        "colab": {
          "base_uri": "https://localhost:8080/",
          "height": 431
        },
        "id": "bCusu9DvtSR9",
        "outputId": "c083f5eb-6ebb-47cc-f929-4b85246b864e"
      },
      "execution_count": 41,
      "outputs": [
        {
          "output_type": "execute_result",
          "data": {
            "text/plain": [
              "<matplotlib.axes._subplots.AxesSubplot at 0x7fe51aa925b0>"
            ]
          },
          "metadata": {},
          "execution_count": 41
        },
        {
          "output_type": "display_data",
          "data": {
            "text/plain": [
              "<Figure size 1152x360 with 2 Axes>"
            ],
            "image/png": "[encoded data removed]"
          },
          "metadata": {
            "needs_background": "light"
          }
        }
      ]
    },
    {
      "cell_type": "markdown",
      "metadata": {
        "application/vnd.databricks.v1+cell": {
          "inputWidgets": {},
          "nuid": "9f43beda-e255-4431-a35a-bb05a1f1e670",
          "showTitle": false,
          "title": ""
        },
        "id": "NiZX_Be8QP0h"
      },
      "source": [
        "### 6. Perform necessary data pre-processing and divide the data into train and test set"
      ]
    },
    {
      "cell_type": "markdown",
      "source": [
        "### 6.1 Categorise the attributes into its type (Use one hot encoding wherever required)"
      ],
      "metadata": {
        "id": "6p5egOcB-VnG"
      }
    },
    {
      "cell_type": "code",
      "execution_count": 42,
      "metadata": {
        "id": "O5SYln1OQP0i",
        "colab": {
          "base_uri": "https://localhost:8080/"
        },
        "outputId": "b20e850b-13ff-42d6-fad2-3f90357c134d"
      },
      "outputs": [
        {
          "output_type": "stream",
          "name": "stdout",
          "text": [
            "root\n",
            " |-- Year_Type: string (nullable = true)\n",
            " |-- Organization_Group: string (nullable = true)\n",
            " |-- Department: string (nullable = true)\n",
            " |-- Union: string (nullable = true)\n",
            " |-- Job_Family: string (nullable = true)\n",
            " |-- Job: string (nullable = true)\n",
            " |-- Salaries: double (nullable = true)\n",
            " |-- Overtime: double (nullable = true)\n",
            " |-- Other_Salaries: double (nullable = true)\n",
            " |-- Retirement: double (nullable = true)\n",
            " |-- Health_Dental: double (nullable = true)\n",
            " |-- Other_Benefits: double (nullable = true)\n",
            " |-- Total_Compensation: double (nullable = true)\n",
            "\n"
          ]
        }
      ],
      "source": [
        "df2.printSchema()"
      ]
    },
    {
      "cell_type": "code",
      "source": [
        "catcols=[]\n",
        "for col_name in df2.dtypes:\n",
        "  # print(col_name)\n",
        "  if col_name[1] == 'string':\n",
        "    catcols.append(col_name[0])\n",
        "print(catcols)"
      ],
      "metadata": {
        "colab": {
          "base_uri": "https://localhost:8080/"
        },
        "id": "9JyaPrZs20M1",
        "outputId": "ea62e46f-0b4c-4108-d87e-087d18b93cf4"
      },
      "execution_count": 43,
      "outputs": [
        {
          "output_type": "stream",
          "name": "stdout",
          "text": [
            "['Year_Type', 'Organization_Group', 'Department', 'Union', 'Job_Family', 'Job']\n"
          ]
        }
      ]
    },
    {
      "cell_type": "code",
      "source": [
        "from pyspark.ml.feature import StringIndexer\n",
        "my_dict = {}\n",
        "\n",
        "stringindexerobjs = []\n",
        "\n",
        "stringindexeroutputnames = []\n",
        "oheoutputnames = []\n",
        "\n",
        "for col_name in catcols:\n",
        "    my_dict[col_name+\"_index_obj\"] = StringIndexer() \\\n",
        "    .setHandleInvalid(\"skip\") \\\n",
        "    .setInputCol(col_name) \\\n",
        "    .setOutputCol(col_name+\"_indexed\")\n",
        "    \n",
        "    stringindexerobjs.append(my_dict.get(col_name+\"_index_obj\"))\n",
        "    stringindexeroutputnames.append(col_name+\"_indexed\")\n",
        "    oheoutputnames.append(col_name+\"_ohe\")\n"
      ],
      "metadata": {
        "id": "EY9pNoNL3Nxw"
      },
      "execution_count": 44,
      "outputs": []
    },
    {
      "cell_type": "code",
      "source": [
        "print(oheoutputnames)\n",
        "print(len(oheoutputnames))\n",
        "print(stringindexeroutputnames)\n",
        "print(len(stringindexeroutputnames))"
      ],
      "metadata": {
        "colab": {
          "base_uri": "https://localhost:8080/"
        },
        "id": "60awek8C4CJA",
        "outputId": "1691f035-a45c-4065-be1d-14af8a8c6355"
      },
      "execution_count": 45,
      "outputs": [
        {
          "output_type": "stream",
          "name": "stdout",
          "text": [
            "['Year_Type_ohe', 'Organization_Group_ohe', 'Department_ohe', 'Union_ohe', 'Job_Family_ohe', 'Job_ohe']\n",
            "6\n",
            "['Year_Type_indexed', 'Organization_Group_indexed', 'Department_indexed', 'Union_indexed', 'Job_Family_indexed', 'Job_indexed']\n",
            "6\n"
          ]
        }
      ]
    },
    {
      "cell_type": "code",
      "source": [
        "from pyspark.ml.feature import OneHotEncoder\n",
        "from pyspark.ml.feature import VectorAssembler"
      ],
      "metadata": {
        "id": "wySMw31n4HMk"
      },
      "execution_count": 46,
      "outputs": []
    },
    {
      "cell_type": "code",
      "source": [
        "encoder = OneHotEncoder() \\\n",
        ".setInputCols(stringindexeroutputnames) \\\n",
        ".setOutputCols(oheoutputnames)\n"
      ],
      "metadata": {
        "id": "wOor6D_54KvJ"
      },
      "execution_count": 47,
      "outputs": []
    },
    {
      "cell_type": "code",
      "source": [
        "print(doublecols)\n",
        "print(oheoutputnames)\n",
        "print(len(df2.columns))"
      ],
      "metadata": {
        "colab": {
          "base_uri": "https://localhost:8080/"
        },
        "id": "hDT1882D_nQo",
        "outputId": "6ba62da0-3aea-4b2d-80a6-b9a6c685adee"
      },
      "execution_count": 48,
      "outputs": [
        {
          "output_type": "stream",
          "name": "stdout",
          "text": [
            "['Salaries', 'Overtime', 'Other_Salaries', 'Retirement', 'Health_Dental', 'Other_Benefits', 'Total_Compensation']\n",
            "['Year_Type_ohe', 'Organization_Group_ohe', 'Department_ohe', 'Union_ohe', 'Job_Family_ohe', 'Job_ohe']\n",
            "13\n"
          ]
        }
      ]
    },
    {
      "cell_type": "code",
      "source": [
        "assembler = VectorAssembler() \\\n",
        ".setHandleInvalid(\"skip\") \\\n",
        ".setInputCols(doublecols+oheoutputnames) \\\n",
        ".setOutputCol(\"unscaled_features\")"
      ],
      "metadata": {
        "id": "DwaRLjVb5X1k"
      },
      "execution_count": 49,
      "outputs": []
    },
    {
      "cell_type": "code",
      "source": [
        "from pyspark.ml.feature import StandardScaler"
      ],
      "metadata": {
        "id": "zVg5oXwI5hnu"
      },
      "execution_count": 50,
      "outputs": []
    },
    {
      "cell_type": "code",
      "source": [
        "scaler = StandardScaler() \\\n",
        ".setInputCol(\"unscaled_features\") \\\n",
        ".setOutputCol(\"features\")"
      ],
      "metadata": {
        "id": "eUxypDgQ5klj"
      },
      "execution_count": 51,
      "outputs": []
    },
    {
      "cell_type": "code",
      "source": [
        "targetcol=['Total_Compensation']"
      ],
      "metadata": {
        "id": "5MZgbjVt7Vny"
      },
      "execution_count": 52,
      "outputs": []
    },
    {
      "cell_type": "code",
      "source": [
        "from pyspark.ml.regression import LinearRegression\n",
        "estimator = LinearRegression(featuresCol='features',labelCol = targetcol[0], maxIter=10, regParam=0.3, elasticNetParam=0.8)"
      ],
      "metadata": {
        "id": "FnvrF6KZ7ilb"
      },
      "execution_count": 53,
      "outputs": []
    },
    {
      "cell_type": "code",
      "source": [
        "from pyspark.ml import Pipeline"
      ],
      "metadata": {
        "id": "2wgnGNxz54W7"
      },
      "execution_count": 54,
      "outputs": []
    },
    {
      "cell_type": "code",
      "source": [
        "pipeline_obj = Pipeline().setStages(stringindexerobjs + [encoder, assembler, scaler, estimator])"
      ],
      "metadata": {
        "id": "Hif4001C6Bme"
      },
      "execution_count": 55,
      "outputs": []
    },
    {
      "cell_type": "markdown",
      "source": [
        "### 6.2 Split the data into train and test set"
      ],
      "metadata": {
        "id": "rrGRAFAG-YLX"
      }
    },
    {
      "cell_type": "code",
      "source": [
        "train_df, test_df = df2.randomSplit([.8, .2], seed =142)"
      ],
      "metadata": {
        "id": "K7phDDJU-sav"
      },
      "execution_count": 56,
      "outputs": []
    },
    {
      "cell_type": "code",
      "source": [
        "print(train_df.count())"
      ],
      "metadata": {
        "colab": {
          "base_uri": "https://localhost:8080/"
        },
        "id": "txJYUtti8fbN",
        "outputId": "84b841b8-0832-4ca7-bd40-176f18353ad9"
      },
      "execution_count": 57,
      "outputs": [
        {
          "output_type": "stream",
          "name": "stdout",
          "text": [
            "232082\n"
          ]
        }
      ]
    },
    {
      "cell_type": "code",
      "source": [
        "print(test_df.count())"
      ],
      "metadata": {
        "colab": {
          "base_uri": "https://localhost:8080/"
        },
        "id": "AmozTsry8l3w",
        "outputId": "5ec7b553-f995-45b2-ddec-423d0aa2e9f9"
      },
      "execution_count": 58,
      "outputs": [
        {
          "output_type": "stream",
          "name": "stdout",
          "text": [
            "58264\n"
          ]
        }
      ]
    },
    {
      "cell_type": "markdown",
      "metadata": {
        "application/vnd.databricks.v1+cell": {
          "inputWidgets": {},
          "nuid": "114ba72f-16e5-4657-bbaf-969596890cca",
          "showTitle": false,
          "title": ""
        },
        "id": "XSZnLJe5QP0i"
      },
      "source": [
        "### 7. Fit Linear Regression model on the data and check its performance"
      ]
    },
    {
      "cell_type": "code",
      "execution_count": 59,
      "metadata": {
        "collapsed": true,
        "id": "bjXSlK7OQP0i"
      },
      "outputs": [],
      "source": [
        "pipeline_model = pipeline_obj.fit(train_df)"
      ]
    },
    {
      "cell_type": "code",
      "source": [
        "predictiondf = pipeline_model.transform(test_df)"
      ],
      "metadata": {
        "id": "M0EyJFX6B9PW"
      },
      "execution_count": 60,
      "outputs": []
    },
    {
      "cell_type": "code",
      "source": [
        "predictiondf.select(\"Total_Compensation\", \"prediction\").show()"
      ],
      "metadata": {
        "colab": {
          "base_uri": "https://localhost:8080/"
        },
        "id": "3T-9IauiCDvL",
        "outputId": "2b8ec9cd-e5ed-47e1-da4a-f54279d71dd2"
      },
      "execution_count": 61,
      "outputs": [
        {
          "output_type": "stream",
          "name": "stdout",
          "text": [
            "+------------------+------------------+\n",
            "|Total_Compensation|        prediction|\n",
            "+------------------+------------------+\n",
            "|         124607.74|126418.71007364374|\n",
            "|         155018.23|157445.57176821982|\n",
            "|         156641.66|  157122.121598074|\n",
            "|          24468.48|   18936.529547949|\n",
            "|            198.54|-130.3169819146309|\n",
            "|           1290.48| 683.0309752338887|\n",
            "|           1340.12| 720.0141522932047|\n",
            "|            211.04|1862.8492935136003|\n",
            "|          77101.69| 77050.97351154123|\n",
            "|         139747.94|138661.89106379196|\n",
            "|         352931.01| 343743.8199214448|\n",
            "|         422799.94|  421518.315437618|\n",
            "|         115875.92| 119157.2337563161|\n",
            "|          38412.91|43888.297192826096|\n",
            "|         229539.07|228762.17191448997|\n",
            "|          98180.31| 99984.68131269675|\n",
            "|         118337.82|118265.41818808038|\n",
            "|         158915.01| 160311.4188481508|\n",
            "|         163201.87|163250.00981100783|\n",
            "|         170283.42|172994.13573256097|\n",
            "+------------------+------------------+\n",
            "only showing top 20 rows\n",
            "\n"
          ]
        }
      ]
    },
    {
      "cell_type": "markdown",
      "metadata": {
        "application/vnd.databricks.v1+cell": {
          "inputWidgets": {},
          "nuid": "51e30540-ef2e-4239-b323-ba406674e87b",
          "showTitle": false,
          "title": ""
        },
        "id": "yb53Fy9yQP0i"
      },
      "source": [
        "### 8. Fit Decision Tree Regression model on the data and check its performance (Optional)"
      ]
    },
    {
      "cell_type": "code",
      "execution_count": 62,
      "metadata": {
        "collapsed": true,
        "id": "XVl80s2AQP0i"
      },
      "outputs": [],
      "source": [
        "from pyspark.ml.regression import DecisionTreeRegressor\n",
        "dtestimator = DecisionTreeRegressor(featuresCol ='features', labelCol = 'Total_Compensation')\n"
      ]
    },
    {
      "cell_type": "code",
      "source": [
        "pipeline_obj = Pipeline().setStages(stringindexerobjs + [encoder, assembler, scaler, dtestimator])"
      ],
      "metadata": {
        "id": "GTAX5fdvDH2w"
      },
      "execution_count": 63,
      "outputs": []
    },
    {
      "cell_type": "code",
      "source": [
        "pipeline_model = pipeline_obj.fit(train_df)"
      ],
      "metadata": {
        "id": "nwTA7TyoDZ4g"
      },
      "execution_count": 64,
      "outputs": []
    },
    {
      "cell_type": "code",
      "source": [
        "predictiondf = pipeline_model.transform(test_df)"
      ],
      "metadata": {
        "id": "aI-QpgFuD80P"
      },
      "execution_count": 65,
      "outputs": []
    },
    {
      "cell_type": "code",
      "source": [
        "predictiondf.select(\"Total_Compensation\", \"prediction\").show()"
      ],
      "metadata": {
        "colab": {
          "base_uri": "https://localhost:8080/"
        },
        "id": "k3B6B7PWEAX_",
        "outputId": "8424319e-792c-482c-e63f-777ebdc5bb27"
      },
      "execution_count": 66,
      "outputs": [
        {
          "output_type": "stream",
          "name": "stdout",
          "text": [
            "+------------------+------------------+\n",
            "|Total_Compensation|        prediction|\n",
            "+------------------+------------------+\n",
            "|         124607.74|124786.42368582175|\n",
            "|         155018.23| 158904.7069001751|\n",
            "|         156641.66| 158904.7069001751|\n",
            "|          24468.48|25114.271799234928|\n",
            "|            198.54|1729.0780170031867|\n",
            "|           1290.48|1729.0780170031867|\n",
            "|           1340.12|1729.0780170031867|\n",
            "|            211.04|1729.0780170031867|\n",
            "|          77101.69| 80343.10402679513|\n",
            "|         139747.94|142935.75163453093|\n",
            "|         352931.01|272406.47034278454|\n",
            "|         422799.94|272406.47034278454|\n",
            "|         115875.92|116724.54061142069|\n",
            "|          38412.91| 42901.99468806924|\n",
            "|         229539.07|230090.02388075754|\n",
            "|          98180.31|100242.64484460447|\n",
            "|         118337.82|116724.54061142069|\n",
            "|         158915.01| 158904.7069001751|\n",
            "|         163201.87| 167517.4797662149|\n",
            "|         170283.42| 167517.4797662149|\n",
            "+------------------+------------------+\n",
            "only showing top 20 rows\n",
            "\n"
          ]
        }
      ]
    },
    {
      "cell_type": "markdown",
      "metadata": {
        "application/vnd.databricks.v1+cell": {
          "inputWidgets": {},
          "nuid": "addb469a-37a3-47e8-8e65-4972a889cc4f",
          "showTitle": false,
          "title": ""
        },
        "id": "NPagi7ftQP0i"
      },
      "source": [
        "### Model Persistence (Optional)\n",
        "Model persistence means saving your model to a disk. After you finalize your model for prediction depending upon the performance, you need to save the model to the disk. Let's say, you finalize 'lrmodel' to be used for in production environment i.e. in your application. We use the following code to save it."
      ]
    },
    {
      "cell_type": "code",
      "source": [],
      "metadata": {
        "id": "hOBq6d0HDT1A"
      },
      "execution_count": null,
      "outputs": []
    },
    {
      "cell_type": "markdown",
      "source": [
        "##### Saving the model"
      ],
      "metadata": {
        "id": "Id1_cG1yb_7n"
      }
    },
    {
      "cell_type": "code",
      "execution_count": 67,
      "metadata": {
        "application/vnd.databricks.v1+cell": {
          "inputWidgets": {},
          "nuid": "be6d56cb-e99e-4b37-993b-ef66c9bf7963",
          "showTitle": false,
          "title": ""
        },
        "id": "VHHfHnTgQP0i"
      },
      "outputs": [],
      "source": [
        "# use save() method to save the model\n",
        "# write().overwrite() is usually used when you want to replace the older model with a new one\n",
        "# It might happen that you wish to retrain your model and save it at the same the place\n",
        "pipeline_model.write().overwrite().save(\"/models/dtmodel\")"
      ]
    },
    {
      "cell_type": "markdown",
      "source": [
        "##### Loading the model"
      ],
      "metadata": {
        "id": "VzsuP83tcEVN"
      }
    },
    {
      "cell_type": "code",
      "source": [
        "# import PipelineModel from pyspark.ml package\n",
        "from pyspark.ml import PipelineModel\n",
        "\n",
        "# load the model from the location it is stored\n",
        "# The loaded model acts as PipelineModel\n",
        "pipemodel = PipelineModel.load(\"/models/dtmodel\")\n",
        "\n",
        "# use the PipelineModel object to perform prediciton on test data. \n",
        "# Use .transform() to perfrom prediction\n",
        "prediction = pipemodel.transform(test_df)\n",
        "\n",
        "# print the results\n",
        "prediction.select('Total_Compensation', 'prediction').show(5)"
      ],
      "metadata": {
        "id": "273mlbIPb8rY",
        "colab": {
          "base_uri": "https://localhost:8080/"
        },
        "outputId": "46c65cb2-b07c-4144-8967-250d8ddcc3f9"
      },
      "execution_count": 68,
      "outputs": [
        {
          "output_type": "stream",
          "name": "stdout",
          "text": [
            "+------------------+------------------+\n",
            "|Total_Compensation|        prediction|\n",
            "+------------------+------------------+\n",
            "|         124607.74|124786.42368582175|\n",
            "|         155018.23| 158904.7069001751|\n",
            "|         156641.66| 158904.7069001751|\n",
            "|          24468.48|25114.271799234928|\n",
            "|            198.54|1729.0780170031867|\n",
            "+------------------+------------------+\n",
            "only showing top 5 rows\n",
            "\n"
          ]
        }
      ]
    },
    {
      "cell_type": "code",
      "source": [],
      "metadata": {
        "id": "2knhX-_sFHu9"
      },
      "execution_count": null,
      "outputs": []
    }
  ],
  "metadata": {
    "application/vnd.databricks.v1+notebook": {
      "dashboards": [],
      "language": "python",
      "notebookMetadata": {
        "pythonIndentUnit": 2
      },
      "notebookName": "In-Class Exercise (Spark ML)",
      "notebookOrigID": 3796726700441172,
      "widgets": {}
    },
    "kernelspec": {
      "display_name": "Python 3",
      "language": "python",
      "name": "python3"
    },
    "language_info": {
      "codemirror_mode": {
        "name": "ipython",
        "version": 3
      },
      "file_extension": ".py",
      "mimetype": "text/x-python",
      "name": "python",
      "nbconvert_exporter": "python",
      "pygments_lexer": "ipython3",
      "version": "3.6.3"
    },
    "colab": {
      "provenance": []
    }
  },
  "nbformat": 4,
  "nbformat_minor": 0
}