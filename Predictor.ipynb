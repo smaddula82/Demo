{
 "cells": [
  {
   "cell_type": "code",
   "execution_count": 1,
   "id": "ee459ffc",
   "metadata": {},
   "outputs": [
    {
     "data": {
      "text/plain": [
       "<function findspark.init(spark_home=None, python_path=None, edit_rc=False, edit_profile=False)>"
      ]
     },
     "execution_count": 1,
     "metadata": {},
     "output_type": "execute_result"
    }
   ],
   "source": [
    "import findspark\n",
    "findspark.init"
   ]
  },
  {
   "cell_type": "code",
   "execution_count": 2,
   "id": "91351e06",
   "metadata": {},
   "outputs": [
    {
     "name": "stdout",
     "output_type": "stream",
     "text": [
      "23/01/30 12:08:28 WARN Utils: Your hostname, subbu resolves to a loopback address: 127.0.1.1; using 10.0.2.15 instead (on interface enp0s3)\n",
      "23/01/30 12:08:28 WARN Utils: Set SPARK_LOCAL_IP if you need to bind to another address\n"
     ]
    },
    {
     "name": "stderr",
     "output_type": "stream",
     "text": [
      "Setting default log level to \"WARN\".\n",
      "To adjust logging level use sc.setLogLevel(newLevel). For SparkR, use setLogLevel(newLevel).\n"
     ]
    },
    {
     "name": "stdout",
     "output_type": "stream",
     "text": [
      "23/01/30 12:08:30 WARN NativeCodeLoader: Unable to load native-hadoop library for your platform... using builtin-java classes where applicable\n"
     ]
    }
   ],
   "source": [
    "from pyspark.sql import SparkSession\n",
    "spark = SparkSession.builder.appName(\"HousePricePredict\").getOrCreate() "
   ]
  },
  {
   "cell_type": "code",
   "execution_count": 31,
   "id": "5553df5d",
   "metadata": {},
   "outputs": [],
   "source": [
    "from pyspark import SparkConf, SparkContext\n",
    "from pyspark.sql import SQLContext\n",
    "\n",
    "from pyspark.sql.types import *\n",
    "import pyspark.sql.functions as F\n",
    "from pyspark.sql.functions import udf, col\n",
    "\n",
    "from pyspark.ml.regression import LinearRegression\n",
    "from pyspark.mllib.evaluation import RegressionMetrics\n",
    "\n",
    "from pyspark.ml.tuning import ParamGridBuilder, CrossValidator, CrossValidatorModel\n",
    "from pyspark.ml.feature import VectorAssembler, StandardScaler\n",
    "from pyspark.ml.evaluation import RegressionEvaluator\n",
    "from pyspark.ml.feature import StringIndexer\n",
    "from pyspark.ml.feature import OneHotEncoder\n",
    "from pyspark.ml.feature import VectorAssembler\n",
    "from pyspark.ml.feature import StandardScaler"
   ]
  },
  {
   "cell_type": "code",
   "execution_count": 3,
   "id": "d323c720",
   "metadata": {},
   "outputs": [
    {
     "name": "stderr",
     "output_type": "stream",
     "text": [
      "WARNING: An illegal reflective access operation has occurred                    \n",
      "WARNING: Illegal reflective access by org.apache.spark.util.SizeEstimator$ (file:/home/subbu/.local/lib/python3.10/site-packages/pyspark/jars/spark-core_2.12-3.3.1.jar) to field java.math.BigInteger.mag\n",
      "WARNING: Please consider reporting this to the maintainers of org.apache.spark.util.SizeEstimator$\n",
      "WARNING: Use --illegal-access=warn to enable warnings of further illegal reflective access operations\n",
      "WARNING: All illegal access operations will be denied in a future release\n",
      "                                                                                \r"
     ]
    }
   ],
   "source": []
  },
  {
   "cell_type": "code",
   "execution_count": 6,
   "id": "e6e5995e",
   "metadata": {},
   "outputs": [
    {
     "name": "stdout",
     "output_type": "stream",
     "text": [
      "23/01/30 12:22:11 WARN package: Truncated the string representation of a plan since it was too large. This behavior can be adjusted by setting 'spark.sql.debug.maxToStringFields'.\n"
     ]
    },
    {
     "data": {
      "text/plain": [
       "DataFrame[1stFlrSF: string, 2ndFlrSF: string, 3SsnPorch: string, Alley: string, BedroomAbvGr: string, BldgType: string, BsmtCond: string, BsmtExposure: string, BsmtFinSF1: string, BsmtFinSF2: string, BsmtFinType1: string, BsmtFinType2: string, BsmtFullBath: string, BsmtHalfBath: string, BsmtQual: string, BsmtUnfSF: string, CentralAir: string, Condition1: string, Condition2: string, Electrical: string, EnclosedPorch: string, ExterCond: string, ExterQual: string, Exterior1st: string, Exterior2nd: string, Fence: string, FireplaceQu: string, Fireplaces: string, Foundation: string, FullBath: string, Functional: string, GarageArea: string, GarageCars: string, GarageCond: string, GarageFinish: string, GarageQual: string, GarageType: string, GarageYrBlt: string, GrLivArea: string, HalfBath: string, Heating: string, HeatingQC: string, HouseStyle: string, Id: string, KitchenAbvGr: string, KitchenQual: string, LandContour: string, LandSlope: string, LotArea: string, LotConfig: string, LotFrontage: string, LotShape: string, LowQualFinSF: string, MSSubClass: string, MSZoning: string, MasVnrArea: string, MasVnrType: string, MiscFeature: string, MiscVal: string, MoSold: string, Neighborhood: string, OpenPorchSF: string, OverallCond: string, OverallQual: string, PavedDrive: string, PoolArea: string, PoolQC: string, RoofMatl: string, RoofStyle: string, SaleCondition: string, SaleType: string, ScreenPorch: string, Street: string, TotRmsAbvGrd: string, TotalBsmtSF: string, Utilities: string, WoodDeckSF: string, YearBuilt: string, YearRemodAdd: string, YrSold: string]"
      ]
     },
     "execution_count": 6,
     "metadata": {},
     "output_type": "execute_result"
    }
   ],
   "source": [
    "stack_overflow_data = 'data.json'\n",
    "df = spark.read.json(stack_overflow_data)\n",
    "df.persist()"
   ]
  },
  {
   "cell_type": "code",
   "execution_count": 9,
   "id": "eead3080",
   "metadata": {},
   "outputs": [
    {
     "data": {
      "text/html": [
       "<div>\n",
       "<style scoped>\n",
       "    .dataframe tbody tr th:only-of-type {\n",
       "        vertical-align: middle;\n",
       "    }\n",
       "\n",
       "    .dataframe tbody tr th {\n",
       "        vertical-align: top;\n",
       "    }\n",
       "\n",
       "    .dataframe thead th {\n",
       "        text-align: right;\n",
       "    }\n",
       "</style>\n",
       "<table border=\"1\" class=\"dataframe\">\n",
       "  <thead>\n",
       "    <tr style=\"text-align: right;\">\n",
       "      <th></th>\n",
       "      <th>1stFlrSF</th>\n",
       "      <th>2ndFlrSF</th>\n",
       "      <th>3SsnPorch</th>\n",
       "      <th>Alley</th>\n",
       "      <th>BedroomAbvGr</th>\n",
       "      <th>BldgType</th>\n",
       "      <th>BsmtCond</th>\n",
       "      <th>BsmtExposure</th>\n",
       "      <th>BsmtFinSF1</th>\n",
       "      <th>BsmtFinSF2</th>\n",
       "      <th>...</th>\n",
       "      <th>SaleType</th>\n",
       "      <th>ScreenPorch</th>\n",
       "      <th>Street</th>\n",
       "      <th>TotRmsAbvGrd</th>\n",
       "      <th>TotalBsmtSF</th>\n",
       "      <th>Utilities</th>\n",
       "      <th>WoodDeckSF</th>\n",
       "      <th>YearBuilt</th>\n",
       "      <th>YearRemodAdd</th>\n",
       "      <th>YrSold</th>\n",
       "    </tr>\n",
       "  </thead>\n",
       "  <tbody>\n",
       "    <tr>\n",
       "      <th>0</th>\n",
       "      <td>1402</td>\n",
       "      <td>823</td>\n",
       "      <td>0</td>\n",
       "      <td>NA</td>\n",
       "      <td>4</td>\n",
       "      <td>1Fam</td>\n",
       "      <td>TA</td>\n",
       "      <td>No</td>\n",
       "      <td>1129</td>\n",
       "      <td>0</td>\n",
       "      <td>...</td>\n",
       "      <td>WD</td>\n",
       "      <td>0</td>\n",
       "      <td>Pave</td>\n",
       "      <td>7</td>\n",
       "      <td>1390</td>\n",
       "      <td>AllPub</td>\n",
       "      <td>198</td>\n",
       "      <td>1992</td>\n",
       "      <td>1993</td>\n",
       "      <td>2010</td>\n",
       "    </tr>\n",
       "  </tbody>\n",
       "</table>\n",
       "<p>1 rows × 80 columns</p>\n",
       "</div>"
      ],
      "text/plain": [
       "  1stFlrSF 2ndFlrSF 3SsnPorch Alley BedroomAbvGr BldgType BsmtCond  \\\n",
       "0     1402      823         0    NA            4     1Fam       TA   \n",
       "\n",
       "  BsmtExposure BsmtFinSF1 BsmtFinSF2  ... SaleType ScreenPorch Street  \\\n",
       "0           No       1129          0  ...       WD           0   Pave   \n",
       "\n",
       "  TotRmsAbvGrd TotalBsmtSF Utilities WoodDeckSF YearBuilt YearRemodAdd YrSold  \n",
       "0            7        1390    AllPub        198      1992         1993   2010  \n",
       "\n",
       "[1 rows x 80 columns]"
      ]
     },
     "execution_count": 9,
     "metadata": {},
     "output_type": "execute_result"
    }
   ],
   "source": [
    "df.toPandas()"
   ]
  },
  {
   "cell_type": "code",
   "execution_count": 10,
   "id": "8d2b6ecc",
   "metadata": {},
   "outputs": [
    {
     "name": "stdout",
     "output_type": "stream",
     "text": [
      "root\n",
      " |-- 1stFlrSF: string (nullable = true)\n",
      " |-- 2ndFlrSF: string (nullable = true)\n",
      " |-- 3SsnPorch: string (nullable = true)\n",
      " |-- Alley: string (nullable = true)\n",
      " |-- BedroomAbvGr: string (nullable = true)\n",
      " |-- BldgType: string (nullable = true)\n",
      " |-- BsmtCond: string (nullable = true)\n",
      " |-- BsmtExposure: string (nullable = true)\n",
      " |-- BsmtFinSF1: string (nullable = true)\n",
      " |-- BsmtFinSF2: string (nullable = true)\n",
      " |-- BsmtFinType1: string (nullable = true)\n",
      " |-- BsmtFinType2: string (nullable = true)\n",
      " |-- BsmtFullBath: string (nullable = true)\n",
      " |-- BsmtHalfBath: string (nullable = true)\n",
      " |-- BsmtQual: string (nullable = true)\n",
      " |-- BsmtUnfSF: string (nullable = true)\n",
      " |-- CentralAir: string (nullable = true)\n",
      " |-- Condition1: string (nullable = true)\n",
      " |-- Condition2: string (nullable = true)\n",
      " |-- Electrical: string (nullable = true)\n",
      " |-- EnclosedPorch: string (nullable = true)\n",
      " |-- ExterCond: string (nullable = true)\n",
      " |-- ExterQual: string (nullable = true)\n",
      " |-- Exterior1st: string (nullable = true)\n",
      " |-- Exterior2nd: string (nullable = true)\n",
      " |-- Fence: string (nullable = true)\n",
      " |-- FireplaceQu: string (nullable = true)\n",
      " |-- Fireplaces: string (nullable = true)\n",
      " |-- Foundation: string (nullable = true)\n",
      " |-- FullBath: string (nullable = true)\n",
      " |-- Functional: string (nullable = true)\n",
      " |-- GarageArea: string (nullable = true)\n",
      " |-- GarageCars: string (nullable = true)\n",
      " |-- GarageCond: string (nullable = true)\n",
      " |-- GarageFinish: string (nullable = true)\n",
      " |-- GarageQual: string (nullable = true)\n",
      " |-- GarageType: string (nullable = true)\n",
      " |-- GarageYrBlt: string (nullable = true)\n",
      " |-- GrLivArea: string (nullable = true)\n",
      " |-- HalfBath: string (nullable = true)\n",
      " |-- Heating: string (nullable = true)\n",
      " |-- HeatingQC: string (nullable = true)\n",
      " |-- HouseStyle: string (nullable = true)\n",
      " |-- Id: string (nullable = true)\n",
      " |-- KitchenAbvGr: string (nullable = true)\n",
      " |-- KitchenQual: string (nullable = true)\n",
      " |-- LandContour: string (nullable = true)\n",
      " |-- LandSlope: string (nullable = true)\n",
      " |-- LotArea: string (nullable = true)\n",
      " |-- LotConfig: string (nullable = true)\n",
      " |-- LotFrontage: string (nullable = true)\n",
      " |-- LotShape: string (nullable = true)\n",
      " |-- LowQualFinSF: string (nullable = true)\n",
      " |-- MSSubClass: string (nullable = true)\n",
      " |-- MSZoning: string (nullable = true)\n",
      " |-- MasVnrArea: string (nullable = true)\n",
      " |-- MasVnrType: string (nullable = true)\n",
      " |-- MiscFeature: string (nullable = true)\n",
      " |-- MiscVal: string (nullable = true)\n",
      " |-- MoSold: string (nullable = true)\n",
      " |-- Neighborhood: string (nullable = true)\n",
      " |-- OpenPorchSF: string (nullable = true)\n",
      " |-- OverallCond: string (nullable = true)\n",
      " |-- OverallQual: string (nullable = true)\n",
      " |-- PavedDrive: string (nullable = true)\n",
      " |-- PoolArea: string (nullable = true)\n",
      " |-- PoolQC: string (nullable = true)\n",
      " |-- RoofMatl: string (nullable = true)\n",
      " |-- RoofStyle: string (nullable = true)\n",
      " |-- SaleCondition: string (nullable = true)\n",
      " |-- SaleType: string (nullable = true)\n",
      " |-- ScreenPorch: string (nullable = true)\n",
      " |-- Street: string (nullable = true)\n",
      " |-- TotRmsAbvGrd: string (nullable = true)\n",
      " |-- TotalBsmtSF: string (nullable = true)\n",
      " |-- Utilities: string (nullable = true)\n",
      " |-- WoodDeckSF: string (nullable = true)\n",
      " |-- YearBuilt: string (nullable = true)\n",
      " |-- YearRemodAdd: string (nullable = true)\n",
      " |-- YrSold: string (nullable = true)\n",
      "\n"
     ]
    }
   ],
   "source": [
    "df.printSchema()"
   ]
  },
  {
   "cell_type": "code",
   "execution_count": 34,
   "id": "34a8fc35",
   "metadata": {},
   "outputs": [],
   "source": [
    "df = df.withColumn(\"LotFrontage\", F.when(F.col(\"LotFrontage\") == 'NA',70).otherwise(F.col(\"LotFrontage\"))) \\\n",
    ".withColumn(\"LotFrontage\", F.col(\"LotFrontage\").cast(\"int\")) \\\n",
    ".withColumn(\"MasVnrArea\", F.when(F.col(\"MasVnrArea\") == 'NA',104).otherwise(F.col(\"MasVnrArea\"))) \\\n",
    ".withColumn(\"MasVnrArea\", F.col(\"MasVnrArea\").cast(\"int\")) \\\n",
    ".withColumn(\"GarageYrBlt\", F.when(F.col(\"GarageYrBlt\") == 'NA',1979).otherwise(F.col(\"GarageYrBlt\"))) \\\n",
    ".withColumn(\"GarageYrBlt\", F.col(\"GarageYrBlt\").cast(\"int\")) \\\n",
    ".withColumn(\"BsmtFinSF1\", F.when(F.col(\"BsmtFinSF1\") == 'NA',441).otherwise(F.col(\"BsmtFinSF1\"))) \\\n",
    ".withColumn(\"BsmtFinSF1\", F.col(\"BsmtFinSF1\").cast(\"int\")) \\\n",
    ".withColumn(\"BsmtFinSF2\", F.when(F.col(\"BsmtFinSF2\") == 'NA',50).otherwise(F.col(\"BsmtFinSF2\"))) \\\n",
    ".withColumn(\"BsmtFinSF2\", F.col(\"BsmtFinSF2\").cast(\"int\")) \\\n",
    ".withColumn(\"BsmtUnfSF\", F.when(F.col(\"BsmtUnfSF\") == 'NA',561).otherwise(F.col(\"BsmtUnfSF\"))) \\\n",
    ".withColumn(\"BsmtUnfSF\", F.col(\"BsmtUnfSF\").cast(\"int\")) \\\n",
    ".withColumn(\"TotalBsmtSF\", F.when(F.col(\"TotalBsmtSF\") == 'NA',1052).otherwise(F.col(\"TotalBsmtSF\"))) \\\n",
    ".withColumn(\"TotalBsmtSF\", F.col(\"TotalBsmtSF\").cast(\"int\")) \\\n",
    ".withColumn(\"BsmtFullBath\", F.when(F.col(\"BsmtFullBath\") == 'NA',0.43).otherwise(F.col(\"BsmtFullBath\"))) \\\n",
    ".withColumn(\"BsmtFullBath\", F.col(\"BsmtFullBath\").cast(\"float\")) \\\n",
    ".withColumn(\"BsmtHalfBath\", F.when(F.col(\"BsmtHalfBath\") == 'NA',0.06).otherwise(F.col(\"BsmtHalfBath\"))) \\\n",
    ".withColumn(\"BsmtHalfBath\", F.col(\"BsmtHalfBath\").cast(\"float\")) \\\n",
    ".withColumn(\"GarageCars\", F.when(F.col(\"GarageCars\") == 'NA',2).otherwise(F.col(\"GarageCars\"))) \\\n",
    ".withColumn(\"GarageCars\", F.col(\"GarageCars\").cast(\"int\")) \\\n",
    ".withColumn(\"GarageArea\", F.when(F.col(\"GarageArea\") == 'NA',473).otherwise(F.col(\"GarageArea\"))) \\\n",
    ".withColumn(\"GarageArea\", F.col(\"GarageArea\").cast(\"int\"))"
   ]
  },
  {
   "cell_type": "code",
   "execution_count": 20,
   "id": "43cc1727",
   "metadata": {},
   "outputs": [
    {
     "name": "stdout",
     "output_type": "stream",
     "text": [
      "80\n"
     ]
    }
   ],
   "source": [
    "print(len(df.columns))"
   ]
  },
  {
   "cell_type": "code",
   "execution_count": 36,
   "id": "a2be3d0c",
   "metadata": {},
   "outputs": [
    {
     "name": "stdout",
     "output_type": "stream",
     "text": [
      "root\n",
      " |-- 1stFlrSF: string (nullable = true)\n",
      " |-- 2ndFlrSF: string (nullable = true)\n",
      " |-- 3SsnPorch: string (nullable = true)\n",
      " |-- Alley: string (nullable = true)\n",
      " |-- BedroomAbvGr: string (nullable = true)\n",
      " |-- BldgType: string (nullable = true)\n",
      " |-- BsmtCond: string (nullable = true)\n",
      " |-- BsmtExposure: string (nullable = true)\n",
      " |-- BsmtFinSF1: integer (nullable = true)\n",
      " |-- BsmtFinSF2: integer (nullable = true)\n",
      " |-- BsmtFinType1: string (nullable = true)\n",
      " |-- BsmtFinType2: string (nullable = true)\n",
      " |-- BsmtFullBath: float (nullable = true)\n",
      " |-- BsmtHalfBath: float (nullable = true)\n",
      " |-- BsmtQual: string (nullable = true)\n",
      " |-- BsmtUnfSF: integer (nullable = true)\n",
      " |-- CentralAir: string (nullable = true)\n",
      " |-- Condition1: string (nullable = true)\n",
      " |-- Condition2: string (nullable = true)\n",
      " |-- Electrical: string (nullable = true)\n",
      " |-- EnclosedPorch: string (nullable = true)\n",
      " |-- ExterCond: string (nullable = true)\n",
      " |-- ExterQual: string (nullable = true)\n",
      " |-- Exterior1st: string (nullable = true)\n",
      " |-- Exterior2nd: string (nullable = true)\n",
      " |-- Fence: string (nullable = true)\n",
      " |-- FireplaceQu: string (nullable = true)\n",
      " |-- Fireplaces: string (nullable = true)\n",
      " |-- Foundation: string (nullable = true)\n",
      " |-- FullBath: string (nullable = true)\n",
      " |-- Functional: string (nullable = true)\n",
      " |-- GarageArea: integer (nullable = true)\n",
      " |-- GarageCars: integer (nullable = true)\n",
      " |-- GarageCond: string (nullable = true)\n",
      " |-- GarageFinish: string (nullable = true)\n",
      " |-- GarageQual: string (nullable = true)\n",
      " |-- GarageType: string (nullable = true)\n",
      " |-- GarageYrBlt: integer (nullable = true)\n",
      " |-- GrLivArea: string (nullable = true)\n",
      " |-- HalfBath: string (nullable = true)\n",
      " |-- Heating: string (nullable = true)\n",
      " |-- HeatingQC: string (nullable = true)\n",
      " |-- HouseStyle: string (nullable = true)\n",
      " |-- Id: string (nullable = true)\n",
      " |-- KitchenAbvGr: string (nullable = true)\n",
      " |-- KitchenQual: string (nullable = true)\n",
      " |-- LandContour: string (nullable = true)\n",
      " |-- LandSlope: string (nullable = true)\n",
      " |-- LotArea: string (nullable = true)\n",
      " |-- LotConfig: string (nullable = true)\n",
      " |-- LotFrontage: integer (nullable = true)\n",
      " |-- LotShape: string (nullable = true)\n",
      " |-- LowQualFinSF: string (nullable = true)\n",
      " |-- MSSubClass: string (nullable = true)\n",
      " |-- MSZoning: string (nullable = true)\n",
      " |-- MasVnrArea: integer (nullable = true)\n",
      " |-- MasVnrType: string (nullable = true)\n",
      " |-- MiscFeature: string (nullable = true)\n",
      " |-- MiscVal: string (nullable = true)\n",
      " |-- MoSold: string (nullable = true)\n",
      " |-- Neighborhood: string (nullable = true)\n",
      " |-- OpenPorchSF: string (nullable = true)\n",
      " |-- OverallCond: string (nullable = true)\n",
      " |-- OverallQual: string (nullable = true)\n",
      " |-- PavedDrive: string (nullable = true)\n",
      " |-- PoolArea: string (nullable = true)\n",
      " |-- PoolQC: string (nullable = true)\n",
      " |-- RoofMatl: string (nullable = true)\n",
      " |-- RoofStyle: string (nullable = true)\n",
      " |-- SaleCondition: string (nullable = true)\n",
      " |-- SaleType: string (nullable = true)\n",
      " |-- ScreenPorch: string (nullable = true)\n",
      " |-- Street: string (nullable = true)\n",
      " |-- TotRmsAbvGrd: string (nullable = true)\n",
      " |-- TotalBsmtSF: integer (nullable = true)\n",
      " |-- Utilities: string (nullable = true)\n",
      " |-- WoodDeckSF: string (nullable = true)\n",
      " |-- YearBuilt: string (nullable = true)\n",
      " |-- YearRemodAdd: string (nullable = true)\n",
      " |-- YrSold: string (nullable = true)\n",
      "\n"
     ]
    }
   ],
   "source": [
    "df.printSchema()"
   ]
  },
  {
   "cell_type": "code",
   "execution_count": 56,
   "id": "2731399d",
   "metadata": {},
   "outputs": [
    {
     "name": "stderr",
     "output_type": "stream",
     "text": [
      "                                                                                \r"
     ]
    },
    {
     "data": {
      "text/html": [
       "<div>\n",
       "<style scoped>\n",
       "    .dataframe tbody tr th:only-of-type {\n",
       "        vertical-align: middle;\n",
       "    }\n",
       "\n",
       "    .dataframe tbody tr th {\n",
       "        vertical-align: top;\n",
       "    }\n",
       "\n",
       "    .dataframe thead th {\n",
       "        text-align: right;\n",
       "    }\n",
       "</style>\n",
       "<table border=\"1\" class=\"dataframe\">\n",
       "  <thead>\n",
       "    <tr style=\"text-align: right;\">\n",
       "      <th></th>\n",
       "      <th>1stFlrSF</th>\n",
       "      <th>2ndFlrSF</th>\n",
       "      <th>3SsnPorch</th>\n",
       "      <th>Alley</th>\n",
       "      <th>BedroomAbvGr</th>\n",
       "      <th>BldgType</th>\n",
       "      <th>BsmtCond</th>\n",
       "      <th>BsmtExposure</th>\n",
       "      <th>BsmtFinSF1</th>\n",
       "      <th>BsmtFinSF2</th>\n",
       "      <th>...</th>\n",
       "      <th>GarageType_ohe</th>\n",
       "      <th>GarageFinish_ohe</th>\n",
       "      <th>GarageQual_ohe</th>\n",
       "      <th>GarageCond_ohe</th>\n",
       "      <th>PavedDrive_ohe</th>\n",
       "      <th>SaleType_ohe</th>\n",
       "      <th>SaleCondition_ohe</th>\n",
       "      <th>unscaled_features</th>\n",
       "      <th>features</th>\n",
       "      <th>prediction</th>\n",
       "    </tr>\n",
       "  </thead>\n",
       "  <tbody>\n",
       "    <tr>\n",
       "      <th>0</th>\n",
       "      <td>1402</td>\n",
       "      <td>823</td>\n",
       "      <td>0</td>\n",
       "      <td>NA</td>\n",
       "      <td>4</td>\n",
       "      <td>1Fam</td>\n",
       "      <td>TA</td>\n",
       "      <td>No</td>\n",
       "      <td>1129</td>\n",
       "      <td>0</td>\n",
       "      <td>...</td>\n",
       "      <td>(1.0, 0.0, 0.0, 0.0, 0.0, 0.0)</td>\n",
       "      <td>(0.0, 1.0, 0.0)</td>\n",
       "      <td>(1.0, 0.0, 0.0, 0.0, 0.0)</td>\n",
       "      <td>(1.0, 0.0, 0.0, 0.0, 0.0)</td>\n",
       "      <td>(1.0, 0.0)</td>\n",
       "      <td>(1.0, 0.0, 0.0, 0.0, 0.0, 0.0, 0.0, 0.0)</td>\n",
       "      <td>(1.0, 0.0, 0.0, 0.0, 0.0)</td>\n",
       "      <td>(60.0, 88.0, 11134.0, 8.0, 5.0, 1992.0, 1993.0...</td>\n",
       "      <td>(1.4205519848118042, 3.8965587486001727, 1.119...</td>\n",
       "      <td>336161.618352</td>\n",
       "    </tr>\n",
       "  </tbody>\n",
       "</table>\n",
       "<p>1 rows × 149 columns</p>\n",
       "</div>"
      ],
      "text/plain": [
       "   1stFlrSF  2ndFlrSF  3SsnPorch Alley  BedroomAbvGr BldgType BsmtCond  \\\n",
       "0      1402       823          0    NA             4     1Fam       TA   \n",
       "\n",
       "  BsmtExposure  BsmtFinSF1  BsmtFinSF2  ...                  GarageType_ohe  \\\n",
       "0           No        1129           0  ...  (1.0, 0.0, 0.0, 0.0, 0.0, 0.0)   \n",
       "\n",
       "  GarageFinish_ohe             GarageQual_ohe             GarageCond_ohe  \\\n",
       "0  (0.0, 1.0, 0.0)  (1.0, 0.0, 0.0, 0.0, 0.0)  (1.0, 0.0, 0.0, 0.0, 0.0)   \n",
       "\n",
       "  PavedDrive_ohe                              SaleType_ohe  \\\n",
       "0     (1.0, 0.0)  (1.0, 0.0, 0.0, 0.0, 0.0, 0.0, 0.0, 0.0)   \n",
       "\n",
       "           SaleCondition_ohe  \\\n",
       "0  (1.0, 0.0, 0.0, 0.0, 0.0)   \n",
       "\n",
       "                                   unscaled_features  \\\n",
       "0  (60.0, 88.0, 11134.0, 8.0, 5.0, 1992.0, 1993.0...   \n",
       "\n",
       "                                            features     prediction  \n",
       "0  (1.4205519848118042, 3.8965587486001727, 1.119...  336161.618352  \n",
       "\n",
       "[1 rows x 149 columns]"
      ]
     },
     "execution_count": 56,
     "metadata": {},
     "output_type": "execute_result"
    }
   ],
   "source": [
    "from pyspark.ml import PipelineModel\n",
    "\n",
    "pipemodel = PipelineModel.load(\"/home/subbu/Documents/model\")\n",
    "\n",
    "prediction = pipemodel.transform(df)\n",
    "\n",
    "prediction.toPandas()"
   ]
  },
  {
   "cell_type": "code",
   "execution_count": 57,
   "id": "dbd0acfc",
   "metadata": {},
   "outputs": [
    {
     "name": "stdout",
     "output_type": "stream",
     "text": [
      "+-----------------+\n",
      "|       prediction|\n",
      "+-----------------+\n",
      "|336161.6183518471|\n",
      "+-----------------+\n",
      "\n"
     ]
    }
   ],
   "source": [
    "prediction.select('prediction').show()"
   ]
  },
  {
   "cell_type": "code",
   "execution_count": 37,
   "id": "65936f4e",
   "metadata": {},
   "outputs": [],
   "source": [
    "catcols=['MSZoning', 'Street', 'LotShape', 'LandContour', 'LotConfig', 'LandSlope', 'Neighborhood', 'Condition1', 'BldgType', 'HouseStyle', 'RoofStyle', 'Exterior1st', 'Exterior2nd', 'MasVnrType', 'ExterQual', 'ExterCond', 'Foundation', 'BsmtQual', 'BsmtCond', 'BsmtExposure', 'BsmtFinType1', 'BsmtFinType2', 'HeatingQC', 'CentralAir', 'Electrical', 'KitchenQual', 'Functional', 'GarageType', 'GarageFinish', 'GarageQual', 'GarageCond', 'PavedDrive', 'SaleType', 'SaleCondition']"
   ]
  },
  {
   "cell_type": "code",
   "execution_count": 38,
   "id": "b2eb35dd",
   "metadata": {},
   "outputs": [],
   "source": [
    "numcols=['MSSubClass', 'LotFrontage', 'LotArea', 'OverallQual', 'OverallCond', 'YearBuilt', 'YearRemodAdd', 'MasVnrArea', 'BsmtFinSF1', 'BsmtFinSF2', 'BsmtUnfSF', 'TotalBsmtSF', '1stFlrSF', '2ndFlrSF', 'LowQualFinSF', 'GrLivArea', 'BsmtFullBath', 'BsmtHalfBath', 'FullBath', 'HalfBath', 'BedroomAbvGr', 'KitchenAbvGr', 'TotRmsAbvGrd', 'Fireplaces', 'GarageYrBlt', 'GarageCars', 'GarageArea', 'WoodDeckSF', 'OpenPorchSF', 'EnclosedPorch', '3SsnPorch', 'ScreenPorch', 'PoolArea', 'MiscVal', 'MoSold', 'YrSold']"
   ]
  },
  {
   "cell_type": "code",
   "execution_count": 45,
   "id": "b1e53408",
   "metadata": {},
   "outputs": [],
   "source": [
    "from pyspark.sql.types import IntegerType"
   ]
  },
  {
   "cell_type": "code",
   "execution_count": 48,
   "id": "85d91458",
   "metadata": {},
   "outputs": [],
   "source": [
    "df = df.withColumn(\"MSSubClass\", col(\"MSSubClass\").cast(IntegerType()))"
   ]
  },
  {
   "cell_type": "code",
   "execution_count": 49,
   "id": "85d235ae",
   "metadata": {},
   "outputs": [
    {
     "name": "stdout",
     "output_type": "stream",
     "text": [
      "root\n",
      " |-- 1stFlrSF: string (nullable = true)\n",
      " |-- 2ndFlrSF: string (nullable = true)\n",
      " |-- 3SsnPorch: string (nullable = true)\n",
      " |-- Alley: string (nullable = true)\n",
      " |-- BedroomAbvGr: string (nullable = true)\n",
      " |-- BldgType: string (nullable = true)\n",
      " |-- BsmtCond: string (nullable = true)\n",
      " |-- BsmtExposure: string (nullable = true)\n",
      " |-- BsmtFinSF1: integer (nullable = true)\n",
      " |-- BsmtFinSF2: integer (nullable = true)\n",
      " |-- BsmtFinType1: string (nullable = true)\n",
      " |-- BsmtFinType2: string (nullable = true)\n",
      " |-- BsmtFullBath: float (nullable = true)\n",
      " |-- BsmtHalfBath: float (nullable = true)\n",
      " |-- BsmtQual: string (nullable = true)\n",
      " |-- BsmtUnfSF: integer (nullable = true)\n",
      " |-- CentralAir: string (nullable = true)\n",
      " |-- Condition1: string (nullable = true)\n",
      " |-- Condition2: string (nullable = true)\n",
      " |-- Electrical: string (nullable = true)\n",
      " |-- EnclosedPorch: string (nullable = true)\n",
      " |-- ExterCond: string (nullable = true)\n",
      " |-- ExterQual: string (nullable = true)\n",
      " |-- Exterior1st: string (nullable = true)\n",
      " |-- Exterior2nd: string (nullable = true)\n",
      " |-- Fence: string (nullable = true)\n",
      " |-- FireplaceQu: string (nullable = true)\n",
      " |-- Fireplaces: string (nullable = true)\n",
      " |-- Foundation: string (nullable = true)\n",
      " |-- FullBath: string (nullable = true)\n",
      " |-- Functional: string (nullable = true)\n",
      " |-- GarageArea: integer (nullable = true)\n",
      " |-- GarageCars: integer (nullable = true)\n",
      " |-- GarageCond: string (nullable = true)\n",
      " |-- GarageFinish: string (nullable = true)\n",
      " |-- GarageQual: string (nullable = true)\n",
      " |-- GarageType: string (nullable = true)\n",
      " |-- GarageYrBlt: integer (nullable = true)\n",
      " |-- GrLivArea: string (nullable = true)\n",
      " |-- HalfBath: string (nullable = true)\n",
      " |-- Heating: string (nullable = true)\n",
      " |-- HeatingQC: string (nullable = true)\n",
      " |-- HouseStyle: string (nullable = true)\n",
      " |-- Id: string (nullable = true)\n",
      " |-- KitchenAbvGr: string (nullable = true)\n",
      " |-- KitchenQual: string (nullable = true)\n",
      " |-- LandContour: string (nullable = true)\n",
      " |-- LandSlope: string (nullable = true)\n",
      " |-- LotArea: string (nullable = true)\n",
      " |-- LotConfig: string (nullable = true)\n",
      " |-- LotFrontage: integer (nullable = true)\n",
      " |-- LotShape: string (nullable = true)\n",
      " |-- LowQualFinSF: string (nullable = true)\n",
      " |-- MSSubClass: integer (nullable = true)\n",
      " |-- MSZoning: string (nullable = true)\n",
      " |-- MasVnrArea: integer (nullable = true)\n",
      " |-- MasVnrType: string (nullable = true)\n",
      " |-- MiscFeature: string (nullable = true)\n",
      " |-- MiscVal: string (nullable = true)\n",
      " |-- MoSold: string (nullable = true)\n",
      " |-- Neighborhood: string (nullable = true)\n",
      " |-- OpenPorchSF: string (nullable = true)\n",
      " |-- OverallCond: string (nullable = true)\n",
      " |-- OverallQual: string (nullable = true)\n",
      " |-- PavedDrive: string (nullable = true)\n",
      " |-- PoolArea: string (nullable = true)\n",
      " |-- PoolQC: string (nullable = true)\n",
      " |-- RoofMatl: string (nullable = true)\n",
      " |-- RoofStyle: string (nullable = true)\n",
      " |-- SaleCondition: string (nullable = true)\n",
      " |-- SaleType: string (nullable = true)\n",
      " |-- ScreenPorch: string (nullable = true)\n",
      " |-- Street: string (nullable = true)\n",
      " |-- TotRmsAbvGrd: string (nullable = true)\n",
      " |-- TotalBsmtSF: integer (nullable = true)\n",
      " |-- Utilities: string (nullable = true)\n",
      " |-- WoodDeckSF: string (nullable = true)\n",
      " |-- YearBuilt: string (nullable = true)\n",
      " |-- YearRemodAdd: string (nullable = true)\n",
      " |-- YrSold: string (nullable = true)\n",
      "\n"
     ]
    }
   ],
   "source": [
    "df.printSchema()"
   ]
  },
  {
   "cell_type": "code",
   "execution_count": 54,
   "id": "dee2cd82",
   "metadata": {},
   "outputs": [
    {
     "name": "stdout",
     "output_type": "stream",
     "text": [
      "MSSubClass\n",
      "LotFrontage\n",
      "LotArea\n",
      "OverallQual\n",
      "OverallCond\n",
      "YearBuilt\n",
      "YearRemodAdd\n",
      "MasVnrArea\n",
      "BsmtFinSF1\n",
      "BsmtFinSF2\n",
      "BsmtUnfSF\n",
      "TotalBsmtSF\n",
      "1stFlrSF\n",
      "2ndFlrSF\n",
      "LowQualFinSF\n",
      "GrLivArea\n",
      "BsmtFullBath\n",
      "BsmtHalfBath\n",
      "FullBath\n",
      "HalfBath\n",
      "BedroomAbvGr\n",
      "KitchenAbvGr\n",
      "TotRmsAbvGrd\n",
      "Fireplaces\n",
      "GarageYrBlt\n",
      "GarageCars\n",
      "GarageArea\n",
      "WoodDeckSF\n",
      "OpenPorchSF\n",
      "EnclosedPorch\n",
      "3SsnPorch\n",
      "ScreenPorch\n",
      "PoolArea\n",
      "MiscVal\n",
      "MoSold\n",
      "YrSold\n"
     ]
    }
   ],
   "source": [
    "for col_name in numcols:\n",
    "    print(col_name)\n",
    "    df = df.withColumn(col_name, col(col_name).cast(IntegerType()))"
   ]
  },
  {
   "cell_type": "code",
   "execution_count": 55,
   "id": "58293a56",
   "metadata": {},
   "outputs": [
    {
     "name": "stdout",
     "output_type": "stream",
     "text": [
      "root\n",
      " |-- 1stFlrSF: integer (nullable = true)\n",
      " |-- 2ndFlrSF: integer (nullable = true)\n",
      " |-- 3SsnPorch: integer (nullable = true)\n",
      " |-- Alley: string (nullable = true)\n",
      " |-- BedroomAbvGr: integer (nullable = true)\n",
      " |-- BldgType: string (nullable = true)\n",
      " |-- BsmtCond: string (nullable = true)\n",
      " |-- BsmtExposure: string (nullable = true)\n",
      " |-- BsmtFinSF1: integer (nullable = true)\n",
      " |-- BsmtFinSF2: integer (nullable = true)\n",
      " |-- BsmtFinType1: string (nullable = true)\n",
      " |-- BsmtFinType2: string (nullable = true)\n",
      " |-- BsmtFullBath: integer (nullable = true)\n",
      " |-- BsmtHalfBath: integer (nullable = true)\n",
      " |-- BsmtQual: string (nullable = true)\n",
      " |-- BsmtUnfSF: integer (nullable = true)\n",
      " |-- CentralAir: string (nullable = true)\n",
      " |-- Condition1: string (nullable = true)\n",
      " |-- Condition2: string (nullable = true)\n",
      " |-- Electrical: string (nullable = true)\n",
      " |-- EnclosedPorch: integer (nullable = true)\n",
      " |-- ExterCond: string (nullable = true)\n",
      " |-- ExterQual: string (nullable = true)\n",
      " |-- Exterior1st: string (nullable = true)\n",
      " |-- Exterior2nd: string (nullable = true)\n",
      " |-- Fence: string (nullable = true)\n",
      " |-- FireplaceQu: string (nullable = true)\n",
      " |-- Fireplaces: integer (nullable = true)\n",
      " |-- Foundation: string (nullable = true)\n",
      " |-- FullBath: integer (nullable = true)\n",
      " |-- Functional: string (nullable = true)\n",
      " |-- GarageArea: integer (nullable = true)\n",
      " |-- GarageCars: integer (nullable = true)\n",
      " |-- GarageCond: string (nullable = true)\n",
      " |-- GarageFinish: string (nullable = true)\n",
      " |-- GarageQual: string (nullable = true)\n",
      " |-- GarageType: string (nullable = true)\n",
      " |-- GarageYrBlt: integer (nullable = true)\n",
      " |-- GrLivArea: integer (nullable = true)\n",
      " |-- HalfBath: integer (nullable = true)\n",
      " |-- Heating: string (nullable = true)\n",
      " |-- HeatingQC: string (nullable = true)\n",
      " |-- HouseStyle: string (nullable = true)\n",
      " |-- Id: string (nullable = true)\n",
      " |-- KitchenAbvGr: integer (nullable = true)\n",
      " |-- KitchenQual: string (nullable = true)\n",
      " |-- LandContour: string (nullable = true)\n",
      " |-- LandSlope: string (nullable = true)\n",
      " |-- LotArea: integer (nullable = true)\n",
      " |-- LotConfig: string (nullable = true)\n",
      " |-- LotFrontage: integer (nullable = true)\n",
      " |-- LotShape: string (nullable = true)\n",
      " |-- LowQualFinSF: integer (nullable = true)\n",
      " |-- MSSubClass: integer (nullable = true)\n",
      " |-- MSZoning: string (nullable = true)\n",
      " |-- MasVnrArea: integer (nullable = true)\n",
      " |-- MasVnrType: string (nullable = true)\n",
      " |-- MiscFeature: string (nullable = true)\n",
      " |-- MiscVal: integer (nullable = true)\n",
      " |-- MoSold: integer (nullable = true)\n",
      " |-- Neighborhood: string (nullable = true)\n",
      " |-- OpenPorchSF: integer (nullable = true)\n",
      " |-- OverallCond: integer (nullable = true)\n",
      " |-- OverallQual: integer (nullable = true)\n",
      " |-- PavedDrive: string (nullable = true)\n",
      " |-- PoolArea: integer (nullable = true)\n",
      " |-- PoolQC: string (nullable = true)\n",
      " |-- RoofMatl: string (nullable = true)\n",
      " |-- RoofStyle: string (nullable = true)\n",
      " |-- SaleCondition: string (nullable = true)\n",
      " |-- SaleType: string (nullable = true)\n",
      " |-- ScreenPorch: integer (nullable = true)\n",
      " |-- Street: string (nullable = true)\n",
      " |-- TotRmsAbvGrd: integer (nullable = true)\n",
      " |-- TotalBsmtSF: integer (nullable = true)\n",
      " |-- Utilities: string (nullable = true)\n",
      " |-- WoodDeckSF: integer (nullable = true)\n",
      " |-- YearBuilt: integer (nullable = true)\n",
      " |-- YearRemodAdd: integer (nullable = true)\n",
      " |-- YrSold: integer (nullable = true)\n",
      "\n"
     ]
    }
   ],
   "source": [
    "df.printSchema()"
   ]
  },
  {
   "cell_type": "code",
   "execution_count": null,
   "id": "4e4770d9",
   "metadata": {},
   "outputs": [],
   "source": []
  }
 ],
 "metadata": {
  "kernelspec": {
   "display_name": "Python 3 (ipykernel)",
   "language": "python",
   "name": "python3"
  },
  "language_info": {
   "codemirror_mode": {
    "name": "ipython",
    "version": 3
   },
   "file_extension": ".py",
   "mimetype": "text/x-python",
   "name": "python",
   "nbconvert_exporter": "python",
   "pygments_lexer": "ipython3",
   "version": "3.10.6"
  }
 },
 "nbformat": 4,
 "nbformat_minor": 5
}
