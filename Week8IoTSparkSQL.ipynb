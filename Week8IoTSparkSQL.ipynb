{
  "cells": [
    {
      "cell_type": "code",
      "execution_count": 1,
      "id": "836316c4",
      "metadata": {
        "colab": {
          "base_uri": "https://localhost:8080/"
        },
        "id": "836316c4",
        "outputId": "5ae4cf9d-2801-4af5-f7a1-be270fec9b1e"
      },
      "outputs": [
        {
          "output_type": "stream",
          "name": "stdout",
          "text": [
            "Looking in indexes: https://pypi.org/simple, https://us-python.pkg.dev/colab-wheels/public/simple/\n",
            "Collecting pyspark\n",
            "  Downloading pyspark-3.3.1.tar.gz (281.4 MB)\n",
            "\u001b[2K     \u001b[90m━━━━━━━━━━━━━━━━━━━━━━━━━━━━━━━━━━━━━━━\u001b[0m \u001b[32m281.4/281.4 MB\u001b[0m \u001b[31m4.1 MB/s\u001b[0m eta \u001b[36m0:00:00\u001b[0m\n",
            "\u001b[?25h  Preparing metadata (setup.py) ... \u001b[?25l\u001b[?25hdone\n",
            "Collecting py4j==0.10.9.5\n",
            "  Downloading py4j-0.10.9.5-py2.py3-none-any.whl (199 kB)\n",
            "\u001b[2K     \u001b[90m━━━━━━━━━━━━━━━━━━━━━━━━━━━━━━━━━━━━━━\u001b[0m \u001b[32m199.7/199.7 KB\u001b[0m \u001b[31m10.0 MB/s\u001b[0m eta \u001b[36m0:00:00\u001b[0m\n",
            "\u001b[?25hBuilding wheels for collected packages: pyspark\n",
            "  Building wheel for pyspark (setup.py) ... \u001b[?25l\u001b[?25hdone\n",
            "  Created wheel for pyspark: filename=pyspark-3.3.1-py2.py3-none-any.whl size=281845512 sha256=dede60de598a10c53014bc279f8c5988377d2564ff2b73b4d7a2eebd0c0f70c5\n",
            "  Stored in directory: /root/.cache/pip/wheels/43/dc/11/ec201cd671da62fa9c5cc77078235e40722170ceba231d7598\n",
            "Successfully built pyspark\n",
            "Installing collected packages: py4j, pyspark\n",
            "Successfully installed py4j-0.10.9.5 pyspark-3.3.1\n"
          ]
        }
      ],
      "source": [
        "pip install pyspark"
      ]
    },
    {
      "cell_type": "code",
      "source": [
        "pip install findspark"
      ],
      "metadata": {
        "colab": {
          "base_uri": "https://localhost:8080/"
        },
        "id": "1DyyHT0v2w3d",
        "outputId": "f503ed32-8aea-4a41-bfc2-041ea085eccd"
      },
      "id": "1DyyHT0v2w3d",
      "execution_count": 2,
      "outputs": [
        {
          "output_type": "stream",
          "name": "stdout",
          "text": [
            "Looking in indexes: https://pypi.org/simple, https://us-python.pkg.dev/colab-wheels/public/simple/\n",
            "Collecting findspark\n",
            "  Downloading findspark-2.0.1-py2.py3-none-any.whl (4.4 kB)\n",
            "Installing collected packages: findspark\n",
            "Successfully installed findspark-2.0.1\n"
          ]
        }
      ]
    },
    {
      "cell_type": "code",
      "source": [
        "#Importing necessary libraries\n",
        "import findspark\n",
        "findspark.init()\n",
        "findspark.find()\n",
        "from pyspark.sql import DataFrame, SparkSession\n",
        "from pyspark import SparkFiles"
      ],
      "metadata": {
        "id": "YZ2oDOeG2eHl"
      },
      "id": "YZ2oDOeG2eHl",
      "execution_count": 6,
      "outputs": []
    },
    {
      "cell_type": "code",
      "execution_count": 4,
      "id": "d66fdeed",
      "metadata": {
        "colab": {
          "base_uri": "https://localhost:8080/",
          "height": 219
        },
        "id": "d66fdeed",
        "outputId": "dd250775-12f7-49d3-a781-34aa00922a17"
      },
      "outputs": [
        {
          "output_type": "execute_result",
          "data": {
            "text/plain": [
              "<pyspark.sql.session.SparkSession at 0x7fd43667b8e0>"
            ],
            "text/html": [
              "\n",
              "            <div>\n",
              "                <p><b>SparkSession - in-memory</b></p>\n",
              "                \n",
              "        <div>\n",
              "            <p><b>SparkContext</b></p>\n",
              "\n",
              "            <p><a href=\"http://b9434609a67e:4040\">Spark UI</a></p>\n",
              "\n",
              "            <dl>\n",
              "              <dt>Version</dt>\n",
              "                <dd><code>v3.3.1</code></dd>\n",
              "              <dt>Master</dt>\n",
              "                <dd><code>local[*]</code></dd>\n",
              "              <dt>AppName</dt>\n",
              "                <dd><code>IoT Analysis</code></dd>\n",
              "            </dl>\n",
              "        </div>\n",
              "        \n",
              "            </div>\n",
              "        "
            ]
          },
          "metadata": {},
          "execution_count": 4
        }
      ],
      "source": [
        "#Creating spark session\n",
        "spark = SparkSession \\\n",
        "       .builder \\\n",
        "       .appName(\"IoT Analysis\") \\\n",
        "       .getOrCreate()\n",
        "\n",
        "spark"
      ]
    },
    {
      "cell_type": "code",
      "execution_count": 12,
      "id": "d1a2a0e4",
      "metadata": {
        "id": "d1a2a0e4"
      },
      "outputs": [],
      "source": [
        "#Read the data into a Dataframe.\n",
        "url='https://raw.githubusercontent.com/smaddula82/Demo/master/iot_devices.json'\n",
        "spark.sparkContext.addFile(url)\n",
        "df = spark.read.json(SparkFiles.get(\"iot_devices.json\"))"
      ]
    },
    {
      "cell_type": "code",
      "execution_count": 13,
      "id": "c8494905",
      "metadata": {
        "id": "c8494905"
      },
      "outputs": [],
      "source": [
        "#Convert the Dataframe into a temporary view called iot.\n",
        "df.createOrReplaceTempView(\"iot\")"
      ]
    },
    {
      "cell_type": "code",
      "execution_count": 14,
      "id": "ef986e0c",
      "metadata": {
        "colab": {
          "base_uri": "https://localhost:8080/"
        },
        "id": "ef986e0c",
        "outputId": "674ad3a8-09f8-475a-b07e-e870a8e3b77f"
      },
      "outputs": [
        {
          "output_type": "stream",
          "name": "stdout",
          "text": [
            "+-------------+---------+----+----+-------------+---------+---------------------+--------+-------------+--------+------+---------+-------+----+-------------+\n",
            "|battery_level|c02_level|cca2|cca3|cn           |device_id|device_name          |humidity|ip           |latitude|lcd   |longitude|scale  |temp|timestamp    |\n",
            "+-------------+---------+----+----+-------------+---------+---------------------+--------+-------------+--------+------+---------+-------+----+-------------+\n",
            "|8            |868      |US  |USA |United States|1        |meter-gauge-1xbYRYcj |51      |68.161.225.1 |38.0    |green |-97.0    |Celsius|34  |1458444054093|\n",
            "|7            |1473     |NO  |NOR |Norway       |2        |sensor-pad-2n2Pea    |70      |213.161.254.1|62.47   |red   |6.15     |Celsius|11  |1458444054119|\n",
            "|2            |1556     |IT  |ITA |Italy        |3        |device-mac-36TWSKiT  |44      |88.36.5.1    |42.83   |red   |12.83    |Celsius|19  |1458444054120|\n",
            "|6            |1080     |US  |USA |United States|4        |sensor-pad-4mzWkz    |32      |66.39.173.154|44.06   |yellow|-121.32  |Celsius|28  |1458444054121|\n",
            "|4            |931      |PH  |PHL |Philippines  |5        |therm-stick-5gimpUrBB|62      |203.82.41.9  |14.58   |green |120.97   |Celsius|25  |1458444054122|\n",
            "+-------------+---------+----+----+-------------+---------+---------------------+--------+-------------+--------+------+---------+-------+----+-------------+\n",
            "only showing top 5 rows\n",
            "\n"
          ]
        }
      ],
      "source": [
        "#selecting the data from iot view\n",
        "spark.sql(\"select * from iot\").show(5, False)"
      ]
    },
    {
      "cell_type": "code",
      "execution_count": 15,
      "id": "49d705c4",
      "metadata": {
        "colab": {
          "base_uri": "https://localhost:8080/"
        },
        "id": "49d705c4",
        "outputId": "1096dc1e-830e-40b5-deee-8a96c0a44f0c"
      },
      "outputs": [
        {
          "output_type": "stream",
          "name": "stdout",
          "text": [
            "+---------+----+\n",
            "|device_id|cca3|\n",
            "+---------+----+\n",
            "|    70405| USA|\n",
            "|    14455| CHN|\n",
            "|    12100| JPN|\n",
            "|    11879| KOR|\n",
            "|     7942| DEU|\n",
            "|     6486| GBR|\n",
            "|     6041| CAN|\n",
            "|     5989| RUS|\n",
            "|     5305| FRA|\n",
            "|     3224| BRA|\n",
            "|     3119| AUS|\n",
            "|     2915| ITA|\n",
            "|     2880| SWE|\n",
            "|     2744| POL|\n",
            "|     2488| NLD|\n",
            "|     2310| ESP|\n",
            "|     2128| TWN|\n",
            "|     1867| IND|\n",
            "|     1507| CZE|\n",
            "|     1487| NOR|\n",
            "+---------+----+\n",
            "only showing top 20 rows\n",
            "\n"
          ]
        }
      ],
      "source": [
        "#Count how many devices are there from each country and display the output.\n",
        "spark.sql(\"select count(distinct device_id) as device_id,cca3 from iot group by cca3 order by device_id desc\").show()"
      ]
    },
    {
      "cell_type": "code",
      "execution_count": 16,
      "id": "24b0441b",
      "metadata": {
        "colab": {
          "base_uri": "https://localhost:8080/"
        },
        "id": "24b0441b",
        "outputId": "c0466018-c35c-4b7c-ab19-567259e30840"
      },
      "outputs": [
        {
          "output_type": "stream",
          "name": "stdout",
          "text": [
            "+----+---------+\n",
            "|cca3|c02_level|\n",
            "+----+---------+\n",
            "| BGR|     1599|\n",
            "| USA|     1599|\n",
            "| EGY|     1599|\n",
            "| TWN|     1599|\n",
            "| DEU|     1599|\n",
            "| DEU|     1599|\n",
            "| CAN|     1599|\n",
            "| JPN|     1599|\n",
            "| DEU|     1599|\n",
            "| BGR|     1599|\n",
            "| ARG|     1599|\n",
            "| GBR|     1599|\n",
            "| USA|     1599|\n",
            "| USA|     1599|\n",
            "| USA|     1599|\n",
            "| CHN|     1599|\n",
            "| KOR|     1599|\n",
            "| USA|     1599|\n",
            "| NOR|     1599|\n",
            "| POL|     1599|\n",
            "+----+---------+\n",
            "only showing top 20 rows\n",
            "\n"
          ]
        }
      ],
      "source": [
        "#Display all the countries whose carbon dioxide level is more than 1400. Sort the output in descending order.\n",
        "spark.sql(\"select cca3, c02_level from iot where c02_level > 1400 order by c02_level desc\").show()"
      ]
    },
    {
      "cell_type": "code",
      "execution_count": 17,
      "id": "b9972ec6",
      "metadata": {
        "colab": {
          "base_uri": "https://localhost:8080/"
        },
        "id": "b9972ec6",
        "outputId": "6211f119-1401-41e7-c389-6f4c4869c46d"
      },
      "outputs": [
        {
          "output_type": "stream",
          "name": "stdout",
          "text": [
            "+----+---------+\n",
            "|cca3|device_id|\n",
            "+----+---------+\n",
            "| USA|    17489|\n",
            "| CHN|     3616|\n",
            "| KOR|     2942|\n",
            "| JPN|     2935|\n",
            "| DEU|     1966|\n",
            "| GBR|     1660|\n",
            "| CAN|     1564|\n",
            "| RUS|     1508|\n",
            "| FRA|     1353|\n",
            "| BRA|      856|\n",
            "| AUS|      769|\n",
            "| SWE|      724|\n",
            "| ITA|      713|\n",
            "| POL|      664|\n",
            "| NLD|      646|\n",
            "| ESP|      586|\n",
            "| TWN|      542|\n",
            "| IND|      446|\n",
            "| NOR|      399|\n",
            "| UKR|      373|\n",
            "+----+---------+\n",
            "only showing top 20 rows\n",
            "\n"
          ]
        }
      ],
      "source": [
        "#Select all countries' devices with high-levels of C02 and group by cca3 and order by device_ids (Hint: For high CO2 level, the LCD status will be RED).\n",
        "spark.sql(\"select cca3, count(distinct device_id) as device_id from iot where lcd == 'red' group by cca3 order by device_id desc\").show()"
      ]
    },
    {
      "cell_type": "code",
      "execution_count": 18,
      "id": "8bc2d179",
      "metadata": {
        "colab": {
          "base_uri": "https://localhost:8080/"
        },
        "id": "8bc2d179",
        "outputId": "1c26cd92-5ea5-40c6-a860-5c014183b283"
      },
      "outputs": [
        {
          "output_type": "stream",
          "name": "stdout",
          "text": [
            "+----+---------+\n",
            "|cca3|device_id|\n",
            "+----+---------+\n",
            "| USA|     7043|\n",
            "| CHN|     1415|\n",
            "| KOR|     1217|\n",
            "| JPN|     1210|\n",
            "| DEU|      760|\n",
            "| GBR|      650|\n",
            "| CAN|      612|\n",
            "| RUS|      600|\n",
            "| FRA|      582|\n",
            "| BRA|      374|\n",
            "| AUS|      322|\n",
            "| SWE|      293|\n",
            "| ITA|      287|\n",
            "| POL|      278|\n",
            "| NLD|      251|\n",
            "| ESP|      223|\n",
            "| TWN|      207|\n",
            "| IND|      189|\n",
            "| UKR|      149|\n",
            "| HKG|      149|\n",
            "+----+---------+\n",
            "only showing top 20 rows\n",
            "\n"
          ]
        }
      ],
      "source": [
        "#find out all devices in countries whose batteries need replacements.Assuming battery level 0 means need replacement\n",
        "spark.sql(\"select cca3, count(distinct device_id) as device_id from iot where battery_level == 0 group by cca3 order by device_id desc\").show()"
      ]
    },
    {
      "cell_type": "code",
      "execution_count": null,
      "id": "c8cb76ce",
      "metadata": {
        "id": "c8cb76ce"
      },
      "outputs": [],
      "source": []
    }
  ],
  "metadata": {
    "kernelspec": {
      "display_name": "Python 3 (ipykernel)",
      "language": "python",
      "name": "python3"
    },
    "language_info": {
      "codemirror_mode": {
        "name": "ipython",
        "version": 3
      },
      "file_extension": ".py",
      "mimetype": "text/x-python",
      "name": "python",
      "nbconvert_exporter": "python",
      "pygments_lexer": "ipython3",
      "version": "3.10.6"
    },
    "colab": {
      "provenance": []
    }
  },
  "nbformat": 4,
  "nbformat_minor": 5
}